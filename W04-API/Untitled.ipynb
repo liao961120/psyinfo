{
 "cells": [
  {
   "cell_type": "code",
   "execution_count": 2,
   "metadata": {},
   "outputs": [
    {
     "name": "stdout",
     "output_type": "stream",
     "text": [
      "{'id': 226048661, 'title': '套房隔音太差，常常聽到鄰居的...', 'content': '我租的套房雖然是水泥隔間\\n但因為屋頂是輕鋼架所以隔音還是不太好\\n沒聽過隔壁貓叫春\\n只有一個不知道是隔壁還是樓下的女人很愛半夜唱歌\\n\\n某天被她吵得不行\\n一怒之下把wifi熱點的名字改成\\n\\nhttps://i.imgur.com/lof9lya.jpg\\n\\n\\n\\n但我晚上其實不一定在家\\n所以後來也忘了這件事\\n名字也沒改回來\\n\\n昨天晚上打電動打到一半wifi突然跳出來\\n看到這個名字我當場笑噴\\n\\nhttps://i.imgur.com/GQULLhd.jpg\\n\\n看來不只我一個人崩潰啊哈哈哈\\n這位鄰居我好想認識你喔～', 'excerpt': '我租的套房雖然是水泥隔間，但因為屋頂是輕鋼架所以隔音還是不太好，沒聽過隔壁貓叫春，只有一個不知道是隔壁還是樓下的女人很愛半夜唱歌，某天被她吵得不行，一怒之下把wifi熱點的名字改成，但我晚上其實不一定在家', 'anonymousSchool': False, 'anonymousDepartment': False, 'pinned': False, 'forumId': 'a1aaa6e6-2594-4968-b7dc-e1b14bea96f4', 'replyId': None, 'createdAt': '2017-03-25T04:32:58.141Z', 'updatedAt': '2018-07-26T00:19:20.397Z', 'commentCount': 384, 'likeCount': 44008, 'tags': ['水泥', '一怒之下', '叫春', '跳出來', '熱點', '打電動', '聽過', '隔音', '鋼架', '隔壁', '名字', '套房', '不一定', '改回來', '屋頂', '吵得', 'wifi', '隔間', '...', '是輕', '件事'], 'topics': [], 'supportedReactions': [], 'withNickname': False, 'reportReason': '', 'hiddenByAuthor': False, 'forumName': '有趣', 'forumAlias': 'funny', 'gender': 'F', 'school': '國立臺北大學', 'department': '社會工作學系', 'replyTitle': None, 'personaSubscriptable': None, 'reactions': [], 'hidden': False, 'customStyle': None, 'withImages': True, 'withVideos': False, 'media': [{'url': 'https://i.imgur.com/lof9lya.jpg'}, {'url': 'https://i.imgur.com/GQULLhd.jpg'}]}\n",
      "https://i.imgur.com/lof9lya.jpg\n"
     ]
    }
   ],
   "source": [
    "import urllib.request,json\n",
    "u='https://www.dcard.tw/_api/posts/226048661'\n",
    "r=urllib.request.Request(u,headers={'User-Agent':''})\n",
    "data=urllib.request.urlopen(r).read()\n",
    "j_data=json.loads(data.decode('utf-8'))\n",
    "print(j_data)\n",
    "print(j_data['media'][0]['url'])\n"
   ]
  }
 ],
 "metadata": {
  "kernelspec": {
   "display_name": "Python 3",
   "language": "python",
   "name": "python3"
  },
  "language_info": {
   "codemirror_mode": {
    "name": "ipython",
    "version": 3
   },
   "file_extension": ".py",
   "mimetype": "text/x-python",
   "name": "python",
   "nbconvert_exporter": "python",
   "pygments_lexer": "ipython3",
   "version": "3.6.5"
  }
 },
 "nbformat": 4,
 "nbformat_minor": 2
}
