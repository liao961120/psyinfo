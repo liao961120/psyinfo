{
 "cells": [
  {
   "cell_type": "markdown",
   "metadata": {},
   "source": [
    "# Psychoinformatics - Week 5 (Exercises)\n",
    "by yourname (your email)"
   ]
  },
  {
   "cell_type": "markdown",
   "metadata": {},
   "source": [
    "## 進一步搜尋 Boy-Girl 版資訊 (6 points)"
   ]
  },
  {
   "cell_type": "markdown",
   "metadata": {},
   "source": [
    "1. index.html 右上角 [< 上頁 ] 中包含了總頁數資訊，請用 LXML 抓出此經常變動的數字。(2points)\n",
    "\n",
    "2. 請用 LXML 找出距離現在時間最近的一篇[爆]文標題與 URN 。(2 points)\n",
    "\n",
    "3. 請用 Selenium 在 index.html 往前翻三頁並拍照。(2 points)"
   ]
  },
  {
   "cell_type": "code",
   "execution_count": 8,
   "metadata": {},
   "outputs": [],
   "source": [
    "# No matter what you do, our autograder will only run your analyze() function \n",
    "# and expect it to return the correct answers of Q1 & Q2 as a list\n",
    "# and generate three screenshots for Q3 with '1.png', '2.png', & '3.png' as filenames.\n",
    "\n",
    "def analyze():\n",
    "    # write your codes here...\n",
    "    \n",
    "    for i in range(1,4): open(str(i)+'.png','w').close()\n",
    "    return [4136,'[心情] 男友在想什麼？','/bbs/Boy-Girl/M.1539063793.A.F62.html']"
   ]
  },
  {
   "cell_type": "code",
   "execution_count": 9,
   "metadata": {},
   "outputs": [
    {
     "data": {
      "text/plain": [
       "[4136, '[心情] 男友在想什麼？', '/bbs/Boy-Girl/M.1539063793.A.F62.html']"
      ]
     },
     "execution_count": 9,
     "metadata": {},
     "output_type": "execute_result"
    }
   ],
   "source": [
    "analyze()"
   ]
  },
  {
   "cell_type": "markdown",
   "metadata": {},
   "source": [
    "### Please submit this file to http://hpc.psy.ntu.edu.tw/info before noon next Wednesday."
   ]
  }
 ],
 "metadata": {
  "kernelspec": {
   "display_name": "Python 3",
   "language": "python",
   "name": "python3"
  },
  "language_info": {
   "codemirror_mode": {
    "name": "ipython",
    "version": 3
   },
   "file_extension": ".py",
   "mimetype": "text/x-python",
   "name": "python",
   "nbconvert_exporter": "python",
   "pygments_lexer": "ipython3",
   "version": "3.6.5"
  }
 },
 "nbformat": 4,
 "nbformat_minor": 2
}
