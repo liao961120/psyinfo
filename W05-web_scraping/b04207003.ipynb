{
 "cells": [
  {
   "cell_type": "markdown",
   "metadata": {},
   "source": [
    "# Psychoinformatics - Week 5 (Exercises)\n",
    "by 廖永賦 (B04207003)"
   ]
  },
  {
   "cell_type": "markdown",
   "metadata": {},
   "source": [
    "## 進一步搜尋 Boy-Girl 版資訊 (6 points)"
   ]
  },
  {
   "cell_type": "markdown",
   "metadata": {},
   "source": [
    "1. index.html 右上角 [< 上頁 ] 中包含了總頁數資訊，請用 LXML 抓出此經常變動的數字。(2points)\n",
    "\n",
    "2. 請用 LXML 找出距離現在時間最近的一篇[爆]文標題與 URN 。(2 points)\n",
    "\n",
    "3. 請用 Selenium 在 index.html 往前翻三頁並拍照。(2 points)"
   ]
  },
  {
   "cell_type": "code",
   "execution_count": 4,
   "metadata": {},
   "outputs": [],
   "source": [
    "# No matter what you do, our autograder will only run your analyze() function \n",
    "# and expect it to return the correct answers of Q1 & Q2 as a list\n",
    "# and generate three screenshots for Q3 with '1.png', '2.png', & '3.png' as filenames.\n",
    "\n",
    "def analyze():\n",
    "    import urllib, lxml.html, re\n",
    "    \n",
    "    def request(URN='/bbs/Boy-Girl/index.html'):\n",
    "        URL='http://www.ptt.cc'\n",
    "        h={'User-Agent':'Mozilla/5.0'}\n",
    "        r=urllib.request.Request(URL+URN,headers=h)\n",
    "        data=urllib.request.urlopen(r).read()\n",
    "        t=lxml.html.fromstring(data.decode('utf-8'))\n",
    "        return t\n",
    "    \n",
    "    def pre_pagenum(t):\n",
    "        x = t.xpath('//div[@class=\"action-bar\"]/div[@class=\"btn-group btn-group-paging\"]/a[contains(text(), \"上頁\")]/@href')[0]\n",
    "        pattern=re.compile(\"[0-9]+\")  # regex number pattern\n",
    "        num = pattern.findall(str(x)) # extract number\n",
    "        return num[0]\n",
    "    \n",
    "    # Q1\n",
    "    pre_num = pre_pagenum(request())\n",
    "    \n",
    "    # Q2\n",
    "    title = request().xpath('//div[@class=\"nrec\"]/span[contains(text(), \"爆\")]/../../div[@class=\"title\"]/a/text()')\n",
    "    URN = '/bbs/Boy-Girl/index' + pre_num + '.html'\n",
    "    if len(title) == 0:\n",
    "        while len(title) == 0:\n",
    "            t = request(URN)\n",
    "            URN = '/bbs/Boy-Girl/index' + pre_pagenum(t) + '.html'\n",
    "            title = t.xpath('//div[@class=\"nrec\"]/span[contains(text(), \"爆\")]/../../div[@class=\"title\"]/a/text()')\n",
    "            #print(URN) ## For checking\n",
    "        URN_post = t.xpath('//div[@class=\"nrec\"]/span[contains(text(), \"爆\")]/../../div[@class=\"title\"]/a/@href')\n",
    "\n",
    "    # Q3\n",
    "    from selenium import webdriver\n",
    "    import time\n",
    "    URI='https://www.ptt.cc/bbs/Boy-Girl/index.html'\n",
    "    driver = webdriver.Chrome(\"./chromedriver\")\n",
    "    for i in range(1,4):\n",
    "        driver.get(URI)\n",
    "        link = driver.find_elements_by_xpath('//a[contains(text(), \"上頁\")]')[0]\n",
    "        URI = link.get_attribute('href')\n",
    "        file_name = str(i) + '.png'\n",
    "        driver.save_screenshot(file_name)\n",
    "\n",
    "    return [int(pre_num), title[0], URN_post[0]]"
   ]
  },
  {
   "cell_type": "code",
   "execution_count": 5,
   "metadata": {},
   "outputs": [
    {
     "data": {
      "text/plain": [
       "[4137, '[討論] 這種女生該怎麼追', '/bbs/Boy-Girl/M.1539149736.A.060.html']"
      ]
     },
     "execution_count": 5,
     "metadata": {},
     "output_type": "execute_result"
    }
   ],
   "source": [
    "analyze()"
   ]
  },
  {
   "cell_type": "markdown",
   "metadata": {},
   "source": [
    "### Please submit this file to http://hpc.psy.ntu.edu.tw/info before noon next Wednesday."
   ]
  }
 ],
 "metadata": {
  "kernelspec": {
   "display_name": "Python 3",
   "language": "python",
   "name": "python3"
  },
  "language_info": {
   "codemirror_mode": {
    "name": "ipython",
    "version": 3
   },
   "file_extension": ".py",
   "mimetype": "text/x-python",
   "name": "python",
   "nbconvert_exporter": "python",
   "pygments_lexer": "ipython3",
   "version": "3.6.5"
  }
 },
 "nbformat": 4,
 "nbformat_minor": 2
}
