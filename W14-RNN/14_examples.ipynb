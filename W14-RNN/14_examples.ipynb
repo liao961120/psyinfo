{
 "cells": [
  {
   "cell_type": "markdown",
   "metadata": {},
   "source": [
    "# Psychoinformatics - Week 14 (Examples)\n",
    "by Tsung-Ren (Tren) Huang (trhuang@g.ntu.edu.tw)"
   ]
  },
  {
   "cell_type": "code",
   "execution_count": 7,
   "metadata": {},
   "outputs": [],
   "source": [
    "%config IPCompleter.greedy=True \n",
    "%matplotlib inline\n",
    "import numpy as np\n",
    "import matplotlib.pyplot as plt\n",
    "from IPython.display import *\n",
    "import re\n",
    "import warnings\n",
    "warnings.filterwarnings(\"ignore\", category=DeprecationWarning) "
   ]
  },
  {
   "cell_type": "markdown",
   "metadata": {},
   "source": [
    "## 1 Recurrent Neural Network (RNN)"
   ]
  },
  {
   "cell_type": "markdown",
   "metadata": {},
   "source": [
    "### 1.1 Example 1: Mapping Sin(t) to Cos(t)"
   ]
  },
  {
   "cell_type": "code",
   "execution_count": 56,
   "metadata": {},
   "outputs": [],
   "source": [
    "#!pip install keras"
   ]
  },
  {
   "cell_type": "code",
   "execution_count": 32,
   "metadata": {},
   "outputs": [
    {
     "data": {
      "image/png": "[encoded data removed]",
      "text/plain": [
       "<matplotlib.figure.Figure at 0x7f8d9e286208>"
      ]
     },
     "metadata": {
      "needs_background": "light"
     },
     "output_type": "display_data"
    }
   ],
   "source": [
    "# 8 - RNN LSTM Regressor example\n",
    "import matplotlib.pyplot as plt\n",
    "from keras.models import Sequential\n",
    "from keras.layers import LSTM, TimeDistributed, Dense\n",
    "from keras.optimizers import Adam\n",
    "\n",
    "BATCH_START = 0\n",
    "TIME_STEPS = 200\n",
    "BATCH_SIZE = 50\n",
    "INPUT_SIZE = 1\n",
    "OUTPUT_SIZE = 1\n",
    "CELL_SIZE = 20\n",
    "\n",
    "\n",
    "def get_batch():\n",
    "    global BATCH_START, TIME_STEPS\n",
    "    # xs shape (50batch, 20steps)\n",
    "    xs = np.arange(BATCH_START, BATCH_START+TIME_STEPS*BATCH_SIZE).reshape((BATCH_SIZE, TIME_STEPS)) / (10*np.pi)\n",
    "    seq = np.sin(xs)\n",
    "    # seq = xs\n",
    "    res = np.cos(xs)\n",
    "    BATCH_START += TIME_STEPS\n",
    "    # plt.plot(xs[0, :], res[0, :], 'r', xs[0, :], seq[0, :], 'b--')\n",
    "    # plt.show()\n",
    "    return [seq[:, :, np.newaxis], res[:, :, np.newaxis], xs]\n",
    "\n",
    "model = Sequential()\n",
    "# build a LSTM RNN\n",
    "model.add(LSTM(\n",
    "    batch_input_shape=(BATCH_SIZE, TIME_STEPS, INPUT_SIZE),       # Or: input_dim=INPUT_SIZE, input_length=TIME_STEPS,\n",
    "    output_dim=CELL_SIZE,\n",
    "    return_sequences=True,      # True: output at all steps. False: output as last step.\n",
    "    stateful=True,              # True: the final state of batch1 is feed into the initial state of batch2\n",
    "))\n",
    "# add output layer\n",
    "#model.add(TimeDistributed(Dense(OUTPUT_SIZE)))\n",
    "model.add(Dense(OUTPUT_SIZE))\n",
    "model.compile(optimizer='rmsprop',\n",
    "              loss='mse',)\n",
    "\n",
    "print('Training ------------')\n",
    "for step in range(50):\n",
    "    # data shape = (batch_num, steps, inputs/outputs)\n",
    "    X_batch, Y_batch, xs = get_batch()\n",
    "    cost = model.train_on_batch(X_batch, Y_batch)\n",
    "    pred = model.predict(X_batch, BATCH_SIZE)\n",
    "    plt.clf(); # clear previous figure\n",
    "    plt.plot(xs[0, :], Y_batch[0].flatten(), 'r', xs[0, :], pred.flatten()[:TIME_STEPS], 'b--');\n",
    "    plt.ylim((-1.2, 1.2));\n",
    "    plt.title(str(cost));\n",
    "    #plt.pause(0.5);\n",
    "    display(plt.gcf()); clear_output(wait=True); # to allow dynamic plots"
   ]
  },
  {
   "cell_type": "markdown",
   "metadata": {},
   "source": [
    "### 1.2 Example 2: Character-based RNN as a Language Model"
   ]
  },
  {
   "cell_type": "code",
   "execution_count": 5,
   "metadata": {},
   "outputs": [
    {
     "name": "stdout",
     "output_type": "stream",
     "text": [
      "Extracting text from input...\n",
      "Creating input and label text...\n",
      "Vectorizing input and label text...\n",
      "==================================================\n",
      "Iteration #: 0\n",
      "Epoch 1/1\n",
      "158773/158773 [==============================] - 9s 59us/step - loss: 2.3448\n",
      "Generating from seed: nt even kn\n",
      "nt even kno gon the said the said the said the said the said the said the said the said the said the said the \n",
      "==================================================\n",
      "Iteration #: 1\n",
      "Epoch 1/1\n",
      "158773/158773 [==============================] - 9s 58us/step - loss: 2.0551\n",
      "Generating from seed: lain it, s\n",
      "lain it, she said the was the was the was the was the was the was the was the was the was the was the was the \n",
      "==================================================\n",
      "Iteration #: 2\n",
      "Epoch 1/1\n",
      "158773/158773 [==============================] - 9s 56us/step - loss: 1.9503\n",
      "Generating from seed: r with a s\n",
      "r with a sead the could the rould the rould the rould the rould the rould the rould the rould the rould the ro\n",
      "==================================================\n",
      "Iteration #: 3\n",
      "Epoch 1/1\n",
      "158773/158773 [==============================] - 9s 57us/step - loss: 1.8684\n",
      "Generating from seed:  this gene\n",
      " this gene on the said the mage the the said the mage the the said the mage the the said the mage the the said\n",
      "==================================================\n",
      "Iteration #: 4\n",
      "Epoch 1/1\n",
      "158773/158773 [==============================] - 9s 56us/step - loss: 1.8019\n",
      "Generating from seed: pencil, an\n",
      "pencil, and the mack to the project gutenberg-tm litele so the canter a litsle the made the project gutenberg-\n"
     ]
    }
   ],
   "source": [
    "from __future__ import print_function\n",
    "from keras.layers.recurrent import SimpleRNN\n",
    "from keras.models import Sequential\n",
    "from keras.layers import Dense, Activation\n",
    "import numpy as np\n",
    "\n",
    "\n",
    "INPUT_FILE = \"alice_in_wonderland.txt\"\n",
    "\n",
    "# extract the input as a stream of characters\n",
    "print(\"Extracting text from input...\")\n",
    "fin = open(INPUT_FILE, 'rb')\n",
    "lines = []\n",
    "for line in fin:\n",
    "    line = line.strip().lower()\n",
    "    line = line.decode(\"ascii\", \"ignore\")\n",
    "    if len(line) == 0:\n",
    "        continue\n",
    "    lines.append(line)\n",
    "fin.close()\n",
    "text = \" \".join(lines)\n",
    "\n",
    "# creating lookup tables\n",
    "# Here chars is the number of features in our character \"vocabulary\"\n",
    "chars = set([c for c in text])\n",
    "nb_chars = len(chars)\n",
    "char2index = dict((c, i) for i, c in enumerate(chars))\n",
    "index2char = dict((i, c) for i, c in enumerate(chars))\n",
    "\n",
    "# create inputs and labels from the text. We do this by stepping\n",
    "# through the text ${step} character at a time, and extracting a \n",
    "# sequence of size ${seqlen} and the next output char. For example,\n",
    "# assuming an input text \"The sky was falling\", we would get the \n",
    "# following sequence of input_chars and label_chars (first 5 only)\n",
    "#   The sky wa -> s\n",
    "#   he sky was ->  \n",
    "#   e sky was  -> f\n",
    "#    sky was f -> a\n",
    "#   sky was fa -> l\n",
    "print(\"Creating input and label text...\")\n",
    "SEQLEN = 10\n",
    "STEP = 1\n",
    "\n",
    "input_chars = []\n",
    "label_chars = []\n",
    "for i in range(0, len(text) - SEQLEN, STEP):\n",
    "    input_chars.append(text[i:i + SEQLEN])\n",
    "    label_chars.append(text[i + SEQLEN])\n",
    "\n",
    "# vectorize the input and label chars\n",
    "# Each row of the input is represented by seqlen characters, each \n",
    "# represented as a 1-hot encoding of size len(char). There are \n",
    "# len(input_chars) such rows, so shape(X) is (len(input_chars),\n",
    "# seqlen, nb_chars).\n",
    "# Each row of output is a single character, also represented as a\n",
    "# dense encoding of size len(char). Hence shape(y) is (len(input_chars),\n",
    "# nb_chars).\n",
    "print(\"Vectorizing input and label text...\")\n",
    "X = np.zeros((len(input_chars), SEQLEN, nb_chars), dtype=np.bool)\n",
    "y = np.zeros((len(input_chars), nb_chars), dtype=np.bool)\n",
    "for i, input_char in enumerate(input_chars):\n",
    "    for j, ch in enumerate(input_char):\n",
    "        X[i, j, char2index[ch]] = 1\n",
    "    y[i, char2index[label_chars[i]]] = 1\n",
    "\n",
    "# Build the model. We use a single RNN with a fully connected layer\n",
    "# to compute the most likely predicted output char\n",
    "HIDDEN_SIZE = 128\n",
    "BATCH_SIZE = 128\n",
    "NUM_ITERATIONS = 5\n",
    "NUM_EPOCHS_PER_ITERATION = 1\n",
    "NUM_PREDS_PER_EPOCH = 100\n",
    "\n",
    "model = Sequential()\n",
    "model.add(SimpleRNN(HIDDEN_SIZE, return_sequences=False,\n",
    "                    input_shape=(SEQLEN, nb_chars),\n",
    "                    unroll=True))\n",
    "model.add(Dense(nb_chars))\n",
    "model.add(Activation(\"softmax\"))\n",
    "\n",
    "model.compile(loss=\"categorical_crossentropy\", optimizer=\"rmsprop\")\n",
    "\n",
    "# We train the model in batches and test output generated at each step\n",
    "for iteration in range(NUM_ITERATIONS):\n",
    "    print(\"=\" * 50)\n",
    "    print(\"Iteration #: %d\" % (iteration))\n",
    "    model.fit(X, y, batch_size=BATCH_SIZE, epochs=NUM_EPOCHS_PER_ITERATION)\n",
    "    \n",
    "    # testing model\n",
    "    # randomly choose a row from input_chars, then use it to \n",
    "    # generate text from model for next 100 chars\n",
    "    test_idx = np.random.randint(len(input_chars))\n",
    "    test_chars = input_chars[test_idx]\n",
    "    print(\"Generating from seed: %s\" % (test_chars))\n",
    "    print(test_chars, end=\"\")\n",
    "    for i in range(NUM_PREDS_PER_EPOCH):\n",
    "        Xtest = np.zeros((1, SEQLEN, nb_chars))\n",
    "        for i, ch in enumerate(test_chars):\n",
    "            Xtest[0, i, char2index[ch]] = 1\n",
    "        pred = model.predict(Xtest, verbose=0)[0]\n",
    "        ypred = index2char[np.argmax(pred)]\n",
    "        print(ypred, end=\"\")\n",
    "        # move forward with test_chars + ypred\n",
    "        test_chars = test_chars[1:] + ypred\n",
    "    print()"
   ]
  },
  {
   "cell_type": "markdown",
   "metadata": {},
   "source": [
    "## 2 ChatBots"
   ]
  },
  {
   "cell_type": "markdown",
   "metadata": {},
   "source": [
    "### 2.1 FrontEnd: Facebook Messengers"
   ]
  },
  {
   "cell_type": "code",
   "execution_count": 36,
   "metadata": {},
   "outputs": [],
   "source": [
    "#!pip install fbchat\n",
    "from fbchat import log, Client\n",
    "from fbchat.models import *\n",
    "from getpass import getpass "
   ]
  },
  {
   "cell_type": "code",
   "execution_count": null,
   "metadata": {},
   "outputs": [],
   "source": [
    "# Example 1: Send a \"Hi\" to yourself\n",
    "client = Client(input(\"Email: \"), getpass('Password:')) \n",
    "print('Own id: {}'.format(client.uid))\n",
    "client.send(Message(text='Hi!'), thread_id=client.uid, thread_type=ThreadType.USER)\n",
    "client.logout()"
   ]
  },
  {
   "cell_type": "code",
   "execution_count": 50,
   "metadata": {},
   "outputs": [
    {
     "name": "stdout",
     "output_type": "stream",
     "text": [
      "Email: tren.huang@gmail.com\n",
      "Password:········\n"
     ]
    },
    {
     "name": "stderr",
     "output_type": "stream",
     "text": [
      "Logging in tren.huang@gmail.com...\n",
      "Login of tren.huang@gmail.com successful.\n",
      "Listening...\n",
      "<Message (mid.$cAAAAAChf_qVt1M_lLVno4qc8rjcg): 'hi', mentions=[] emoji_size=None attachments=[]> from 677379749 in USER\n",
      "Marked messages as seen in threads [('677379749', 'USER')] at 1544637031.541s\n",
      "Messages seen by 677379749 in 677379749 (USER) at 1544637031.932s\n",
      "Inbox event: 0, 5, 5\n",
      "<Message (mid.$cAAAAAChf_qVt1M_w21no4qmcirqa): 'Yes!', mentions=[] emoji_size=None attachments=[]> from 677379749 in USER\n",
      "Marked messages as seen in threads [('677379749', 'USER')] at 1544637034.078s\n",
      "Inbox event: 0, 5, 5\n",
      "Messages seen by 677379749 in 677379749 (USER) at 1544637034.469s\n"
     ]
    }
   ],
   "source": [
    "# Example 2 - EchoBot\n",
    "\n",
    "class EchoBot(Client):\n",
    "    def onMessage(self, author_id, message_object, thread_id, thread_type, **kwargs):\n",
    "        self.markAsDelivered(thread_id, message_object.uid)\n",
    "        self.markAsRead(thread_id)\n",
    "\n",
    "        log.info(\"{} from {} in {}\".format(message_object, thread_id, thread_type.name))\n",
    "        if(message_object.text=='hi'):\n",
    "            client.send(Message(text='Yes!'), thread_id=self.uid, thread_type=ThreadType.USER)\n",
    "        # If you're not the author, echo\n",
    "        if author_id != self.uid:\n",
    "            self.send(message_object, thread_id=thread_id, thread_type=thread_type)\n",
    "\n",
    "client = EchoBot(input(\"Email: \"), getpass('Password:')) \n",
    "client.listen()"
   ]
  },
  {
   "cell_type": "markdown",
   "metadata": {},
   "source": [
    "### 2.2 BackEnd ChatterBot"
   ]
  },
  {
   "cell_type": "code",
   "execution_count": 33,
   "metadata": {},
   "outputs": [],
   "source": [
    "#!pip install chatterbot\n",
    "from chatterbot import ChatBot"
   ]
  },
  {
   "cell_type": "code",
   "execution_count": 50,
   "metadata": {},
   "outputs": [
    {
     "name": "stdout",
     "output_type": "stream",
     "text": [
      "ai.yml Training: [####################] 100%\n",
      "botprofile.yml Training: [####################] 100%\n",
      "conversations.yml Training: [####################] 100%\n",
      "emotion.yml Training: [####################] 100%\n",
      "food.yml Training: [####################] 100%\n",
      "gossip.yml Training: [####################] 100%\n",
      "greetings.yml Training: [####################] 100%\n",
      "history.yml Training: [####################] 100%\n",
      "humor.yml Training: [####################] 100%\n",
      "literature.yml Training: [####################] 100%\n",
      "money.yml Training: [####################] 100%\n",
      "movies.yml Training: [####################] 100%\n",
      "politics.yml Training: [####################] 100%\n",
      "psychology.yml Training: [####################] 100%\n",
      "science.yml Training: [####################] 100%\n",
      "sports.yml Training: [####################] 100%\n",
      "trivia.yml Training: [####################] 100%\n"
     ]
    }
   ],
   "source": [
    "chatbot = ChatBot(\n",
    "    'Psychoinformatics',\n",
    "    trainer = 'chatterbot.trainers.ChatterBotCorpusTrainer'\n",
    ")\n",
    "\n",
    "#chatbot.train(\"chatterbot.corpus.english\")\n",
    "chatbot.train(\"chatterbot.corpus.tchinese\")"
   ]
  },
  {
   "cell_type": "code",
   "execution_count": 55,
   "metadata": {},
   "outputs": [
    {
     "data": {
      "text/plain": [
       "<Statement text:我還不錯.>"
      ]
     },
     "execution_count": 55,
     "metadata": {},
     "output_type": "execute_result"
    }
   ],
   "source": [
    "chatbot.get_response(\"你好嗎\")"
   ]
  }
 ],
 "metadata": {
  "kernelspec": {
   "display_name": "Python 3",
   "language": "python",
   "name": "python3"
  },
  "language_info": {
   "codemirror_mode": {
    "name": "ipython",
    "version": 3
   },
   "file_extension": ".py",
   "mimetype": "text/x-python",
   "name": "python",
   "nbconvert_exporter": "python",
   "pygments_lexer": "ipython3",
   "version": "3.6.3"
  }
 },
 "nbformat": 4,
 "nbformat_minor": 2
}
