{
 "cells": [
  {
   "cell_type": "markdown",
   "metadata": {},
   "source": [
    "## Psychoinformatics - Week 2 (Exercises)\n",
    "廖永賦 b04207003@ntu.edu.tw"
   ]
  },
  {
   "cell_type": "markdown",
   "metadata": {},
   "source": [
    "#### 1 Validating the findings about power poses (6 points)\n",
    "Do <a href=\"https://www.youtube.com/watch?v=Ks-_Mh1QhMc\">power poses</a> really work?\n",
    "Let's analyze the <a href=\"http://hpc.psy.ntu.edu.tw/info/keller2017.csv\">data</a> from:\n",
    "\n",
    "Keller, V. N., Johnson, D. J., & Harder, J. A. (2017). <a href=\"http://hpc.psy.ntu.edu.tw/info/KellerEtal2017.pdf\">\n",
    "Meeting your inner super (wo)man: are power poses effective when taught?</a> Comprehensive Results in Social Psychology, 2(1), 106-122.\n",
    "\n",
    "where<br>\n",
    "\n",
    "4 experimental conditions were AC (Aware-Constrictive), AE (Aware-Expansive), UC (Unaware-Constrictive), & UE (Unaware-Expansive)<br>\n",
    "<br>\n",
    "and<br>\n",
    "<br>\n",
    "3 dependent measures were body expansiveness, performance (in a job interview), & hireability scored by 4 independent raters."
   ]
  },
  {
   "cell_type": "markdown",
   "metadata": {},
   "source": [
    "Please modify the function analyze() to return 3 pandas dataframes in a list <b>[df1,df2,df3]</b> where <br><br>\n",
    "<b>df1</b>, derived from df, has only 13 columns of interest (cond, expansiveness＊, performance＊, hire＊) and no missing values (2 points) ;<br><br>\n",
    "<b>df2</b>, derived from df1, has 4 columns that average expansiveness＊ into \"expansiveness\", \"performance＊\" into \"performance\", & hire＊ into \"hire\" (df1 & df2 should have the same number of rows) (2 points) ; <br><br>\n",
    "<b>df3</b>, derived from df2, calculates the means of each dependent variable in each condition (2 points): <br>\n",
    "<img src=\"http://hpc.psy.ntu.edu.tw/info/02_table.png\" width=30%>"
   ]
  },
  {
   "cell_type": "code",
   "execution_count": 1,
   "metadata": {},
   "outputs": [],
   "source": [
    "import pandas as pd\n",
    "df=pd.read_csv(\"https://ceiba.ntu.edu.tw/course/4671ea/content/keller2017.csv\")"
   ]
  },
  {
   "cell_type": "code",
   "execution_count": 2,
   "metadata": {},
   "outputs": [],
   "source": [
    "# Please make changes ONLY here:\n",
    "def analyze():\n",
    "    \n",
    "    # Column idxs\n",
    "    import numpy as np\n",
    "    a = [1]*3 + [2]*3 + [3]*3 + [4]*3\n",
    "    b = ['expansiveness_', 'performance_', 'hire_']*4\n",
    "    cols = np.core.defchararray.add(b, np.array(a, dtype=str))\n",
    "    cols = np.append(np.array('cond'), cols)\n",
    "    cols = sorted(list(cols))\n",
    "    \n",
    "    # df1\n",
    "    df1=df[cols].dropna()\n",
    "    \n",
    "    # df2\n",
    "    idx = ['cond', 'expansiveness', 'performance', 'hire']\n",
    "    df2 = pd.DataFrame(index=df1.index, columns=idx)\n",
    "    df2['cond'] = df1.cond\n",
    "    for i in idx[1:]:\n",
    "        df2[i] = df1.loc[:, i+'_1':i+'_4'].mean(axis=1)\n",
    "\n",
    "    # df3\n",
    "    df3=df2.groupby('cond').mean()\n",
    "    return([df1,df2,df3])"
   ]
  },
  {
   "cell_type": "code",
   "execution_count": 3,
   "metadata": {},
   "outputs": [
    {
     "name": "stdout",
     "output_type": "stream",
     "text": [
      "(194, 13) (194, 4)\n",
      "      expansiveness  performance      hire\n",
      "cond                                      \n",
      "AC         3.586957     3.967391  1.853261\n",
      "AE         3.607955     3.460227  1.982955\n",
      "UC         3.435185     3.717593  1.916667\n",
      "UE         3.685000     3.765000  1.940000\n"
     ]
    }
   ],
   "source": [
    "[df1,df2,df3]=analyze()\n",
    "print(df1.shape,df2.shape)\n",
    "print(df3)"
   ]
  },
  {
   "cell_type": "markdown",
   "metadata": {},
   "source": [
    "### Please submit this file to http://hpc.psy.ntu.edu.tw/info before noon next Wednesday."
   ]
  }
 ],
 "metadata": {
  "kernelspec": {
   "display_name": "Python 3",
   "language": "python",
   "name": "python3"
  },
  "language_info": {
   "codemirror_mode": {
    "name": "ipython",
    "version": 3
   },
   "file_extension": ".py",
   "mimetype": "text/x-python",
   "name": "python",
   "nbconvert_exporter": "python",
   "pygments_lexer": "ipython3",
   "version": "3.6.5"
  }
 },
 "nbformat": 4,
 "nbformat_minor": 2
}
