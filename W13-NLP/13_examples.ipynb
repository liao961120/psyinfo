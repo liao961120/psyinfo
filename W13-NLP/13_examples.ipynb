{
 "cells": [
  {
   "cell_type": "markdown",
   "metadata": {},
   "source": [
    "# Psychoinformatics - Week 13 (Examples)\n",
    "by Tsung-Ren (Tren) Huang (trhuang@g.ntu.edu.tw)"
   ]
  },
  {
   "cell_type": "code",
   "execution_count": 1,
   "metadata": {},
   "outputs": [],
   "source": [
    "%config IPCompleter.greedy=True \n",
    "%matplotlib inline\n",
    "import numpy as np\n",
    "from matplotlib.pyplot import *\n",
    "from IPython.display import *\n",
    "import re\n",
    "import warnings\n",
    "warnings.filterwarnings(\"ignore\", category=DeprecationWarning) "
   ]
  },
  {
   "cell_type": "markdown",
   "metadata": {},
   "source": [
    "## 1 Regular Expression"
   ]
  },
  {
   "cell_type": "markdown",
   "metadata": {},
   "source": [
    "### 1.0 Basic String Operations"
   ]
  },
  {
   "cell_type": "code",
   "execution_count": 2,
   "metadata": {},
   "outputs": [
    {
     "name": "stdout",
     "output_type": "stream",
     "text": [
      "this is a built-in module THIS IS A BUILT-IN MODULE\n",
      "['This', 'is', 'a', 'built-in', 'module'] ['This is a built', 'in module']\n",
      "10 built\n",
      "This is a built-in library\n",
      "2\n",
      "============This is a built-in module=============\n"
     ]
    }
   ],
   "source": [
    "a='This is a built-in module'\n",
    "print(a.lower(),a.upper())\n",
    "print(a.split(' '),a.split('-'))\n",
    "print(a.find('built'),a[10:15])\n",
    "print(a.replace('module','library'))\n",
    "print(a.count('is'))\n",
    "print(a.center(50,'='))"
   ]
  },
  {
   "cell_type": "markdown",
   "metadata": {},
   "source": [
    "### 1.1 Verification"
   ]
  },
  {
   "cell_type": "code",
   "execution_count": 3,
   "metadata": {},
   "outputs": [
    {
     "name": "stdout",
     "output_type": "stream",
     "text": [
      "True\n"
     ]
    }
   ],
   "source": [
    "print(bool(re.match('[A-Za-z]\\d{9}','a123456789')))"
   ]
  },
  {
   "cell_type": "code",
   "execution_count": 4,
   "metadata": {},
   "outputs": [
    {
     "name": "stdout",
     "output_type": "stream",
     "text": [
      "True\n"
     ]
    }
   ],
   "source": [
    "print(bool(re.match('[^@]+@[^@]+\\.[^@]+','a@b.c')))"
   ]
  },
  {
   "cell_type": "markdown",
   "metadata": {},
   "source": [
    "### 1.2 Search, Match, & Find"
   ]
  },
  {
   "cell_type": "code",
   "execution_count": 5,
   "metadata": {},
   "outputs": [
    {
     "name": "stdout",
     "output_type": "stream",
     "text": [
      "--------------------------------------------------\n",
      "search() found: abc\n",
      "match() found: abc\n",
      "findall() found: ['abc']\n",
      "--------------------------------------------------\n",
      "search() found: hello abc\n",
      "findall() found: ['abc']\n",
      "--------------------------------------------------\n",
      "search() found: hi AbC aBc\n",
      "findall() found: ['AbC', 'aBc']\n"
     ]
    }
   ],
   "source": [
    "regex=re.compile('abc',re.IGNORECASE)\n",
    "for txt in ['abc','hello abc','hi AbC aBc']:\n",
    "    print('-'*50)\n",
    "    out=regex.search(txt) #inexact match\n",
    "    if(out): print('search() found:',out.string)\n",
    "    out=regex.match(txt) #exact match\n",
    "    if(out): print('match() found:',out.string)\n",
    "    out=regex.findall(txt) #search into a list\n",
    "    if(out): print('findall() found:',out)"
   ]
  },
  {
   "cell_type": "markdown",
   "metadata": {},
   "source": [
    "### 1.3 Analysis of retweets"
   ]
  },
  {
   "cell_type": "code",
   "execution_count": 6,
   "metadata": {},
   "outputs": [
    {
     "name": "stdout",
     "output_type": "stream",
     "text": [
      "RT @spiketren RT @spiketren\n",
      "via @spiketren via @spiketren\n"
     ]
    }
   ],
   "source": [
    "tweets=['RT @spiketren  No class tomorrow','No class tomorrow (via @spiketren)']\n",
    "rt=re.compile('(RT|via) (@\\w+)')\n",
    "#rt=re.compile('(RT|\\(via) (@\\w+\\)*)')\n",
    "for t in tweets:\n",
    "    m=rt.search(t)\n",
    "    #print(m.group(1),m.group(2));\n",
    "    print(m[0],m[1],m[2]);"
   ]
  },
  {
   "cell_type": "markdown",
   "metadata": {},
   "source": [
    "### 1.4 Revisiting ID verification\n",
    "Check out <a href=\"https://zh.wikipedia.org/wiki/中華民國國民身分證\">this page</a> for our ID rule."
   ]
  },
  {
   "cell_type": "code",
   "execution_count": 7,
   "metadata": {},
   "outputs": [
    {
     "name": "stdout",
     "output_type": "stream",
     "text": [
      "Valid!\n"
     ]
    }
   ],
   "source": [
    "id='a123456789'\n",
    "conv={'A':10,'B':11,'C':12,'D':13,'E':14,'F':15,'G':16,\n",
    "'H':17,'I':34,'J':18,'K':19,'L':20,'M':21,'N':22,'O':35,\n",
    "'P':23,'Q':24,'R':25,'S':26,'T':27,'U':28,'V':29,'W':32,\n",
    "'X':30,'Y':31,'Z':33}\n",
    "parts=re.findall('\\w',id)\n",
    "region=str(conv[parts[0].upper()])\n",
    "coef=np.array([1]+list(range(9,0,-1))+[1])\n",
    "digits=np.array(list(region)+parts[1:],dtype=np.int)\n",
    "if(np.mod(np.sum(coef*digits),10)==0): print('Valid!')"
   ]
  },
  {
   "cell_type": "markdown",
   "metadata": {},
   "source": [
    "### 1.5 Collection of email addresses"
   ]
  },
  {
   "cell_type": "code",
   "execution_count": 8,
   "metadata": {},
   "outputs": [
    {
     "name": "stdout",
     "output_type": "stream",
     "text": [
      "test\n",
      "pichun_huang@mail.ncku.edu.tw,chendy@mail.ncku.edu.tw\n"
     ]
    }
   ],
   "source": [
    "html='<body><b>test</b><img src=test.jpg></body>'\n",
    "print(re.sub('<[^<]*>','',html))\n",
    "e='@mail.ncku.edu.tw'\n",
    "t='pichun_huang,chendy'\n",
    "print(re.sub('\\w+','\\g<0>'+e,t))"
   ]
  },
  {
   "cell_type": "markdown",
   "metadata": {},
   "source": [
    "## 2 Natural Language Processing (NLP)"
   ]
  },
  {
   "cell_type": "markdown",
   "metadata": {},
   "source": [
    "### 2.1 Lexical diversity & Big words"
   ]
  },
  {
   "cell_type": "code",
   "execution_count": 9,
   "metadata": {},
   "outputs": [
    {
     "name": "stdout",
     "output_type": "stream",
     "text": [
      "*** Introductory Examples for the NLTK Book ***\n",
      "Loading text1, ..., text9 and sent1, ..., sent9\n",
      "Type the name of the text or sentence to view it.\n",
      "Type: 'texts()' or 'sents()' to list the materials.\n",
      "text1: Moby Dick by Herman Melville 1851\n",
      "text2: Sense and Sensibility by Jane Austen 1811\n",
      "text3: The Book of Genesis\n",
      "text4: Inaugural Address Corpus\n",
      "text5: Chat Corpus\n",
      "text6: Monty Python and the Holy Grail\n",
      "text7: Wall Street Journal\n",
      "text8: Personals Corpus\n",
      "text9: The Man Who Was Thursday by G . K . Chesterton 1908\n",
      "0.06692970116993173\n",
      "18\n"
     ]
    }
   ],
   "source": [
    "from nltk.book import text4 \n",
    "print(len(set(text4))/len(text4)) # lexical diversity\n",
    "long_words=[w for w in set(text4) if len(w)>15] \n",
    "print(len(long_words)) # number of big words"
   ]
  },
  {
   "cell_type": "markdown",
   "metadata": {},
   "source": [
    "### 2.2 Tokenization & Word distributions"
   ]
  },
  {
   "cell_type": "code",
   "execution_count": 10,
   "metadata": {},
   "outputs": [
    {
     "name": "stdout",
     "output_type": "stream",
     "text": [
      "['This is a cat.', 'That is a dog.']\n"
     ]
    },
    {
     "data": {
      "image/png": "[encoded data removed]",
      "text/plain": [
       "<Figure size 432x288 with 1 Axes>"
      ]
     },
     "metadata": {},
     "output_type": "display_data"
    },
    {
     "data": {
      "image/png": "[encoded data removed]",
      "text/plain": [
       "<Figure size 432x288 with 1 Axes>"
      ]
     },
     "metadata": {},
     "output_type": "display_data"
    },
    {
     "name": "stdout",
     "output_type": "stream",
     "text": [
      "174\n",
      "['of', 'the', 'and', 'to', 'that', 'which', 'by', ',', '.', 'a', 'in', 'it', 'be', 'is', 'for', 'our', 'we']\n"
     ]
    }
   ],
   "source": [
    "import nltk\n",
    "mytxt='This is a cat. That is a dog.'\n",
    "print(nltk.sent_tokenize(mytxt))\n",
    "text=nltk.Text(nltk.word_tokenize(mytxt))\n",
    "text.plot()\n",
    "text4.dispersion_plot(['democracy','freedom','duties'])\n",
    "dist=nltk.FreqDist(text4)\n",
    "print(dist['freedom'])\n",
    "print([w for w in dist.keys() if dist[w]>1000])"
   ]
  },
  {
   "cell_type": "markdown",
   "metadata": {},
   "source": [
    "### 2.3 Term Frequency–Inverse Document Frequency (TF-IDF)"
   ]
  },
  {
   "cell_type": "markdown",
   "metadata": {},
   "source": [
    "#### 2.3.1 Functions"
   ]
  },
  {
   "cell_type": "code",
   "execution_count": 11,
   "metadata": {},
   "outputs": [],
   "source": [
    "import math\n",
    "def tf(word, count): #count是一個word count的dictionary\n",
    "    return count[word] / sum(count.values())\n",
    "def nDoc_have(word, count_list):\n",
    "    return sum(1 for count in count_list if word in count)\n",
    "def idf(word, count_list):\n",
    "    return math.log(len(count_list)) / (1 + nDoc_have(word, count_list))\n",
    "def tfidf(word, count, count_list):\n",
    "    return tf(word, count) * idf(word, count_list)"
   ]
  },
  {
   "cell_type": "markdown",
   "metadata": {},
   "source": [
    "#### 2.3.2 Testing data"
   ]
  },
  {
   "cell_type": "code",
   "execution_count": 12,
   "metadata": {},
   "outputs": [
    {
     "name": "stdout",
     "output_type": "stream",
     "text": [
      "[{'a': 2, 'b': 1, 'c': 1, 'd': 1}, {'a': 1, 'b': 2, 'c': 1, 'd': 1}, {'a': 1, 'b': 1, 'c': 2, 'd': 1}]\n"
     ]
    }
   ],
   "source": [
    "doc=['']*3\n",
    "doc[0]=['a','a','b','c','d']\n",
    "doc[1]=['a','b','b','c','d']\n",
    "doc[2]=['a','b','c','c','d']\n",
    "\n",
    "#construct word counts:\n",
    "count = [{}, {}, {}]\n",
    "\n",
    "for d in range(3):\n",
    "    for word in doc[d]:\n",
    "        if word not in count[d]:\n",
    "            count[d][word]=1\n",
    "        else:\n",
    "            count[d][word]+=1\n",
    "            \n",
    "print(count)"
   ]
  },
  {
   "cell_type": "markdown",
   "metadata": {},
   "source": [
    "#### 2.3.3 TF-IDF"
   ]
  },
  {
   "cell_type": "code",
   "execution_count": 13,
   "metadata": {},
   "outputs": [
    {
     "name": "stdout",
     "output_type": "stream",
     "text": [
      "0.10986122886681099\n"
     ]
    }
   ],
   "source": [
    "print(tfidf('a',count[0],count)) # \"a\" in the first document"
   ]
  },
  {
   "cell_type": "code",
   "execution_count": 14,
   "metadata": {},
   "outputs": [
    {
     "name": "stdout",
     "output_type": "stream",
     "text": [
      "Top words in document 1\n",
      "\tWord: a, TF-IDF: 0.10986\n",
      "\tWord: b, TF-IDF: 0.05493\n",
      "\tWord: c, TF-IDF: 0.05493\n",
      "Top words in document 2\n",
      "\tWord: b, TF-IDF: 0.10986\n",
      "\tWord: a, TF-IDF: 0.05493\n",
      "\tWord: c, TF-IDF: 0.05493\n",
      "Top words in document 3\n",
      "\tWord: c, TF-IDF: 0.10986\n",
      "\tWord: a, TF-IDF: 0.05493\n",
      "\tWord: b, TF-IDF: 0.05493\n"
     ]
    }
   ],
   "source": [
    "#print the tf-idf of each word in each documetes\n",
    "keywords=[]\n",
    "for d in range(3):\n",
    "    print(\"Top words in document {}\".format(d+1))\n",
    "    scores={word: tfidf(word,count[d],count) for word in count[d]}\n",
    "    sorted_words=sorted(scores.items(),key=lambda x:x[1],reverse=True)\n",
    "    for word, score in sorted_words[:3]:\n",
    "        print(\"\\tWord: {}, TF-IDF: {}\".format(word,round(score,5)))\n",
    "        #create a list of keywords:\n",
    "        keywords+=word"
   ]
  },
  {
   "cell_type": "markdown",
   "metadata": {},
   "source": [
    "#### 2.3.4 TF-IDF-based document vectors"
   ]
  },
  {
   "cell_type": "code",
   "execution_count": 15,
   "metadata": {},
   "outputs": [
    {
     "name": "stdout",
     "output_type": "stream",
     "text": [
      "['c', 'b', 'a']\n",
      "[[0.054930614433405495, 0.054930614433405495, 0.10986122886681099], [0.054930614433405495, 0.10986122886681099, 0.054930614433405495], [0.10986122886681099, 0.054930614433405495, 0.054930614433405495]]\n"
     ]
    }
   ],
   "source": [
    "keywords=list(set(keywords)) #remove duplicates\n",
    "print(keywords)\n",
    "\n",
    "#create a feature vector for each document:\n",
    "fv=['']*3\n",
    "for d in range(3):\n",
    "    idx=0 #feature index\n",
    "    fv[d]=[tfidf(word,count[d],count) for word in keywords]\n",
    "print(fv)"
   ]
  },
  {
   "cell_type": "markdown",
   "metadata": {},
   "source": [
    "### 2.4 Chinese \"word\" segementation"
   ]
  },
  {
   "cell_type": "code",
   "execution_count": 16,
   "metadata": {},
   "outputs": [
    {
     "name": "stderr",
     "output_type": "stream",
     "text": [
      "Building prefix dict from the default dictionary ...\n",
      "Loading model from cache /var/folders/nm/rdd1304x6657xgtykqd17d7c0000gn/T/jieba.cache\n",
      "Loading model cost 0.960 seconds.\n",
      "Prefix dict has been built succesfully.\n"
     ]
    },
    {
     "name": "stdout",
     "output_type": "stream",
     "text": [
      "結巴|到底|會不會|成功|地|分解|這行|字|呢|?\n",
      "結|巴|到底|會|不|會|成功|地|分解|這|行|字|呢||\n"
     ]
    }
   ],
   "source": [
    "import jieba\n",
    "text='結巴到底會不會成功地分解這行字呢?'\n",
    "wordlist=jieba.cut(text,cut_all=False)\n",
    "print(\"|\".join(wordlist))\n",
    "wordlist=jieba.cut(text,cut_all=True)\n",
    "print(\"|\".join(wordlist))"
   ]
  },
  {
   "cell_type": "markdown",
   "metadata": {},
   "source": [
    "### 2.5 Word2Vec\n",
    "Check <a href=\"https://github.com/RaRe-Technologies/gensim-data\">this</a> & <a href=\"https://github.com/3Top/word2vec-api#where-to-get-a-pretrained-models\">this</a> for more text datasets & pretained models."
   ]
  },
  {
   "cell_type": "markdown",
   "metadata": {},
   "source": [
    "#### 2.5.0 Train a model"
   ]
  },
  {
   "cell_type": "code",
   "execution_count": 17,
   "metadata": {},
   "outputs": [],
   "source": [
    "import gensim\n",
    "import gensim.downloader as api\n",
    "corpus=api.load('text8')"
   ]
  },
  {
   "cell_type": "code",
   "execution_count": 19,
   "metadata": {},
   "outputs": [],
   "source": [
    "model = gensim.models.word2vec.Word2Vec(corpus) # training"
   ]
  },
  {
   "cell_type": "code",
   "execution_count": 20,
   "metadata": {},
   "outputs": [
    {
     "name": "stderr",
     "output_type": "stream",
     "text": [
      "/anaconda3/lib/python3.6/site-packages/gensim/matutils.py:737: FutureWarning: Conversion of the second argument of issubdtype from `int` to `np.signedinteger` is deprecated. In future, it will be treated as `np.int64 == np.dtype(int).type`.\n",
      "  if np.issubdtype(vec.dtype, np.int):\n"
     ]
    },
    {
     "data": {
      "text/plain": [
       "[('driver', 0.7922781705856323),\n",
       " ('cars', 0.7231026887893677),\n",
       " ('taxi', 0.7098619937896729),\n",
       " ('motorcycle', 0.7055505514144897),\n",
       " ('truck', 0.6891554594039917),\n",
       " ('vehicle', 0.6648487448692322),\n",
       " ('glider', 0.6545496582984924),\n",
       " ('passenger', 0.6500459313392639),\n",
       " ('racing', 0.6440917253494263),\n",
       " ('honda', 0.6335843801498413)]"
      ]
     },
     "execution_count": 20,
     "metadata": {},
     "output_type": "execute_result"
    }
   ],
   "source": [
    "model.wv.most_similar(\"car\") # testing"
   ]
  },
  {
   "cell_type": "markdown",
   "metadata": {},
   "source": [
    "#### 2.5.1 Man:King :: Woman:?"
   ]
  },
  {
   "cell_type": "code",
   "execution_count": 21,
   "metadata": {},
   "outputs": [
    {
     "name": "stderr",
     "output_type": "stream",
     "text": [
      "/anaconda3/lib/python3.6/site-packages/gensim/matutils.py:737: FutureWarning: Conversion of the second argument of issubdtype from `int` to `np.signedinteger` is deprecated. In future, it will be treated as `np.int64 == np.dtype(int).type`.\n",
      "  if np.issubdtype(vec.dtype, np.int):\n"
     ]
    },
    {
     "data": {
      "text/plain": [
       "[('queen', 0.7074302434921265),\n",
       " ('prince', 0.645684540271759),\n",
       " ('throne', 0.6272317171096802),\n",
       " ('empress', 0.6159641742706299),\n",
       " ('princess', 0.6122711896896362),\n",
       " ('son', 0.6090428829193115),\n",
       " ('daughter', 0.6034947633743286),\n",
       " ('aragon', 0.58876633644104),\n",
       " ('emperor', 0.577826738357544),\n",
       " ('mary', 0.5743823051452637)]"
      ]
     },
     "execution_count": 21,
     "metadata": {},
     "output_type": "execute_result"
    }
   ],
   "source": [
    "model.wv.most_similar(positive=['woman', 'king'], negative=['man'])"
   ]
  },
  {
   "cell_type": "code",
   "execution_count": 22,
   "metadata": {},
   "outputs": [
    {
     "data": {
      "text/plain": [
       "[('queen', 0.9288182258605957),\n",
       " ('empress', 0.8831563591957092),\n",
       " ('prince', 0.8808987140655518),\n",
       " ('throne', 0.8728356957435608),\n",
       " ('princess', 0.8684437870979309),\n",
       " ('son', 0.8641836047172546),\n",
       " ('daughter', 0.8624863624572754),\n",
       " ('aragon', 0.8507594466209412),\n",
       " ('elizabeth', 0.849689781665802),\n",
       " ('mary', 0.8495608568191528)]"
      ]
     },
     "execution_count": 22,
     "metadata": {},
     "output_type": "execute_result"
    }
   ],
   "source": [
    "model.wv.most_similar_cosmul(positive=['woman', 'king'], negative=['man'])"
   ]
  },
  {
   "cell_type": "markdown",
   "metadata": {},
   "source": [
    "#### 2.5.2 Man:Doctor :: Woman:?"
   ]
  },
  {
   "cell_type": "code",
   "execution_count": 23,
   "metadata": {},
   "outputs": [
    {
     "name": "stderr",
     "output_type": "stream",
     "text": [
      "/anaconda3/lib/python3.6/site-packages/gensim/matutils.py:737: FutureWarning: Conversion of the second argument of issubdtype from `int` to `np.signedinteger` is deprecated. In future, it will be treated as `np.int64 == np.dtype(int).type`.\n",
      "  if np.issubdtype(vec.dtype, np.int):\n"
     ]
    },
    {
     "data": {
      "text/plain": [
       "[('nurse', 0.6201002597808838),\n",
       " ('teacher', 0.6023639440536499),\n",
       " ('child', 0.5961959362030029),\n",
       " ('physician', 0.5456038117408752),\n",
       " ('murderer', 0.5393767356872559),\n",
       " ('lawyer', 0.5358582139015198),\n",
       " ('prostitute', 0.5337344408035278),\n",
       " ('largo', 0.5291439294815063),\n",
       " ('wife', 0.5289161205291748),\n",
       " ('psychiatrist', 0.5251577496528625)]"
      ]
     },
     "execution_count": 23,
     "metadata": {},
     "output_type": "execute_result"
    }
   ],
   "source": [
    "model.wv.most_similar(positive=['woman', 'doctor'], negative=['man'])"
   ]
  },
  {
   "cell_type": "markdown",
   "metadata": {},
   "source": [
    "#### 2.5.3 (Good + Best)/2 = Better ?"
   ]
  },
  {
   "cell_type": "code",
   "execution_count": 24,
   "metadata": {},
   "outputs": [
    {
     "ename": "KeyError",
     "evalue": "\"word 'Good' not in vocabulary\"",
     "output_type": "error",
     "traceback": [
      "\u001b[0;31m---------------------------------------------------------------------------\u001b[0m",
      "\u001b[0;31mKeyError\u001b[0m                                  Traceback (most recent call last)",
      "\u001b[0;32m<ipython-input-24-16e4ad0fe71d>\u001b[0m in \u001b[0;36m<module>\u001b[0;34m()\u001b[0m\n\u001b[0;32m----> 1\u001b[0;31m \u001b[0mmodel\u001b[0m\u001b[0;34m.\u001b[0m\u001b[0mwv\u001b[0m\u001b[0;34m.\u001b[0m\u001b[0mword_vec\u001b[0m\u001b[0;34m(\u001b[0m\u001b[0;34m'Good'\u001b[0m\u001b[0;34m)\u001b[0m\u001b[0;34m\u001b[0m\u001b[0m\n\u001b[0m",
      "\u001b[0;32m/anaconda3/lib/python3.6/site-packages/gensim/models/keyedvectors.py\u001b[0m in \u001b[0;36mword_vec\u001b[0;34m(self, word, use_norm)\u001b[0m\n\u001b[1;32m    450\u001b[0m             \u001b[0;32mreturn\u001b[0m \u001b[0mresult\u001b[0m\u001b[0;34m\u001b[0m\u001b[0m\n\u001b[1;32m    451\u001b[0m         \u001b[0;32melse\u001b[0m\u001b[0;34m:\u001b[0m\u001b[0;34m\u001b[0m\u001b[0m\n\u001b[0;32m--> 452\u001b[0;31m             \u001b[0;32mraise\u001b[0m \u001b[0mKeyError\u001b[0m\u001b[0;34m(\u001b[0m\u001b[0;34m\"word '%s' not in vocabulary\"\u001b[0m \u001b[0;34m%\u001b[0m \u001b[0mword\u001b[0m\u001b[0;34m)\u001b[0m\u001b[0;34m\u001b[0m\u001b[0m\n\u001b[0m\u001b[1;32m    453\u001b[0m \u001b[0;34m\u001b[0m\u001b[0m\n\u001b[1;32m    454\u001b[0m     \u001b[0;32mdef\u001b[0m \u001b[0mget_vector\u001b[0m\u001b[0;34m(\u001b[0m\u001b[0mself\u001b[0m\u001b[0;34m,\u001b[0m \u001b[0mword\u001b[0m\u001b[0;34m)\u001b[0m\u001b[0;34m:\u001b[0m\u001b[0;34m\u001b[0m\u001b[0m\n",
      "\u001b[0;31mKeyError\u001b[0m: \"word 'Good' not in vocabulary\""
     ]
    }
   ],
   "source": [
    "model.wv.word_vec('Good')"
   ]
  },
  {
   "cell_type": "code",
   "execution_count": 25,
   "metadata": {},
   "outputs": [],
   "source": [
    "what=(model.wv.word_vec('good')+model.wv.word_vec('best'))/2"
   ]
  },
  {
   "cell_type": "code",
   "execution_count": 26,
   "metadata": {},
   "outputs": [
    {
     "name": "stderr",
     "output_type": "stream",
     "text": [
      "/anaconda3/lib/python3.6/site-packages/gensim/matutils.py:737: FutureWarning: Conversion of the second argument of issubdtype from `int` to `np.signedinteger` is deprecated. In future, it will be treated as `np.int64 == np.dtype(int).type`.\n",
      "  if np.issubdtype(vec.dtype, np.int):\n"
     ]
    },
    {
     "data": {
      "text/plain": [
       "[('best', 0.8687522411346436),\n",
       " ('good', 0.7972198724746704),\n",
       " ('better', 0.6251178979873657),\n",
       " ('bad', 0.5642905235290527),\n",
       " ('fun', 0.5096577405929565),\n",
       " ('finest', 0.48468104004859924),\n",
       " ('little', 0.48163706064224243),\n",
       " ('fair', 0.47919154167175293),\n",
       " ('helpful', 0.47699540853500366),\n",
       " ('worst', 0.47342175245285034)]"
      ]
     },
     "execution_count": 26,
     "metadata": {},
     "output_type": "execute_result"
    }
   ],
   "source": [
    "model.wv.similar_by_vector(what)"
   ]
  },
  {
   "cell_type": "code",
   "execution_count": 27,
   "metadata": {},
   "outputs": [
    {
     "name": "stderr",
     "output_type": "stream",
     "text": [
      "/anaconda3/lib/python3.6/site-packages/gensim/matutils.py:737: FutureWarning: Conversion of the second argument of issubdtype from `int` to `np.signedinteger` is deprecated. In future, it will be treated as `np.int64 == np.dtype(int).type`.\n",
      "  if np.issubdtype(vec.dtype, np.int):\n"
     ]
    },
    {
     "data": {
      "text/plain": [
       "[('better', 0.6239095330238342),\n",
       " ('bad', 0.5960795879364014),\n",
       " ('fun', 0.5212955474853516),\n",
       " ('little', 0.4976400136947632),\n",
       " ('helpful', 0.49535930156707764),\n",
       " ('fair', 0.4932994842529297),\n",
       " ('poor', 0.4886171221733093),\n",
       " ('you', 0.476771742105484),\n",
       " ('job', 0.46857544779777527),\n",
       " ('wrong', 0.46552130579948425)]"
      ]
     },
     "execution_count": 27,
     "metadata": {},
     "output_type": "execute_result"
    }
   ],
   "source": [
    "model.wv.most_similar(positive=['good', 'best'])"
   ]
  },
  {
   "cell_type": "code",
   "execution_count": 28,
   "metadata": {},
   "outputs": [
    {
     "data": {
      "text/plain": [
       "[('better', 0.5780989527702332),\n",
       " ('bad', 0.5439380407333374),\n",
       " ('fun', 0.5129193663597107),\n",
       " ('little', 0.49682560563087463),\n",
       " ('fair', 0.49521389603614807),\n",
       " ('helpful', 0.49410760402679443),\n",
       " ('poor', 0.48587217926979065),\n",
       " ('you', 0.4827499985694885),\n",
       " ('job', 0.48148393630981445),\n",
       " ('wrong', 0.4773350954055786)]"
      ]
     },
     "execution_count": 28,
     "metadata": {},
     "output_type": "execute_result"
    }
   ],
   "source": [
    "model.wv.most_similar_cosmul(positive=['good', 'best'])"
   ]
  },
  {
   "cell_type": "markdown",
   "metadata": {},
   "source": [
    "### 2.6 Topic Modeling"
   ]
  },
  {
   "cell_type": "markdown",
   "metadata": {},
   "source": [
    "#### 2.6.0 Word ID & Dictionary"
   ]
  },
  {
   "cell_type": "code",
   "execution_count": 29,
   "metadata": {},
   "outputs": [],
   "source": [
    "dictionary=gensim.corpora.Dictionary(corpus) # generate a dictionary from the text corpus"
   ]
  },
  {
   "cell_type": "code",
   "execution_count": 30,
   "metadata": {},
   "outputs": [
    {
     "name": "stdout",
     "output_type": "stream",
     "text": [
      "Dictionary(253854 unique tokens: ['a', 'abacus', 'abilities', 'ability', 'able']...)\n",
      "[(0, 1), (1, 1), (2, 1), (3, 1)]\n"
     ]
    }
   ],
   "source": [
    "print(dictionary)\n",
    "print(dictionary.doc2bow(['a', 'abacus', 'abilities', 'ability']))\n",
    "corpus2=[dictionary.doc2bow(word) for word in corpus]"
   ]
  },
  {
   "cell_type": "markdown",
   "metadata": {},
   "source": [
    "#### 2.6.1 Latent Dirichlet Allocation (LDA)"
   ]
  },
  {
   "cell_type": "code",
   "execution_count": 31,
   "metadata": {},
   "outputs": [],
   "source": [
    "model=gensim.models.ldamodel.LdaModel(corpus2, num_topics=5, id2word=dictionary) #LDA training"
   ]
  },
  {
   "cell_type": "code",
   "execution_count": 32,
   "metadata": {},
   "outputs": [
    {
     "data": {
      "text/plain": [
       "[(0, '0.074*\"the\" + 0.035*\"of\" + 0.025*\"and\" + 0.024*\"a\" + 0.022*\"in\"'),\n",
       " (1, '0.057*\"the\" + 0.037*\"of\" + 0.025*\"to\" + 0.023*\"a\" + 0.021*\"in\"'),\n",
       " (2, '0.045*\"the\" + 0.034*\"of\" + 0.034*\"one\" + 0.024*\"in\" + 0.024*\"nine\"'),\n",
       " (3, '0.069*\"the\" + 0.035*\"of\" + 0.022*\"in\" + 0.020*\"one\" + 0.019*\"to\"'),\n",
       " (4, '0.055*\"the\" + 0.033*\"and\" + 0.031*\"of\" + 0.027*\"one\" + 0.019*\"in\"')]"
      ]
     },
     "execution_count": 32,
     "metadata": {},
     "output_type": "execute_result"
    }
   ],
   "source": [
    "model.print_topics(num_words=5)"
   ]
  }
 ],
 "metadata": {
  "kernelspec": {
   "display_name": "Python 3",
   "language": "python",
   "name": "python3"
  },
  "language_info": {
   "codemirror_mode": {
    "name": "ipython",
    "version": 3
   },
   "file_extension": ".py",
   "mimetype": "text/x-python",
   "name": "python",
   "nbconvert_exporter": "python",
   "pygments_lexer": "ipython3",
   "version": "3.6.5"
  }
 },
 "nbformat": 4,
 "nbformat_minor": 2
}
