{
 "cells": [
  {
   "cell_type": "markdown",
   "metadata": {},
   "source": [
    "# Psychoinformatics - Week 13 (Exercises)\n",
    "廖永賦 (b04207003@ntu.edu.tw)"
   ]
  },
  {
   "cell_type": "markdown",
   "metadata": {},
   "source": [
    "## 1 歡樂送3分 (3 points)"
   ]
  },
  {
   "cell_type": "markdown",
   "metadata": {},
   "source": [
    "## 2 進一步研究 Regular expression\n",
    "用urllib+re在<a href=\"https://www.csie.ntu.edu.tw/members/teacher.php\">臺大資工系網頁</a>搜集教師emails."
   ]
  },
  {
   "cell_type": "code",
   "execution_count": 122,
   "metadata": {},
   "outputs": [
    {
     "name": "stdout",
     "output_type": "stream",
     "text": [
      "['cyy@csie.ntu.edu.tw', 'yangc@csie.ntu.edu.tw', 'hsuwc@csie.ntu.edu.tw', 'hungsh@csie.ntu.edu.tw', 'rfchang@csie.ntu.edu.tw', 'kmchao@csie.ntu.edu.tw', 'robin@ntu.edu.tw', 'ghchen@csie.ntu.edu.tw', 'hhchen@csie.ntu.edu.tw', 'wcchen@csie.ntu.edu.tw', 'mikechen@csie.ntu.edu.tw', 'yvchen@csie.ntu.edu.tw', 'pjcheng@csie.ntu.edu.tw', 'ccf@csie.ntu.edu.tw', 'lichen@csie.ntu.edu.tw', 'fuh@csie.ntu.edu.tw', 'hsiang@csie.ntu.edu.tw', 'hchsiao@csie.ntu.edu.tw', 'yjhsu@csie.ntu.edu.tw', 'whsu@ntu.edu.tw', 'cwhsueh@csie.ntu.edu.tw', 'hung@csie.ntu.edu.tw', 'jang@csie.ntu.edu.tw', 'ktw@csie.ntu.edu.tw', 'flai@csie.ntu.edu.tw', 'jlee@csie.ntu.edu.tw', 'lslee@cc.ee.ntu.edu.tw', 'mslee@csie.ntu.edu.tw', 'yenhuan.li@csie.ntu.edu.tw', 'liao@csie.ntu.edu.tw', 'cjlin@csie.ntu.edu.tw', 'sdlin@csie.ntu.edu.tw', 'htlin@csie.ntu.edu.tw', 'plin@csie.ntu.edu.tw', 'pangfeng@csie.ntu.edu.tw', 'hil@csie.ntu.edu.tw', 'lyuu@csie.ntu.edu.tw', 'ming@csie.ntu.edu.tw', 'yjoyang@csie.ntu.edu.tw', 'cshih@csie.ntu.edu.tw', 'acpang@csie.ntu.edu.tw', 'tonytan@csie.ntu.edu.tw', 'hsinmu@csie.ntu.edu.tw', 'bobwang@csie.ntu.edu.tw', 'wjl@cmlab.csie.ntu.edu.tw', 'cyy@csie.ntu.edu.tw', 'yangc@csie.ntu.edu.tw', 'hsuwc@csie.ntu.edu.tw', 'hungsh@csie.ntu.edu.tw', 'rfchang@csie.ntu.edu.tw', 'kmchao@csie.ntu.edu.tw', 'robin@ntu.edu.tw', 'ghchen@csie.ntu.edu.tw', 'hhchen@csie.ntu.edu.tw', 'wcchen@csie.ntu.edu.tw', 'mikechen@csie.ntu.edu.tw', 'yvchen@csie.ntu.edu.tw', 'pjcheng@csie.ntu.edu.tw', 'ccf@csie.ntu.edu.tw', 'fuh@csie.ntu.edu.tw', 'hsiang@csie.ntu.edu.tw', 'hchsiao@csie.ntu.edu.tw', 'yjhsu@csie.ntu.edu.tw', 'whsu@ntu.edu.tw', 'cwhsueh@csie.ntu.edu.tw', 'hung@csie.ntu.edu.tw', 'jang@csie.ntu.edu.tw', 'mku@csie.ntu.edu.tw', 'ktw@csie.ntu.edu.tw', 'jlee@csie.ntu.edu.tw', 'lslee@cc.ee.ntu.edu.tw', 'mslee@csie.ntu.edu.tw', 'yenhuan.li@csie.ntu.edu.tw', 'liao@csie.ntu.edu.tw', 'cjlin@csie.ntu.edu.tw', 'cwlin@csie.ntu.edu.tw', 'sdlin@csie.ntu.edu.tw', 'htlin@csie.ntu.edu.tw', 'plin@csie.ntu.edu.tw', 'pangfeng@csie.ntu.edu.tw', 'hil@csie.ntu.edu.tw', 'lyuu@csie.ntu.edu.tw', 'ming@csie.ntu.edu.tw', 'yjoyang@csie.ntu.edu.tw', 'cshih@csie.ntu.edu.tw', 'acpang@csie.ntu.edu.tw', 'hsinmu@csie.ntu.edu.tw', 'yjtseng@csie.ntu.edu.tw', 'wjl@cmlab.csie.ntu.edu.tw', 'dtlee@iis.sinica.edu.tw', 'andrewcyao@tsinghua.edu.cn', 'schen@isupergrid', 'janeliu@iis.sinica.edu.tw', 'wyma@microsoft.com', 'ma@cs.ucdavis.edu', 'hon@microsoft.com', 'klin@uci.edu ', 'chc@olemap.com', 'cykao@csie.ntu.edu.tw', 'weichao.chen@gmail.com', 'hsu@iis.sinica.edu.tw', 'jackiekan@csie.ntu.edu.tw', 'bywang@iis.sinica.edu.tw', 'hchu@csie.ntu.edu.tw', 'cyliou@csie.ntu.edu.tw', 'tshsu@iis.sinica.edu.tw', 'jau@csie.ntu.edu.tw', 'fc_lin@csie.ntu.edu.tw', 'ganboon@csie.ntu.edu.tw']\n"
     ]
    }
   ],
   "source": [
    "## Dowload html source\n",
    "import urllib.request\n",
    "fp = urllib.request.urlopen(\"https://www.csie.ntu.edu.tw/members/teacher.php\")\n",
    "byts = fp.read()\n",
    "raw = byts.decode(\"utf8\")\n",
    "fp.close()\n",
    "\n",
    "## Extract email JavaScript\n",
    "import re, html\n",
    "pat = re.compile('<li class=\\'mail\\'><script type=\\\"text/javascript\\\">(.+?)</script></li>', re.DOTALL)\n",
    "rawjs = pat.findall(raw)\n",
    "\n",
    "pat2 = re.compile('l\\[\\d+\\]=\\'(.+?)\\'')\n",
    "#print(pat2.findall(rawjs[3]))\n",
    "\n",
    "## Rewrite JavaScript document.write with Python\n",
    "email_raw = ['']*len(rawjs)\n",
    "for i, j in enumerate(rawjs):\n",
    "    matched_lst = ['']*len(pat2.findall(j))\n",
    "    for l, k in enumerate(reversed(pat2.findall(j))):\n",
    "        # k is a string\n",
    "        if (k[0] == '|'):\n",
    "            #matched_lst[l] = '&#' + urllib.parse.unquote(k[1:]) + ';'\n",
    "            matched_lst[l] = '&#' + k[1:] + ';'\n",
    "        else:\n",
    "            #matched_lst[l] = urllib.parse.unquote(k)\n",
    "            matched_lst[l] = k\n",
    "    html_atag = html.unescape(''.join(matched_lst))\n",
    "    email_raw[i] = re.sub('<[^<]*>', '', html_atag) # extract email between <a></a>\n",
    "\n",
    "print(email_raw)"
   ]
  }
 ],
 "metadata": {
  "kernelspec": {
   "display_name": "Python 3",
   "language": "python",
   "name": "python3"
  },
  "language_info": {
   "codemirror_mode": {
    "name": "ipython",
    "version": 3
   },
   "file_extension": ".py",
   "mimetype": "text/x-python",
   "name": "python",
   "nbconvert_exporter": "python",
   "pygments_lexer": "ipython3",
   "version": "3.6.5"
  }
 },
 "nbformat": 4,
 "nbformat_minor": 2
}
