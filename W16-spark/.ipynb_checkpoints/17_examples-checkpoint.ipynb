{
 "cells": [
  {
   "cell_type": "markdown",
   "metadata": {},
   "source": [
    "# Psychoinformatics - Week 17 (Examples)\n",
    "by Tsung-Ren (Tren) Huang (trhuang@g.ntu.edu.tw)"
   ]
  },
  {
   "cell_type": "code",
   "execution_count": 1,
   "metadata": {},
   "outputs": [],
   "source": [
    "%config IPCompleter.greedy=True \n",
    "#%matplotlib inline\n",
    "import numpy as np\n",
    "import matplotlib.pyplot as plt\n",
    "import IPython.display as ipd"
   ]
  },
  {
   "cell_type": "markdown",
   "metadata": {},
   "source": [
    "## 1 Performance Profiling (of CPU & RAM)\n",
    "To profile your programs outside Jupyter Notebook, popular choices are <a href=\"https://docs.python.org/3.2/library/profile.html\">cProfile</a> & <a href=\"https://pypi.org/project/perf/\">perf</a>."
   ]
  },
  {
   "cell_type": "markdown",
   "metadata": {},
   "source": [
    "### 1.0 Testing Materials"
   ]
  },
  {
   "cell_type": "code",
   "execution_count": 2,
   "metadata": {},
   "outputs": [],
   "source": [
    "import time\n",
    "s=0 # global sum\n",
    "\n",
    "def job(t):\n",
    "    global s\n",
    "    s+=1\n",
    "    print('Job ',t,s)\n",
    "    tmp=range(t)\n",
    "    time.sleep(t)  # wait for \"t\" seconds\n",
    "    return t"
   ]
  },
  {
   "cell_type": "markdown",
   "metadata": {},
   "source": [
    "### 1.1 CPU profiling (time/timeit/prun/lprun)"
   ]
  },
  {
   "cell_type": "code",
   "execution_count": 3,
   "metadata": {},
   "outputs": [
    {
     "name": "stdout",
     "output_type": "stream",
     "text": [
      "Job  1 1\n",
      "CPU times: user 2.76 ms, sys: 2.17 ms, total: 4.92 ms\n",
      "Wall time: 1.01 s\n"
     ]
    },
    {
     "data": {
      "text/plain": [
       "1"
      ]
     },
     "execution_count": 3,
     "metadata": {},
     "output_type": "execute_result"
    }
   ],
   "source": [
    "%time job(1)"
   ]
  },
  {
   "cell_type": "code",
   "execution_count": 4,
   "metadata": {},
   "outputs": [
    {
     "name": "stdout",
     "output_type": "stream",
     "text": [
      "Profiling the whole cell\n",
      "Job  0 2\n",
      "Job  1 3\n",
      "Job  2 4\n",
      "Job  3 5\n",
      "Job  4 6\n",
      "CPU times: user 9.16 ms, sys: 3.64 ms, total: 12.8 ms\n",
      "Wall time: 10 s\n"
     ]
    }
   ],
   "source": [
    "%%time \n",
    "print('Profiling the whole cell')\n",
    "for i in range(5):\n",
    "    job(i)"
   ]
  },
  {
   "cell_type": "code",
   "execution_count": 5,
   "metadata": {},
   "outputs": [
    {
     "name": "stdout",
     "output_type": "stream",
     "text": [
      "Job  1 7\n",
      "Job  1 8\n",
      "Job  1 9\n",
      "Job  1 10\n",
      "Job  1 11\n",
      "Job  1 12\n",
      "Job  1 13\n",
      "Job  1 14\n",
      "1 s ± 1.8 ms per loop (mean ± std. dev. of 7 runs, 1 loop each)\n"
     ]
    }
   ],
   "source": [
    "%timeit job(1)"
   ]
  },
  {
   "cell_type": "code",
   "execution_count": 6,
   "metadata": {},
   "outputs": [
    {
     "name": "stdout",
     "output_type": "stream",
     "text": [
      "Job  0 7\n",
      "0\n",
      "Job  1 8\n",
      "2\n",
      "Job  2 9\n",
      "4\n",
      "Job  3 10\n",
      "6\n",
      "Job  4 11\n",
      "8\n",
      " "
     ]
    }
   ],
   "source": [
    "%%prun \n",
    "for i in range(5):\n",
    "    print(job(i)*2)"
   ]
  },
  {
   "cell_type": "code",
   "execution_count": 7,
   "metadata": {},
   "outputs": [
    {
     "name": "stdout",
     "output_type": "stream",
     "text": [
      "Job  3 12\n"
     ]
    }
   ],
   "source": [
    "#!conda install line_profiler\n",
    "%load_ext line_profiler\n",
    "%lprun -f job job(3)"
   ]
  },
  {
   "cell_type": "markdown",
   "metadata": {},
   "source": [
    "### 1.2 Memory Profiling (memit/mprun)"
   ]
  },
  {
   "cell_type": "code",
   "execution_count": 8,
   "metadata": {},
   "outputs": [],
   "source": [
    "#!pip install memory_profiler\n",
    "%load_ext memory_profiler"
   ]
  },
  {
   "cell_type": "code",
   "execution_count": 9,
   "metadata": {},
   "outputs": [
    {
     "name": "stdout",
     "output_type": "stream",
     "text": [
      "peak memory: 81.59 MiB, increment: 7.94 MiB\n",
      "peak memory: 78.33 MiB, increment: 0.00 MiB\n",
      "peak memory: 78.34 MiB, increment: 0.01 MiB\n"
     ]
    }
   ],
   "source": [
    "#del a\n",
    "%memit a=list(range(100000))\n",
    "del a\n",
    "%memit a=range(100000)\n",
    "del a \n",
    "%memit a=np.arange(100000)"
   ]
  },
  {
   "cell_type": "code",
   "execution_count": 10,
   "metadata": {},
   "outputs": [
    {
     "name": "stdout",
     "output_type": "stream",
     "text": [
      "Overwriting test.py\n"
     ]
    }
   ],
   "source": [
    "%%file test.py\n",
    "import time\n",
    "def new_job(t):\n",
    "    print('Job ',t)\n",
    "    tmp=range(t)\n",
    "    time.sleep(t)  # wait for \"t\" seconds\n",
    "    return t"
   ]
  },
  {
   "cell_type": "code",
   "execution_count": 11,
   "metadata": {},
   "outputs": [
    {
     "name": "stdout",
     "output_type": "stream",
     "text": [
      "Job  3\n",
      "\n"
     ]
    }
   ],
   "source": [
    "from test import new_job\n",
    "%mprun -f new_job new_job(3)"
   ]
  },
  {
   "cell_type": "markdown",
   "metadata": {},
   "source": [
    "## 2 Asynchronous Computing (require Python 3.7+)\n",
    "Python is still working on asyncio. You should always check out the <a href=\"https://docs.python.org/3/library/asyncio.html\">latest documents</a>."
   ]
  },
  {
   "cell_type": "markdown",
   "metadata": {},
   "source": [
    "### 2.0 asyncio"
   ]
  },
  {
   "cell_type": "code",
   "execution_count": 12,
   "metadata": {},
   "outputs": [],
   "source": [
    "#!conda install -c anaconda python=3.7\n",
    "# or reinstall Anaconda from https://www.anaconda.com/download/"
   ]
  },
  {
   "cell_type": "code",
   "execution_count": 13,
   "metadata": {},
   "outputs": [
    {
     "name": "stdout",
     "output_type": "stream",
     "text": [
      "Overwriting test.py\n"
     ]
    }
   ],
   "source": [
    "%%file test.py\n",
    "import asyncio\n",
    "import time\n",
    "\n",
    "async def say_after(delay, what):\n",
    "    await asyncio.sleep(delay)\n",
    "    print(what)\n",
    "\n",
    "async def main1(): # wait for every task to complete:\n",
    "    t0=time.time()\n",
    "    await asyncio.gather(say_after(1,'hello'),say_after(2,'world'))\n",
    "    #await asyncio.gather(*[say_after(1,'hello'),say_after(2,'world')])\n",
    "    print(time.time()-t0)\n",
    "    \n",
    "async def main2():\n",
    "    t0=time.time() # wait for a particular task to complete:\n",
    "    task1=asyncio.create_task(say_after(1,'hello'))\n",
    "    task2=asyncio.create_task(say_after(2,'world'))\n",
    "    #await task1\n",
    "    print(time.time()-t0)\n",
    "    \n",
    "asyncio.run(main1()) # switch between main1() & main2()"
   ]
  },
  {
   "cell_type": "code",
   "execution_count": 14,
   "metadata": {},
   "outputs": [
    {
     "name": "stdout",
     "output_type": "stream",
     "text": [
      "hello\n",
      "world\n",
      "2.00559401512146\n"
     ]
    }
   ],
   "source": [
    "!python test.py"
   ]
  },
  {
   "cell_type": "markdown",
   "metadata": {},
   "source": [
    "### 2.1 Synchronous Crawlers"
   ]
  },
  {
   "cell_type": "code",
   "execution_count": 15,
   "metadata": {},
   "outputs": [],
   "source": [
    "import urllib\n",
    "def ptt(page):\n",
    "    print(page,end=' ')\n",
    "    u='http://www.ptt.cc/bbs/boy-girl/index'+str(page)+'.html' \n",
    "    r=urllib.request.Request(u,headers={'User-Agent':''})\n",
    "    return urllib.request.urlopen(r).read().decode('utf-8')"
   ]
  },
  {
   "cell_type": "code",
   "execution_count": 16,
   "metadata": {},
   "outputs": [
    {
     "name": "stdout",
     "output_type": "stream",
     "text": [
      "1 2 3 4 5 6 7 8 9 10 CPU times: user 248 ms, sys: 31.8 ms, total: 280 ms\n",
      "Wall time: 1.47 s\n"
     ]
    }
   ],
   "source": [
    "%%time\n",
    "for i in range(1,11): \n",
    "    text=ptt(i)\n",
    "    #print(text) # it does get stuff!"
   ]
  },
  {
   "cell_type": "markdown",
   "metadata": {},
   "source": [
    "### 2.1 Asynchronous Crawlers"
   ]
  },
  {
   "cell_type": "code",
   "execution_count": 17,
   "metadata": {},
   "outputs": [
    {
     "name": "stdout",
     "output_type": "stream",
     "text": [
      "Overwriting test.py\n"
     ]
    }
   ],
   "source": [
    "%%file test.py\n",
    "\n",
    "import aiohttp,asyncio,time\n",
    "\n",
    "async def ptt(session,page):\n",
    "    print(page,end=' ')\n",
    "    URI='http://www.ptt.cc/bbs/boy-girl/index'+str(page)+'.html' \n",
    "    response = await session.get(URI) # wait & switch\n",
    "    return await response.text()\n",
    "\n",
    "async def main():\n",
    "    async with aiohttp.ClientSession() as session:\n",
    "        all_texts = await asyncio.gather(*[ptt(session,i) for i in range(1,11)])\n",
    "        #print(all_texts) # it does get stuff!\n",
    "\n",
    "t0=time.time()\n",
    "asyncio.run(main())\n",
    "print(time.time()-t0)"
   ]
  },
  {
   "cell_type": "code",
   "execution_count": 18,
   "metadata": {},
   "outputs": [
    {
     "name": "stdout",
     "output_type": "stream",
     "text": [
      "1 2 3 4 5 6 7 8 9 10 0.17531275749206543\r\n"
     ]
    }
   ],
   "source": [
    "!python test.py"
   ]
  },
  {
   "cell_type": "markdown",
   "metadata": {},
   "source": [
    "## 3 Parallel Computing (w/ multiple threads or processes)"
   ]
  },
  {
   "cell_type": "code",
   "execution_count": 2,
   "metadata": {},
   "outputs": [
    {
     "name": "stdout",
     "output_type": "stream",
     "text": [
      "Collecting mkl\n",
      "\u001b[?25l  Downloading https://files.pythonhosted.org/packages/9b/98/c892b77b755cb0c53491eabc88c49451a92e36fa5c5baf578e77b91ee31d/mkl-2019.0-py2.py3-none-manylinux1_x86_64.whl (261.0MB)\n",
      "\u001b[K    100% |████████████████████████████████| 261.0MB 171kB/s ta 0:00:01    38% |████████████▍                   | 101.3MB 132kB/s eta 0:20:08    53% |█████████████████▏              | 140.2MB 302kB/s eta 0:06:39    83% |██████████████████████████▊     | 218.2MB 403kB/s eta 0:01:47\n",
      "\u001b[?25hCollecting intel-openmp (from mkl)\n",
      "\u001b[?25l  Downloading https://files.pythonhosted.org/packages/ea/f0/b1bc380d90241ab37149ed526a2ae585f6780ba616bd670b57f0559be37b/intel_openmp-2019.0-py2.py3-none-manylinux1_x86_64.whl (729kB)\n",
      "\u001b[K    100% |████████████████████████████████| 737kB 267kB/s ta 0:00:01\n",
      "\u001b[?25hInstalling collected packages: intel-openmp, mkl\n",
      "Successfully installed intel-openmp-2019.0 mkl-2019.0\n",
      "\u001b[33mYou are using pip version 18.0, however version 18.1 is available.\n",
      "You should consider upgrading via the 'pip install --upgrade pip' command.\u001b[0m\n"
     ]
    },
    {
     "ename": "ModuleNotFoundError",
     "evalue": "No module named 'mkl'",
     "output_type": "error",
     "traceback": [
      "\u001b[0;31m--------------------------------------------------------------------\u001b[0m",
      "\u001b[0;31mModuleNotFoundError\u001b[0m                Traceback (most recent call last)",
      "\u001b[0;32m<ipython-input-2-955b609df8dc>\u001b[0m in \u001b[0;36m<module>\u001b[0;34m()\u001b[0m\n\u001b[1;32m      1\u001b[0m \u001b[0;31m# Number of threads NumPy can utilize\u001b[0m\u001b[0;34m\u001b[0m\u001b[0;34m\u001b[0m\u001b[0;34m\u001b[0m\u001b[0m\n\u001b[1;32m      2\u001b[0m \u001b[0mget_ipython\u001b[0m\u001b[0;34m(\u001b[0m\u001b[0;34m)\u001b[0m\u001b[0;34m.\u001b[0m\u001b[0msystem\u001b[0m\u001b[0;34m(\u001b[0m\u001b[0;34m'pip3 install mkl'\u001b[0m\u001b[0;34m)\u001b[0m\u001b[0;34m\u001b[0m\u001b[0;34m\u001b[0m\u001b[0m\n\u001b[0;32m----> 3\u001b[0;31m \u001b[0;32mimport\u001b[0m \u001b[0mmkl\u001b[0m\u001b[0;34m.\u001b[0m\u001b[0mservice\u001b[0m\u001b[0;34m\u001b[0m\u001b[0;34m\u001b[0m\u001b[0m\n\u001b[0m\u001b[1;32m      4\u001b[0m \u001b[0mmkl\u001b[0m\u001b[0;34m.\u001b[0m\u001b[0mservice\u001b[0m\u001b[0;34m.\u001b[0m\u001b[0mget_max_threads\u001b[0m\u001b[0;34m(\u001b[0m\u001b[0;34m)\u001b[0m\u001b[0;34m\u001b[0m\u001b[0;34m\u001b[0m\u001b[0m\n",
      "\u001b[0;31mModuleNotFoundError\u001b[0m: No module named 'mkl'"
     ]
    }
   ],
   "source": [
    "# Number of threads NumPy can utilize\n",
    "!pip3 install mkl\n",
    "import mkl.service\n",
    "mkl.service.get_max_threads()"
   ]
  },
  {
   "cell_type": "markdown",
   "metadata": {},
   "source": [
    "### 3.0 Sequential Commands (filter/map/reduce)"
   ]
  },
  {
   "cell_type": "code",
   "execution_count": 20,
   "metadata": {},
   "outputs": [
    {
     "name": "stdout",
     "output_type": "stream",
     "text": [
      "[6, 7, 8, 9, 10] [None, None, None, None, None, 6, 7, 8, 9, 10] 55\n"
     ]
    }
   ],
   "source": [
    "from functools import reduce\n",
    "\n",
    "def f1(x):\n",
    "    return x if x > 5 else None\n",
    "\n",
    "def f2(x,y):\n",
    "    return x+y\n",
    "\n",
    "a=list(range(1,11))\n",
    "b=filter(f1,a)\n",
    "c=map(f1,a)\n",
    "d=reduce(f2,a)\n",
    "\n",
    "print(list(b),list(c),d)"
   ]
  },
  {
   "cell_type": "markdown",
   "metadata": {},
   "source": [
    "### 3.1 Multiple Threads (w/ shared memory)"
   ]
  },
  {
   "cell_type": "code",
   "execution_count": 21,
   "metadata": {},
   "outputs": [],
   "source": [
    "import concurrent.futures as cf\n",
    "\n",
    "s=0 # global sum\n",
    "\n",
    "def job(t):\n",
    "    global s\n",
    "    s+=1\n",
    "    print('Job ',t,s)\n",
    "    tmp=range(t)\n",
    "    time.sleep(t)  # wait for \"t\" seconds\n",
    "    return t"
   ]
  },
  {
   "cell_type": "code",
   "execution_count": 22,
   "metadata": {},
   "outputs": [
    {
     "name": "stdout",
     "output_type": "stream",
     "text": [
      "Job  1 1\n",
      "Job  2 2\n",
      "Job  3 3\n",
      "Job  4 4\n",
      "[1, 2, 3, 4]\n",
      "CPU times: user 9.46 ms, sys: 4.76 ms, total: 14.2 ms\n",
      "Wall time: 6.01 s\n"
     ]
    }
   ],
   "source": [
    "%%time\n",
    "with cf.ThreadPoolExecutor(max_workers=2) as pool:\n",
    "    results=pool.map(job,range(1,5))\n",
    "print(list(results))"
   ]
  },
  {
   "cell_type": "markdown",
   "metadata": {},
   "source": [
    "### 3.2 Multiple Processes (w/ distributed memory)"
   ]
  },
  {
   "cell_type": "code",
   "execution_count": 23,
   "metadata": {},
   "outputs": [
    {
     "name": "stdout",
     "output_type": "stream",
     "text": [
      "Job  1 5\n",
      "Job  3 5\n",
      "Job  2 5\n",
      "Job  4 5\n",
      "[1, 2, 3, 4]\n",
      "CPU times: user 20.7 ms, sys: 28.9 ms, total: 49.5 ms\n",
      "Wall time: 4.07 s\n"
     ]
    }
   ],
   "source": [
    "%%time\n",
    "# Different processes don't share memory\n",
    "with cf.ProcessPoolExecutor(max_workers=4) as pool:\n",
    "    results=pool.map(job,range(1,5))\n",
    "print(list(results))"
   ]
  },
  {
   "cell_type": "code",
   "execution_count": 24,
   "metadata": {},
   "outputs": [
    {
     "name": "stdout",
     "output_type": "stream",
     "text": [
      "abc\n"
     ]
    }
   ],
   "source": [
    "# Testing Queue for memory-sharing:\n",
    "from multiprocessing import Pool, Queue\n",
    "queue = Queue()\n",
    "queue.put('abc')\n",
    "msg=queue.get()    \n",
    "#msg=queue.get()    \n",
    "print(msg)"
   ]
  },
  {
   "cell_type": "code",
   "execution_count": 25,
   "metadata": {},
   "outputs": [],
   "source": [
    "# Revise the job function to see a shared queue:\n",
    "def job2(tq): #ts=(t,q)\n",
    "    s=tq[1].get()+1 # get & update the sum from the queue\n",
    "    tq[1].put(s) # put the sum back to the queue\n",
    "    print('Job ',tq[0],s)\n",
    "    time.sleep(tq[0])  # wait for \"t\" seconds\n",
    "    return tq[0]"
   ]
  },
  {
   "cell_type": "code",
   "execution_count": 26,
   "metadata": {},
   "outputs": [
    {
     "name": "stdout",
     "output_type": "stream",
     "text": [
      "Job  1 1\n",
      "Job  2 2\n"
     ]
    },
    {
     "data": {
      "text/plain": [
       "[(1, <multiprocessing.queues.Queue at 0x10e8fe6d8>),\n",
       " (2, <multiprocessing.queues.Queue at 0x10e8fe6d8>),\n",
       " (3, <multiprocessing.queues.Queue at 0x10e8fe6d8>),\n",
       " (4, <multiprocessing.queues.Queue at 0x10e8fe6d8>)]"
      ]
     },
     "execution_count": 26,
     "metadata": {},
     "output_type": "execute_result"
    }
   ],
   "source": [
    "# Testing a shared queue:\n",
    "q=Queue()\n",
    "q.put(0)\n",
    "job2((1,q))\n",
    "job2((2,q))\n",
    "[(i,q) for i in range(1,5)]"
   ]
  },
  {
   "cell_type": "code",
   "execution_count": 27,
   "metadata": {},
   "outputs": [
    {
     "name": "stdout",
     "output_type": "stream",
     "text": [
      "Job  2 1\n",
      "Job  3 2\n",
      "Job  1 3\n",
      "Job  4 4\n",
      "[1, 2, 3, 4]\n",
      "CPU times: user 30.5 ms, sys: 33.8 ms, total: 64.3 ms\n",
      "Wall time: 4.12 s\n"
     ]
    }
   ],
   "source": [
    "%%time\n",
    "# Multiple processes w/ a shared queue:\n",
    "import multiprocessing\n",
    "m=multiprocessing.Manager()\n",
    "q=m.Queue()\n",
    "q.put(0)\n",
    "pool=Pool(processes=4)  \n",
    "results=pool.map(job2,[(i,q) for i in range(1,5)])\n",
    "print(list(results))"
   ]
  },
  {
   "cell_type": "markdown",
   "metadata": {},
   "source": [
    "### 3.2 GPU Computing\n",
    "Because Tensorflow does not support Python 3.7, we used <a href=\"https://pytorch.org/\">PyTorch</a> instead.\n",
    "You can check <a href=\"https://github.com/wkentaro/pytorch-for-numpy-users\">\"PyTorch for NumPy users\"</a> for a quick introduction."
   ]
  },
  {
   "cell_type": "code",
   "execution_count": 28,
   "metadata": {},
   "outputs": [
    {
     "name": "stdout",
     "output_type": "stream",
     "text": [
      "CPU times: user 3.12 s, sys: 55.9 ms, total: 3.17 s\n",
      "Wall time: 3.24 s\n"
     ]
    }
   ],
   "source": [
    "%%time\n",
    "m=np.random.rand(4096,2160) #4K video\n",
    "for i in range(120): #120 frames\n",
    "    m/=2"
   ]
  },
  {
   "cell_type": "code",
   "execution_count": 29,
   "metadata": {},
   "outputs": [],
   "source": [
    "import torch as t\n",
    "t.backends.cudnn.benchmark=True"
   ]
  },
  {
   "cell_type": "code",
   "execution_count": 30,
   "metadata": {},
   "outputs": [
    {
     "name": "stdout",
     "output_type": "stream",
     "text": [
      "CPU times: user 1.02 s, sys: 388 ms, total: 1.4 s\n",
      "Wall time: 1.41 s\n"
     ]
    }
   ],
   "source": [
    "%%time\n",
    "#m=t.rand(4096,2160).cuda() # if you have a NVIDIA gpu\n",
    "m=t.rand(4096,2160)\n",
    "for i in range(120): #120 frames\n",
    "    m=t.div(m,2)"
   ]
  },
  {
   "cell_type": "markdown",
   "metadata": {},
   "source": [
    "## 4 Distributed Computing (w/ PySpark)\n",
    "You can read <a href=\"https://spark.apache.org/docs/latest/quick-start.html\">this</a> for a quick introduction to Spark."
   ]
  },
  {
   "cell_type": "markdown",
   "metadata": {},
   "source": [
    "### 4.0 Spark Basics"
   ]
  },
  {
   "cell_type": "code",
   "execution_count": 31,
   "metadata": {},
   "outputs": [
    {
     "data": {
      "text/plain": [
       "[('spark.rdd.compress', 'True'),\n",
       " ('spark.driver.host', '192.168.0.14'),\n",
       " ('spark.serializer.objectStreamReset', '100'),\n",
       " ('spark.app.id', 'local-1546449837183'),\n",
       " ('spark.master', 'local[*]'),\n",
       " ('spark.driver.port', '49756'),\n",
       " ('spark.executor.id', 'driver'),\n",
       " ('spark.submit.deployMode', 'client'),\n",
       " ('spark.ui.showConsoleProgress', 'true'),\n",
       " ('spark.app.name', 'pyspark-shell')]"
      ]
     },
     "execution_count": 31,
     "metadata": {},
     "output_type": "execute_result"
    }
   ],
   "source": [
    "import pyspark\n",
    "sc=pyspark.SparkContext()\n",
    "sc.getConf().getAll()"
   ]
  },
  {
   "cell_type": "code",
   "execution_count": 32,
   "metadata": {},
   "outputs": [
    {
     "name": "stdout",
     "output_type": "stream",
     "text": [
      "45 (count: 10, mean: 4.5, stdev: 2.8722813232690143, max: 9.0, min: 0.0)\n"
     ]
    },
    {
     "data": {
      "text/plain": [
       "[0.0,\n",
       " 10.0,\n",
       " 14.142135623730951,\n",
       " 17.32050807568877,\n",
       " 20.0,\n",
       " 22.360679774997898,\n",
       " 24.49489742783178,\n",
       " 26.457513110645905,\n",
       " 28.284271247461902,\n",
       " 30.0]"
      ]
     },
     "execution_count": 32,
     "metadata": {},
     "output_type": "execute_result"
    }
   ],
   "source": [
    "rdd=sc.parallelize(range(10))\n",
    "rdd.filter(lambda x:x>5).collect()\n",
    "print(rdd.sum(),rdd.stats())\n",
    "rdd.reduce(lambda x,y:x+y)\n",
    "\n",
    "import math\n",
    "rdd2=rdd.map(lambda x:math.sqrt(x)*10)\n",
    "rdd2.collect() #collected to local memory"
   ]
  },
  {
   "cell_type": "markdown",
   "metadata": {},
   "source": [
    "### 4.1 Estimation of Pi (map)"
   ]
  },
  {
   "cell_type": "code",
   "execution_count": 33,
   "metadata": {},
   "outputs": [
    {
     "data": {
      "text/plain": [
       "[('spark.rdd.compress', 'True'),\n",
       " ('spark.driver.host', '192.168.0.14'),\n",
       " ('spark.serializer.objectStreamReset', '100'),\n",
       " ('spark.executor.id', 'driver'),\n",
       " ('spark.driver.port', '49791'),\n",
       " ('spark.submit.deployMode', 'client'),\n",
       " ('spark.app.id', 'local-1546449841250'),\n",
       " ('spark.ui.showConsoleProgress', 'true'),\n",
       " ('spark.master', 'local[2]'),\n",
       " ('spark.app.name', 'pyspark-shell')]"
      ]
     },
     "execution_count": 33,
     "metadata": {},
     "output_type": "execute_result"
    }
   ],
   "source": [
    "sc.stop()\n",
    "sc=pyspark.SparkContext(master='local[2]') # try \"local\"\n",
    "sc.getConf().getAll()"
   ]
  },
  {
   "cell_type": "code",
   "execution_count": 34,
   "metadata": {},
   "outputs": [
    {
     "name": "stdout",
     "output_type": "stream",
     "text": [
      "1.4918570518493652 Pi is roughly 3.140352\n",
      "0.9012300968170166 Pi is roughly 3.140352\n"
     ]
    }
   ],
   "source": [
    "import time, numpy as np\n",
    "\n",
    "NUM_SAMPLES=1000000\n",
    "\n",
    "def inside1(p):\n",
    "    x, y = np.random.random(), np.random.random()\n",
    "    return 1 if x*x + y*y < 1 else 0\n",
    "\n",
    "def inside2(p):\n",
    "    x, y = np.random.random(), np.random.random()\n",
    "    return x*x + y*y < 1\n",
    "\n",
    "t0=time.time()\n",
    "count = sc.parallelize(range(0, NUM_SAMPLES)).map(inside1).sum()\n",
    "print(time.time()-t0,\"Pi is roughly %f\" % (4.0 * count / NUM_SAMPLES))\n",
    "\n",
    "t0=time.time()\n",
    "count = sc.parallelize(range(0, NUM_SAMPLES)).filter(inside2).count()\n",
    "print(time.time()-t0,\"Pi is roughly %f\" % (4.0 * count / NUM_SAMPLES))"
   ]
  },
  {
   "cell_type": "markdown",
   "metadata": {},
   "source": [
    "### 4.2 Word Counts (map+reduce)"
   ]
  },
  {
   "cell_type": "code",
   "execution_count": 35,
   "metadata": {},
   "outputs": [
    {
     "name": "stdout",
     "output_type": "stream",
     "text": [
      "[('Project', 78), ('Gutenberg’s', 2), ('Alice’s', 11), ('in', 401), ('Wonderland,', 3), ('Lewis', 4), ('Carroll', 4), ('', 2244), ('is', 89), ('use', 24), ('of', 596), ('anyone', 4), ('anywhere', 3), ('at', 211), ('no', 72), ('restrictions', 2), ('whatsoever.', 2), ('may', 26), ('it,', 41), ('give', 12), ('away', 17), ('re-use', 2), ('this', 122), ('online', 4), ('www.gutenberg.org', 2), ('Author:', 1), ('Posting', 1), ('Date:', 2), ('#11]', 1), ('1994', 1), ('Last', 2), ('2016', 1), ('Language:', 1), ('English', 2), ('Character', 1), ('set', 23), ('UTF-8', 1), ('***', 6), ('OF', 13), ('THIS', 8), ('GUTENBERG', 3), ('ALICE’S', 5), ('ADVENTURES', 3), ('MILLENNIUM', 1), ('FULCRUM', 1), ('EDITION', 1), ('I.', 1), ('Down', 1), ('Rabbit-Hole', 1), ('was', 329), ('very', 127), ('sitting', 10), ('her', 203), ('sister', 5), ('bank,', 2), ('do:', 1), ('once', 18), ('into', 67), ('book', 3), ('reading,', 1), ('but', 105), ('pictures', 4), ('‘and', 38), ('book,’', 2), ('thought', 63), ('‘without', 1), ('conversations?’', 1), ('own', 9), ('mind', 4), ('(as', 2), ('as', 246), ('hot', 4), ('feel', 8), ('stupid),', 1), ('making', 8), ('would', 68), ('worth', 4), ('trouble', 4), ('getting', 21), ('daisies,', 1), ('when', 67), ('suddenly', 9), ('White', 22), ('eyes', 18), ('ran', 13), ('close', 12), ('VERY', 12), ('nor', 2), ('think', 37), ('out', 97), ('way', 39), ('hear', 15), ('say', 35), ('Oh', 5), ('afterwards,', 1), ('occurred', 2), ('ought', 13), ('have', 77), ('this,', 17), ('seemed', 27), ('quite', 53), ('TOOK', 1), ('OUT', 1), ('ITS', 1), ('WAISTCOAT-POCKET,', 1), ('looked', 45), ('on,', 28), ('started', 2), ('feet,', 6), ('flashed', 1), ('never', 37), ('before', 20), ('seen', 12), ('rabbit', 1), ('waistcoat-pocket,', 1), ('watch', 5), ('take', 18), ('burning', 1), ('curiosity,', 2), ('field', 1), ('after', 35), ('just', 43), ('pop', 1), ('down', 77), ('large', 32), ('rabbit-hole', 2), ('hedge.', 1), ('world', 6), ('The', 100), ('like', 74), ('dipped', 2), ('stopping', 1), ('falling', 2), ('deep,', 2), ('look', 25), ('wonder', 15), ('happen', 5), ('next.', 3), ('tried', 18), ('make', 29), ('dark', 3), ('anything;', 2), ('well,', 1), ('filled', 3), ('cupboards', 2), ('book-shelves;', 1), ('there', 44), ('maps', 1), ('hung', 1), ('upon', 28), ('She', 33), ('took', 23), ('jar', 2), ('shelves', 1), ('passed;', 1), ('labelled', 1), ('disappointment', 1), ('fear', 4), ('killing', 1), ('somebody,', 1), ('managed', 3), ('put', 31), ('past', 1), ('it.', 15), ('‘Well!’', 1), ('fall', 6), ('brave', 1), ('they’ll', 4), ('home!', 1), ('wouldn’t', 12), ('anything', 15), ('even', 18), ('likely', 4), ('true.)', 1), ('Down,', 2), ('down.', 2), ('NEVER', 2), ('an', 56), ('‘I', 121), ('miles', 3), ('I’ve', 20), ('said', 416), ('must', 48), ('near', 13), ('Let', 6), ('four', 6), ('thousand', 2), ('think--’', 3), ('(for,', 1), ('learnt', 2), ('several', 5), ('things', 21), ('though', 6), ('good', 23), ('opportunity', 9), ('showing', 2), ('her,', 18), ('‘--yes,', 1), ('right', 22), ('got', 45), ('to?’', 3), ('(Alice', 4), ('idea', 14), ('either,', 2), ('nice', 5), ('grand', 2), ('Presently', 2), ('earth!', 1), ('walk', 4), ('rather', 25), ('listening,', 2), ('didn’t', 11), ('sound', 3), ('word)', 1), ('ask', 7), ('them', 49), ('name', 9), ('country', 3), ('is,', 16), ('Please,', 1), ('Ma’am,', 1), ('New', 1), ('Australia?’', 1), ('(and', 2), ('curtsey', 1), ('you’re', 15), ('air!', 1), ('Do', 8), ('it?)', 1), ('she’ll', 2), ('do', 60), ('perhaps', 12), ('somewhere.’', 1), ('do,', 7), ('talking', 12), ('to-night,', 1), ('(Dinah', 1), ('cat.)', 1), ('saucer', 1), ('milk', 1), ('Dinah', 4), ('are', 54), ('air,', 5), ('I’m', 36), ('But', 15), ('cats', 9), ('And', 49), ('sleepy,', 1), ('saying', 11), ('dreamy', 1), ('bats?', 1), ('sometimes,', 1), ('bats', 1), ('question,', 4), ('matter', 8), ('felt', 23), ('dream', 3), ('Dinah,', 3), ('tell', 26), ('truth:', 1), ('ever', 16), ('suddenly,', 1), ('thump!', 2), ('came', 38), ('sticks', 1), ('leaves,', 2), ('hurt,', 1), ('moment:', 1), ('overhead;', 1), ('long', 30), ('sight,', 4), ('turned', 16), ('ears', 4), ('whiskers,', 1), ('late', 3), ('it’s', 25), ('longer', 2), ('seen:', 1), ('low', 7), ('lit', 1), ('row', 2), ('hanging', 3), ('round', 30), ('locked;', 1), ('trying', 11), ('walked', 10), ('middle,', 3), ('three-legged', 2), ('glass;', 1), ('tiny', 4), ('key,', 3), ('belong', 1), ('but,', 6), ('large,', 1), ('small,', 1), ('rate', 4), ('open', 6), ('them.', 2), ('However,', 14), ('round,', 7), ('curtain', 1), ('before,', 11), ('fifteen', 1), ('high:', 3), ('lock,', 1), ('delight', 1), ('opened', 9), ('led', 4), ('larger', 3), ('than', 24), ('loveliest', 1), ('garden', 4), ('wander', 1), ('bright', 7), ('flowers', 2), ('fountains,', 1), ('head', 29), ('doorway;', 1), ('go', 38), ('poor', 25), ('Alice,', 76), ('shoulders.', 1), ('Oh,', 3), ('only', 45), ('out-of-the-way', 3), ('happened', 3), ('indeed', 3), ('really', 9), ('impossible.', 1), ('waiting', 7), ('rules', 4), ('telescopes:', 1), ('[‘which', 1), ('certainly', 8), ('neck', 6), ('label,', 1), ('ME’', 2), ('beautifully', 2), ('letters.', 1), ('It', 17), ('THAT', 8), ('hurry.', 3), ('‘No,', 9), ('I’ll', 23), ('first,’', 2), ('read', 10), ('histories', 1), ('wild', 2), ('beasts', 1), ('other', 39), ('things,', 2), ('simple', 5), ('as,', 3), ('cut', 5), ('finger', 3), ('knife,', 1), ('bleeds;', 1), ('that,', 5), ('certain', 4), ('ventured', 4), ('mixed', 2), ('pine-apple,', 1), ('toffee,', 1), ('buttered', 1), ('off.', 5), ('*', 60), ('curious', 16), ('feeling!’', 1), ('now', 23), ('ten', 5), ('high,', 3), ('brightened', 2), ('size', 6), ('lovely', 2), ('garden.', 3), ('however,', 6), ('minutes', 7), ('shrink', 1), ('this;', 2), ('end,', 1), ('know,’', 8), ('‘in', 3), ('candle.', 1), ('fancy', 3), ('flame', 1), ('out,', 13), ('thing.', 1), ('more', 38), ('decided', 3), ('alas', 1), ('Alice!', 3), ('it:', 9), ('best', 7), ('climb', 1), ('sat', 17), ('cried.', 2), ('there’s', 15), ('crying', 2), ('sharply;', 1), ('advise', 1), ('leave', 6), ('minute!’', 1), ('gave', 13), ('(though', 1), ('it),', 2), ('sometimes', 4), ('bring', 2), ('tears', 4), ('eyes;', 1), ('cheated', 1), ('croquet', 3), ('against', 10), ('child', 3), ('fond', 3), ('two', 20), ('people.', 1), ('now,’', 4), ('people!', 1), ('ONE', 2), ('Soon', 1), ('glass', 4), ('table:', 1), ('‘EAT', 1), ('currants.', 1), ('‘Well,', 20), ('larger,', 3), ('key;', 1), ('creep', 1), ('garden,', 5), ('happens!’', 1), ('bit,', 2), ('anxiously', 13), ('‘Which', 3), ('Which', 3), ('way?’,', 1), ('holding', 2), ('surprised', 6), ('size:', 3), ('sure,', 2), ('expecting', 3), ('dull', 2), ('stupid', 1), ('common', 1), ('way.', 3), ('work,', 8), ('II.', 1), ('Pool', 1), ('Tears', 1), ('‘Curiouser', 1), ('surprised,', 1), ('forgot', 2), ('speak', 8), ('‘now', 1), ('(for', 1), ('far', 9), ('shoes', 5), ('dears?', 1), ('sure', 16), ('_I_', 2), ('deal', 11), ('myself', 2), ('can;--but', 1), ('kind', 6), ('them,’', 3), ('go!', 1), ('new', 7), ('boots', 2), ('Christmas.’', 1), ('planning', 1), ('‘They', 9), ('carrier,’', 1), ('thought;', 1), ('seem,', 1), ('presents', 2), ('one’s', 1), ('feet!', 1), ('directions', 1), ('ESQ.', 1), ('NEAR', 1), ('FENDER,', 1), ('LOVE).', 1), ('nonsense', 1), ('Just', 5), ('eye;', 2), ('ever:', 1), ('cry', 3), ('‘You', 30), ('yourself,’', 1), ('you,’', 6), ('Stop', 1), ('tears,', 3), ('until', 4), ('reaching', 2), ('heard', 29), ('pattering', 3), ('hastily', 7), ('dried', 1), ('coming.', 2), ('dressed,', 1), ('kid', 5), ('he', 96), ('hurry,', 1), ('muttering', 3), ('Duchess,', 8), ('Oh!', 1), ('savage', 3), ('kept', 13), ('waiting!’', 1), ('ready', 7), ('help', 11), ('one;', 2), ('began,', 6), ('low,', 6), ('violently,', 2), ('dropped', 4), ('fan,', 1), ('go.', 1), ('everything', 9), ('changed', 7), ('think:', 1), ('different.', 1), ('question', 7), ('am', 13), ('I?', 1), ('Ah,', 1), ('THAT’S', 3), ('‘I’m', 19), ('hair', 5), ('goes', 7), ('ringlets,', 1), ('all;', 2), ('can’t', 27), ('know', 45), ('sorts', 3), ('she,', 4), ('oh!', 2), ('Besides,', 1), ('SHE’S', 1), ('and--oh', 2), ('puzzling', 4), ('is!', 1), ('try', 12), ('used', 15), ('twelve,', 1), ('seven', 1), ('twenty', 1), ('Multiplication', 1), ('signify:', 1), ('let’s', 3), ('Geography.', 1), ('Rome,', 1), ('Rome--no,', 1), ('“How', 1), ('doth', 2), ('crossed', 3), ('lap', 2), ('lessons,', 1), ('repeat', 6), ('hoarse', 2), ('do:--', 1), ('Improve', 1), ('his', 93), ('shining', 1), ('tail,', 3), ('pour', 1), ('neatly', 2), ('fishes', 1), ('gently', 3), ('smiling', 2), ('again', 13), ('Mabel', 1), ('live', 7), ('with,', 1), ('here!', 2), ('It’ll', 1), ('putting', 3), ('again,', 31), ('dear!”', 1), ('then,', 6), ('person,', 1), ('up:', 1), ('till', 19), ('else”--but,', 1), ('oh', 1), ('burst', 1), ('down!', 2), ('here!’', 1), ('talking.', 2), ('CAN', 4), ('that?’', 6), ('thought.', 2), ('again.’', 2), ('measure', 1), ('shrinking', 4), ('rapidly:', 1), ('cause', 3), ('‘That', 6), ('escape!’', 1), ('frightened', 7), ('change,', 2), ('existence;', 1), ('garden!’', 1), ('speed', 1), ('door:', 1), ('worse', 2), ('declare', 1), ('these', 14), ('chin', 4), ('salt', 2), ('water.', 1), ('Her', 3), ('somehow', 1), ('sea,', 3), ('railway,’', 1), ('seaside', 1), ('life,', 2), ('wherever', 2), ('coast', 1), ('bathing', 1), ('digging', 2), ('spades,', 1), ('lodging', 1), ('station.)', 1), ('wept', 1), ('high.', 3), ('much!’', 2), ('about,', 6), ('out.', 2), ('punished', 1), ('That', 3), ('to-day.’', 1), ('something', 14), ('nearer', 4), ('was:', 2), ('hippopotamus,', 1), ('mouse', 3), ('slipped', 2), ('‘Would', 5), ('use,', 2), ('mouse?', 1), ('here,', 6), ('rate,', 2), ('harm', 1), ('began:', 1), ('swimming', 2), ('O', 1), ('brother’s', 1), ('Latin', 1), ('mouse--to', 1), ('mouse--O', 1), ('mouse!’)', 1), ('Mouse', 17), ('wink', 2), ('understand', 5), ('English,’', 1), ('Conqueror.’', 1), ('(For,', 1), ('knowledge', 1), ('history,', 4), ('clear', 2), ('notion', 3), ('ago', 1), ('again:', 4), ('est', 1), ('water,', 1), ('quiver', 1), ('hurt', 2), ('animal’s', 1), ('feelings.', 1), ('‘Not', 9), ('cats!’', 1), ('passionate', 1), ('voice.', 10), ('YOU', 13), ('me?’', 2), ('not,’', 6), ('soothing', 1), ('tone:', 5), ('‘don’t', 2), ('yet', 6), ('cat', 7), ('Dinah:', 1), ('quiet', 2), ('thing,’', 3), ('pool,', 2), ('sits', 1), ('purring', 1), ('fire,', 3), ('licking', 1), ('paws', 2), ('face--and', 1), ('nurse--and', 1), ('she’s', 3), ('catching', 2), ('offended.', 1), ('‘We', 8), ('indeed!’', 6), ('end', 12), ('tail.', 2), ('‘As', 3), ('subject!', 1), ('family', 1), ('always', 11), ('cats:', 1), ('nasty,', 1), ('let', 7), ('hurry', 4), ('change', 9), ('subject', 3), ('conversation.', 5), ('you--are', 1), ('answer,', 1), ('eagerly:', 1), ('house', 8), ('hair!', 1), ('throw', 3), ('them,', 21), ('things--I', 1), ('them--and', 2), ('belongs', 2), ('farmer,', 1), ('says', 4), ('kills', 1), ('rats', 1), ('sorrowful', 2), ('tone,', 16), ('we', 23), ('dogs', 1), ('When', 7), ('her:', 5), ('pale', 2), ('(with', 1), ('passion,', 2), ('thought),', 1), ('‘Let', 3), ('us', 10), ('shore,', 2), ('why', 7), ('hate', 1), ('high', 3), ('birds', 7), ('Dodo,', 3), ('creatures.', 1), ('shore.', 1), ('Long', 1), ('Tale', 1), ('They', 10), ('bank--the', 1), ('clinging', 1), ('cross,', 1), ('uncomfortable.', 2), ('known', 1), ('life.', 3), ('Lory,', 3), ('last', 25), ('sulky,', 1), ('allow', 2), ('positively', 1), ('refused', 1), ('age,', 2), ('At', 8), ('person', 6), ('authority', 2), ('once,', 5), ('middle.', 1), ('cold', 1), ('driest', 1), ('Silence', 1), ('Conqueror,', 1), ('whose', 2), ('favoured', 1), ('English,', 1), ('accustomed', 1), ('usurpation', 1), ('conquest.', 1), ('Edwin', 1), ('Mercia', 2), ('Northumbria--“’', 1), ('‘Ugh!’', 1), ('‘Did', 3), ('speak?’', 1), ('hastily.', 4), ('Mouse.', 2), ('proceed.', 1), ('him:', 3), ('archbishop', 2), ('Canterbury,', 1), ('‘Found', 2), ('Duck.', 1), ('crossly:', 1), ('‘of', 1), ('“it”', 2), ('means', 5), ('enough,', 2), ('‘“--found', 1), ('Edgar', 1), ('meet', 3), ('dear?’', 1), ('wet', 1), ('melancholy', 6), ('all.’', 2), ('case,’', 1), ('Dodo', 9), ('solemnly,', 1), ('rising', 1), ('move', 2), ('meeting', 1), ('adjourn,', 1), ('immediate', 3), ('adoption', 1), ('remedies--’', 1), ('‘Speak', 2), ('English!’', 1), ('Eaglet.', 1), ('meaning', 7), ('believe', 8), ('Eaglet', 1), ('hide', 1), ('tittered', 1), ('say,’', 4), ('‘was,', 1), ('Caucus-race.’', 1), ('IS', 8), ('paused', 1), ('inclined', 1), ('‘the', 5), ('(And,', 1), ('yourself,', 1), ('race-course,', 1), ('circle,', 1), ('shape', 1), ('said,)', 1), ('placed', 1), ('course,', 6), ('there.', 2), ('two,', 9), ('race', 2), ('‘The', 15), ('thought,', 6), ('pressed', 3), ('(the', 1), ('position', 2), ('him),', 1), ('rest', 9), ('‘EVERYBODY', 1), ('won,', 1), ('prizes.’', 1), ('voices', 2), ('asked.', 8), ('SHE,', 1), ('pointing', 3), ('confused', 3), ('pulled', 1), ('comfits,', 1), ('water', 2), ('handed', 3), ('exactly', 5), ('a-piece', 1), ('round.', 3), ('prize', 1), ('‘Of', 11), ('Alice.', 54), ('Then', 9), ('solemnly', 2), ('presented', 1), ('thimble,', 2), ('acceptance', 1), ('elegant', 1), ('short', 4), ('speech,', 1), ('cheered.', 1), ('absurd,', 1), ('grave', 3), ('dare', 5), ('looking', 30), ('could.', 4), ('comfits:', 1), ('caused', 2), ('choked', 3), ('patted', 1), ('promised', 1), ('hate--C', 1), ('added', 20), ('whisper,', 1), ('sad', 2), ('‘It', 24), ('call', 5), ('speaking,', 3), ('this:--', 2), ('‘Fury', 1), ('both', 16), ('law:', 1), ('YOU.--Come,', 1), ('denial;', 1), ('trial:', 1), ('trial,', 1), ('Sir,', 1), ('jury', 9), ('wasting', 2), ('breath.”', 1), ('condemn', 1), ('death.”’', 1), ('severely.', 1), ('‘you', 8), ('NOT!’', 1), ('sharply', 1), ('angrily.', 3), ('insult', 1), ('mean', 7), ('pleaded', 3), ('easily', 4), ('know!’', 2), ('reply.', 3), ('‘Please', 3), ('finish', 4), ('others', 4), ('joined', 2), ('‘Yes,', 8), ('shook', 9), ('pity', 1), ('stay!’', 1), ('sight;', 1), ('daughter', 1), ('lose', 1), ('YOUR', 7), ('temper!’', 1), ('tongue,', 1), ('young', 5), ('Crab,', 1), ('‘You’re', 6), ('aloud,', 1), ('nobody', 3), ('‘She’d', 1), ('back!’', 2), ('Lory.', 1), ('pet:', 1), ('birds!', 1), ('bird', 1), ('speech', 1), ('sensation', 1), ('party.', 1), ('wrapping', 1), ('carefully,', 3), ('remarking,', 1), ('home;', 1), ('night-air', 1), ('suit', 3), ('throat!’', 1), ('‘Come', 6), ('It’s', 6), ('pretexts', 1), ('Dinah!’', 1), ('world!', 1), ('Dinah!', 1), ('lonely', 2), ('low-spirited.', 1), ('IV.', 1), ('Bill', 2), ('Rabbit,', 8), ('lost', 1), ('something;', 1), ('guessed', 3), ('seen--everything', 1), ('swim', 1), ('Very', 1), ('Mary', 3), ('ARE', 5), ('home', 1), ('Quick,', 1), ('now!’', 3), ('direction', 2), ('pointed', 1), ('mistake', 2), ('made.', 1), ('housemaid,’', 1), ('ran.', 1), ('he’ll', 1), ('finds', 1), ('am!', 1), ('gloves--that', 1), ('them.’', 2), ('brass', 1), ('RABBIT’', 1), ('knocking,', 1), ('lest', 1), ('gloves.', 1), ('seems,’', 1), ('messages', 2), ('rabbit!', 1), ('suppose', 8), ('Dinah’ll', 1), ('fancying', 1), ('happen:', 1), ('‘“Miss', 1), ('“Coming', 1), ('minute,', 4), ('think,’', 2), ('they’d', 3), ('stop', 3), ('tidy', 1), ('room', 8), ('hoped)', 1), ('three', 23), ('pairs', 1), ('gloves:', 1), ('stood', 7), ('looking-glass.', 1), ('ME,’', 3), ('nevertheless', 1), ('uncorked', 1), ('lips.', 1), ('interesting', 3), ('happen,’', 1), ('thing!’', 6), ('indeed,', 1), ('bottle,', 2), ('stoop', 1), ('save', 1), ('more--As', 1), ('kneel', 1), ('floor:', 1), ('effect', 1), ('elbow', 2), ('Still', 1), ('‘Now', 4), ('What', 4), ('become', 5), ('Luckily', 1), ('full', 16), ('larger:', 1), ('uncomfortable,', 1), ('chance', 4), ('pleasanter', 1), ('rabbit-hole--and', 1), ('yet--and', 1), ('curious,', 1), ('fancied', 2), ('middle', 3), ('one!', 1), ('ought!', 1), ('tone;', 2), ('HERE.’', 1), ('‘shall', 1), ('now?', 1), ('woman--but', 1), ('then--always', 1), ('THAT!’', 1), ('answered', 3), ('YOU,', 1), ('conversation', 4), ('outside,', 1), ('stopped', 3), ('listen.', 2), ('‘Fetch', 1), ('attempt', 1), ('proved', 2), ('‘Then', 11), ('window.’', 1), ('‘THAT', 2), ('snatch', 2), ('air.', 5), ('anything,', 1), ('shriek', 3), ('fall,', 1), ('possible', 1), ('cucumber-frame,', 1), ('sort.', 1), ('voice--the', 1), ('Pat!', 1), ('‘Sure', 1), ('yer', 4), ('honour!’', 2), ('glass.)', 1), ('window?’', 1), ('(He', 1), ('pronounced', 1), ('size?', 1), ('fills', 1), ('does,', 1), ('that.’', 3), ('business', 3), ('there,', 1), ('silence', 3), ('whispers', 1), ('honour,', 1), ('all!’', 1), ('coward!’', 1), ('TWO', 1), ('shrieks,', 1), ('sounds', 3), ('longer!’', 1), ('hearing', 3), ('more:', 1), ('rumbling', 1), ('cartwheels,', 1), ('together:', 1), ('‘Where’s', 1), ('other--Bill!', 1), ('lad!--Here,', 1), ('first--they', 1), ('yet--Oh!', 1), ('particular--Here,', 1), ('loose', 2), ('Heads', 1), ('crash)--‘Now,', 1), ('that?--It', 1), ('Bill,', 3), ('fancy--Who’s', 1), ('chimney?--Nay,', 1), ('it!--That', 1), ('won’t,', 1), ('master', 2), ('chimney!’', 1), ('‘Shy,', 1), ('deal:', 1), ('narrow,', 1), ('kick', 2), ('little!’', 1), ('guess', 2), ('was)', 1), ('scratching', 1), ('scrambling', 1), ('above', 3), ('Bill,’', 2), ('kick,', 1), ('along--‘Catch', 1), ('confusion', 3), ('now--Don’t', 1), ('choke', 1), ('him--How', 1), ('fellow?', 1), ('you?', 2), ('[‘That’s', 1), ('ye;', 1), ('now--but', 1), ('flustered', 1), ('sky-rocket!’', 1), ('did,', 3), ('others.', 3), ('instantly,', 2), ('sense,', 2), ('off.’', 1), ('pebbles', 2), ('rattling', 2), ('this,’', 1), ('shouted', 9), ('produced', 2), ('cakes', 1), ('cakes,’', 1), ('suppose.’', 1), ('swallowed', 1), ('cakes,', 1), ('delighted', 2), ('Lizard,', 2), ('guinea-pigs,', 2), ('rush', 2), ('safe', 2), ('thick', 1), ('again;', 2), ('excellent', 2), ('plan,', 1), ('difficulty', 3), ('puppy', 5), ('feebly', 1), ('stretching', 1), ('paw,', 2), ('touch', 1), ('‘Poor', 1), ('coaxing', 1), ('terribly', 1), ('Hardly', 1), ('picked', 3), ('stick,', 4), ('puppy;', 1), ('whereupon', 1), ('yelp', 1), ('delight,', 2), ('rushed', 1), ('worry', 1), ('run', 3), ('cart-horse,', 1), ('series', 1), ('charges', 1), ('back,', 4), ('mouth,', 2), ('shut.', 1), ('was!’', 1), ('liked', 3), ('teaching', 1), ('tricks', 1), ('if--if', 1), ('again!', 1), ('what?', 1), ('grass,', 2), ('circumstances.', 1), ('mushroom', 4), ('edge', 3), ('caterpillar,', 1), ('folded,', 2), ('quietly', 4), ('else.', 2), ('hookah', 4), ('Caterpillar.', 12), ('shyly,', 1), ('sir,', 3), ('‘Explain', 2), ('yourself!’', 1), ('MYSELF,', 1), ('see,’', 1), ('clearly,’', 1), ('politely,', 3), ('with;', 1), ('different', 5), ('sizes', 1), ('confusing.’', 1), ('isn’t,’', 1), ('turn', 6), ('chrysalis--you', 1), ('know--and', 1), ('bit,’', 2), ('different,’', 1), ('‘all', 1), ('ME.’', 1), ('‘You!’', 1), ('irritated', 1), ('Caterpillar’s', 1), ('remarks,', 1), ('are,', 2), ('‘Why?’', 2), ('reason,', 1), ('state', 6), ('‘I’ve', 13), ('promising,', 1), ('‘Keep', 1), ('temper,’', 1), ('all?’', 2), ('anger', 1), ('‘No,’', 2), ('puffed', 1), ('arms,', 1), ('mouth', 7), ('am,', 1), ('sir,’', 1), ('used--and', 1), ('together!’', 1), ('‘Can’t', 1), ('WHAT', 2), ('“HOW', 1), ('LITTLE', 2), ('BEE,”', 1), ('different!’', 2), ('‘Repeat,', 1), ('OLD,', 2), ('WILLIAM,”’', 1), ('began:--', 1), ('old,', 2), ('Father', 2), ('incessantly', 1), ('stand', 4), ('youth,’', 3), ('feared', 1), ('perfectly', 4), ('none,', 1), ('old,’', 3), ('uncommonly', 1), ('door--', 1), ('grey', 1), ('locks,', 1), ('ointment--one', 1), ('shilling', 1), ('couple?’', 1), ('tougher', 1), ('suet;', 1), ('bones', 1), ('beak--', 1), ('law,', 1), ('argued', 1), ('wife;', 1), ('strength,', 1), ('Has', 1), ('life.’', 1), ('nose--', 1), ('awfully', 1), ('clever?’', 1), ('enough,’', 1), ('father;', 1), ('stuff?', 1), ('QUITE', 2), ('right,', 3), ('afraid,’', 1), ('timidly;', 1), ('‘some', 1), ('altered.’', 1), ('minutes.', 2), ('speak.', 1), ('particular', 3), ('‘only', 1), ('often,', 2), ('DON’T', 1), ('nothing:', 1), ('contradicted', 1), ('losing', 1), ('temper.', 1), ('now?’', 2), ('mind,’', 1), ('be.’', 1), ('angrily,', 3), ('rearing', 1), ('spoke', 4), ('high).', 1), ('piteous', 1), ('creatures', 6), ('time,’', 5), ('twice,', 3), ('itself.', 1), ('remarking', 2), ('shorter.’', 1), ('Caterpillar,', 2), ('aloud;', 1), ('sight.', 1), ('hand.', 1), ('effect:', 1), ('violent', 2), ('underneath', 1), ('chin:', 1), ('rapidly;', 1), ('work', 39), ('closely', 1), ('morsel', 1), ('free', 7), ('tone', 8), ('shoulders', 2), ('found:', 1), ('immense', 1), ('length', 1), ('neck,', 1), ('stalk', 1), ('sea', 2), ('green', 3), ('leaves', 2), ('below', 1), ('where', 10), ('to?', 1), ('result', 1), ('shaking', 3), ('distant', 2), ('leaves.', 1), ('head,', 3), ('bend', 1), ('direction,', 1), ('curving', 1), ('zigzag,', 1), ('dive', 1), ('wandering,', 1), ('draw', 4), ('pigeon', 1), ('beating', 1), ('violently', 2), ('screamed', 4), ('Pigeon,', 2), ('subdued', 1), ('about,’', 1), ('banks,', 1), ('There’s', 1), ('pleasing', 1), ('finished.', 1), ('hatching', 1), ('eggs,’', 1), ('Pigeon;', 2), ('look-out', 1), ('night', 1), ('day!', 1), ('you’ve', 5), ('meaning.', 1), ('tree', 3), ('continued', 7), ('needs', 1), ('sky!', 1), ('Ugh,', 1), ('‘Well!', 2), ('invent', 1), ('something!’', 1), ('‘I--I’m', 1), ('girl,’', 1), ('doubtfully,', 1), ('story', 2), ('deepest', 1), ('contempt.', 1), ('girls', 3), ('denying', 1), ('egg!’', 1), ('eggs,', 3), ('child;', 1), ('adding,', 1), ('matters', 2), ('happens;', 1), ('YOURS:', 1), ('then!’', 2), ('sulky', 2), ('settled', 3), ('nest.', 1), ('entangled', 2), ('untwist', 1), ('nibbling', 3), ('taller', 1), ('shorter,', 1), ('bringing', 3), ('usual', 1), ('height.', 1), ('size,', 1), ('strange', 4), ('minutes,', 2), ('plan', 1), ('done,', 1), ('place,', 2), ('‘it’ll', 1), ('righthand', 1), ('VI.', 1), ('Pepper', 1), ('footman', 3), ('wood--(she', 1), ('considered', 3), ('only,', 1), ('rapped', 1), ('loudly', 2), ('livery,', 1), ('powdered', 1), ('heads.', 1), ('wood', 2), ('letter,', 3), ('invitation', 2), ('repeated,', 2), ('Queen.', 11), ('Duchess', 15), ('bowed', 3), ('curls', 1), ('ground', 2), ('timidly', 2), ('knocked.', 1), ('Footman,', 2), ('secondly,', 2), ('inside,', 1), ('you.’', 1), ('within--a', 1), ('crash,', 1), ('kettle', 1), ('‘how', 1), ('in?’', 3), ('Footman', 4), ('instance,', 3), ('knock,', 1), ('sky', 1), ('decidedly', 1), ('questions.--How', 1), ('opened,', 1), ('head:', 1), ('nose,', 3), ('maybe,’', 1), ('‘ARE', 1), ('told', 6), ('so.', 2), ('‘It’s', 15), ('muttered', 2), ('days', 6), ('days.’', 1), ('do?’', 1), ('like,’', 3), ('‘he’s', 1), ('kitchen,', 1), ('stool', 1), ('nursing', 3), ('leaning', 2), ('stirring', 2), ('cauldron', 2), ('soup.', 1), ('sneezing.', 1), ('sneezing', 4), ('pause.', 1), ('ear', 2), ('ear.', 3), ('‘why', 2), ('grins', 1), ('cat,’', 1), ('Pig!’', 1), ('courage,', 1), ('again:--', 2), ('COULD', 3), ('grin.’', 1), ('do.’', 2), ('pleased', 5), ('fix', 2), ('one,', 6), ('baby--the', 1), ('saucepans,', 1), ('dishes.', 1), ('impossible', 2), ('blows', 1), ('not.', 2), ('PLEASE', 2), ('terror.', 1), ('nose’;', 1), ('saucepan', 1), ('carried', 4), ('business,’', 1), ('growl,', 2), ('knowledge.', 1), ('earth', 1), ('hours', 3), ('axes,’', 1), ('‘chop', 1), ('head!’', 7), ('glanced', 1), ('‘Twenty-four', 1), ('THINK;', 1), ('I--’', 1), ('abide', 2), ('singing', 2), ('shake', 1), ('boy,', 2), ('beat', 4), ('sneezes:', 1), ('annoy,', 1), ('Because', 1), ('teases.’', 1), ('CHORUS.', 2), ('(In', 1), ('‘Wow!', 2), ('verse', 1), ('song,', 4), ('tossing', 3), ('howled', 1), ('sneezes;', 1), ('thoroughly', 2), ('nurse', 1), ('like!’', 1), ('threw', 2), ('caught', 3), ('creature,', 2), ('directions,', 2), ('straightening', 1), ('proper', 3), ('tight', 1), ('prevent', 2), ('itself,)', 1), ('‘IF', 1), ('kill', 1), ('murder', 1), ('loud,', 2), ('grunted', 3), ('time).', 1), ('‘Don’t', 4), ('‘that’s', 1), ('expressing', 1), ('snout', 1), ('nose;', 1), ('baby:', 1), ('altogether', 1), ('sobbing,’', 1), ('tears.', 2), ('pig,', 4), ('sobbed', 1), ('grunted,', 1), ('creature', 2), ('home?’', 1), ('alarm.', 1), ('NO', 3), ('neither', 2), ('carry', 2), ('further.', 1), ('relieved', 1), ('trot', 1), ('up,’', 2), ('child:', 1), ('think.’', 1), ('them--’', 1), ('startled', 2), ('seeing', 1), ('Cat', 8), ('grinned', 2), ('good-natured,', 1), ('treated', 1), ('Puss,’', 1), ('depends', 2), ('SOMEWHERE,’', 1), ('enough.’', 1), ('direction,’', 2), ('‘lives', 2), ('Hatter:', 6), ('March', 31), ('Visit', 1), ('like:', 1), ('mad.’', 3), ('people,’', 1), ('‘we’re', 1), ('here.', 2), ('mad?’', 2), ('with,’', 2), ('grant', 1), ('growls', 1), ('wags', 1), ('tail', 3), ('pleased.', 1), ('Now', 2), ('growl', 1), ('pleased,', 1), ('angry.', 1), ('purring,', 1), ('vanished.', 1), ('happening.', 1), ('‘By-the-bye,', 1), ('baby?’', 1), ('pig,’', 2), ('appear,', 1), ('live.', 1), ('interesting,', 1), ('May', 1), ('raving', 2), ('mad--at', 1), ('tree.', 2), ('fig?’', 1), ('appearing', 2), ('suddenly:', 2), ('grin', 1), ('cat!', 1), ('farther', 1), ('shaped', 2), ('raised', 2), ('towards', 1), ('‘Suppose', 2), ('all!', 1), ('Mad', 1), ('Dormouse', 23), ('asleep,', 2), ('using', 6), ('cushion,', 1), ('elbows', 1), ('‘Very', 3), ('uncomfortable', 1), ('Dormouse,’', 2), ('‘only,', 1), ('mind.’', 1), ('‘No', 1), ('room!’', 2), ('indignantly,', 1), ('table.', 3), ('tea.', 1), ('any,’', 1), ('invited,’', 1), ('table,’', 1), ('‘Your', 2), ('wants', 2), ('Hatter.', 13), ('severity;', 1), ('rude.’', 1), ('‘Why', 7), ('raven', 1), ('writing-desk?’', 1), ('they’ve', 1), ('riddles.--I', 1), ('‘Exactly', 2), ('mean,’', 2), ('say--that’s', 1), ('bit!’', 1), ('“I', 7), ('see”!’', 1), ('Hare,', 2), ('Dormouse,', 6), ('sleep,', 1), ('sleep”', 1), ('breathe”!’', 1), ('Hatter,', 10), ('dropped,', 1), ('writing-desks,', 1), ('much.', 1), ('month', 1), ('uneasily,', 1), ('wrong!’', 1), ('butter', 1), ('works!’', 1), ('meekly', 1), ('replied.', 5), ('crumbs', 1), ('well,’', 2), ('gloomily:', 1), ('cup', 1), ('shoulder', 3), ('watch!’', 1), ('tells', 2), ('month,', 1), ('‘Does', 2), ('year', 2), ('is?’', 1), ('together.’', 1), ('Hatter’s', 1), ('politely', 1), ('asleep', 4), ('again,’', 1), ('nose.', 1), ('myself.’', 1), ('riddle', 1), ('replied:', 2), ('‘what’s', 1), ('idea,’', 1), ('‘Nor', 1), ('‘than', 1), ('riddles', 1), ('HIM.’', 1), ('cautiously', 2), ('music.’', 2), ('accounts', 1), ('he’d', 1), ('clock.', 1), ('Time,', 1), ('twinkling!', 1), ('Half-past', 1), ('[‘I', 2), ('was,’', 3), ('whisper.)', 1), ('grand,', 1), ('hungry', 2), ('perhaps,’', 1), ('mournfully.', 1), ('quarrelled', 1), ('March--just', 1), ('HE', 3), ('know--’', 4), ('Hare,)', 1), ('‘--it', 1), ('sing', 3), ('at!”', 1), ('perhaps?’', 1), ('fly,', 1), ('tea-tray', 1), ('twinkle--“’', 1), ('‘Twinkle,', 1), ('pinch', 1), ('verse,’', 2), ('murdering', 1), ('Off', 2), ('head!”’', 1), ('exclaimed', 4), ('mournful', 1), ('ask!', 1), ('now.’', 4), ('sigh:', 2), ('tea-time,', 1), ('whiles.’', 1), ('up.’', 2), ('interrupted,', 2), ('vote', 1), ('lady', 2), ('one,’', 3), ('alarmed', 1), ('shall!’', 1), ('‘Wake', 2), ('eyes.', 2), ('asleep,’', 1), ('hoarse,', 1), ('saying.’', 1), ('‘Tell', 1), ('quick', 1), ('‘Once', 1), ('names', 1), ('Tillie;', 1), ('lived', 3), ('on?’', 2), ('interest', 1), ('questions', 2), ('eating', 1), ('treacle,’', 1), ('remarked;', 1), ('‘they’d', 1), ('ill.’', 2), ('‘VERY', 1), ('living', 1), ('like,', 2), ('‘Take', 2), ('tea,’', 3), ('‘so', 3), ('more.’', 1), ('LESS,’', 1), ('MORE', 2), ('nothing.’', 1), ('‘Who’s', 1), ('remarks', 1), ('triumphantly.', 1), ('‘Sh!', 1), ('civil,', 1), ('on!’', 6), ('learning', 2), ('draw,', 1), ('draw?’', 1), ('promise.', 1), ('‘Treacle,’', 2), ('cup,’', 1), ('on.’', 2), ('unwillingly', 1), ('upset', 2), ('offend', 1), ('treacle', 2), ('from?’', 1), ('water-well,’', 1), ('choosing', 1), ('‘--well', 1), ('in.’', 1), ('yawning', 1), ('things--everything', 1), ('begins', 4), ('M--’', 1), ('M?’', 1), ('not?’', 1), ('silent.', 2), ('doze;', 1), ('‘--that', 1), ('drawing', 1), ('muchness?’', 1), ('talk,’', 1), ('rudeness', 1), ('bear:', 1), ('going,', 1), ('teapot.', 1), ('leading', 1), ('everything’s', 1), ('today.', 1), ('once.’', 2), ('Once', 1), ('unlocking', 1), ('pocket)', 1), ('passage:', 1), ('fountains.', 1), ('Queen’s', 7), ('Croquet-Ground', 1), ('entrance', 1), ('garden:', 1), ('roses', 1), ('painting', 2), ('red.', 1), ('‘Look', 1), ('Five!', 2), ('‘Seven', 1), ('elbow.’', 1), ('blame', 1), ('others!’', 1), ('‘YOU’D', 1), ('Five.', 1), ('beheaded!’', 2), ('spoken', 1), ('none', 3), ('business,', 1), ('Two!’', 1), ('Seven.', 1), ('business!’', 2), ('him--it', 1), ('instead', 2), ('brush,', 1), ('things--’', 1), ('chanced', 1), ('watching', 3), ('also,', 1), ('low.', 1), ('nothing,', 2), ('Two', 1), ('RED', 1), ('we’re', 1), ('afore', 1), ('comes,', 1), ('Queen!’', 1), ('themselves', 2), ('flat', 1), ('footsteps,', 1), ('soldiers', 8), ('courtiers;', 1), ('ornamented', 2), ('diamonds,', 1), ('did.', 1), ('children;', 1), ('merrily', 1), ('hearts.', 1), ('Rabbit:', 1), ('noticing', 1), ('Knave', 7), ('King’s', 2), ('velvet', 1), ('cushion;', 1), ('doubtful', 2), ('lie', 2), ('rule', 2), ('besides,', 1), ('procession,’', 1), ('procession', 2), ('this?’', 1), ('Queen,', 17), ('impatiently;', 1), ('‘What’s', 2), ('added,', 3), ('pack', 4), ('needn’t', 3), ('pattern', 1), ('children.', 1), ('fury,', 1), ('‘Off', 8), ('‘Consider,', 1), ('child!’', 2), ('‘Turn', 2), ('foot.', 1), ('‘Get', 2), ('bowing', 1), ('King,', 15), ('‘Leave', 1), ('‘May', 1), ('knee', 1), ('‘we', 3), ('see!’', 1), ('heads!’', 1), ('remaining', 2), ('execute', 1), ('unfortunate', 3), ('protection.', 1), ('‘Can', 1), ('croquet?’', 1), ('silent,', 2), ('evidently', 1), ('‘It’s--it’s', 1), ('fine', 2), ('day!’', 1), ('side.', 2), ('peeping', 1), ('‘Very,’', 1), ('Duchess?’', 1), ('Hush!’', 1), ('ear,', 1), ('‘She’s', 2), ('execution.’', 1), ('“What', 2), ('pity!”?’', 1), ('didn’t,’', 1), ('for?”’', 1), ('hush!’', 1), ('late,', 1), ('croquet-ground', 1), ('life;', 1), ('ridges', 1), ('furrows;', 1), ('balls', 1), ('flamingoes,', 1), ('chief', 1), ('flamingo:', 1), ('tucked', 3), ('comfortably', 1), ('straightened', 1), ('hedgehog', 5), ('expression', 1), ('laughing:', 1), ('provoking', 1), ('unrolled', 2), ('act', 1), ('away:', 1), ('ridge', 1), ('furrow', 1), ('send', 1), ('ground,', 1), ('conclusion', 1), ('players', 2), ('played', 1), ('fighting', 1), ('furious', 1), ('shouting', 2), ('minute.', 1), ('me?', 1), ('alive!’', 1), ('escape,', 1), ('appearance', 1), ('air:', 1), ('nodded.', 1), ('come,', 2), ('account', 1), ('appeared.', 1), ('fairly,’', 1), ('quarrel', 1), ('attends', 1), ('arch', 1), ('ground--and', 1), ('croqueted', 1), ('coming!’', 1), ('‘she’s', 1), ('extremely--’', 1), ('finishing', 1), ('passed', 4), ('Cat,’', 1), ('King:', 2), ('likes.’', 1), ('book,', 2), ('removed!’', 1), ('passion.', 1), ('already', 2), ('executed', 2), ('search', 2), ('hedgehog.', 1), ('engaged', 1), ('fight', 2), ('croqueting', 1), ('flamingo', 2), ('fly', 1), ('hedgehogs', 1), ('escape', 1), ('friend.', 1), ('executioner,', 1), ('settle', 1), ('arguments', 1), ('though,', 1), ('beheaded,', 1), ('weren’t', 1), ('she’d', 1), ('anxious.)', 1), ('Duchess:', 4), ('prison,’', 1), ('executioner:', 1), ('‘fetch', 1), ('arrow.', 1), ('wildly', 2), ('IX.', 1), ('Mock', 56), ('Alice’s,', 1), ('temper,', 1), ('‘When', 3), ('Duchess,’', 1), ('hot-tempered,’', 1), ('bitter--and--and', 1), ('sweet-tempered.', 1), ('that:', 3), ('stingy', 1), ('something,', 1), ('bit.’', 1), ('‘Tut,', 1), ('tut,', 1), ('moral,', 1), ('uncomfortably', 1), ('round!”’', 1), ('‘Somebody', 1), ('whispered,', 1), ('well!', 1), ('is--“Take', 1), ('pause:', 1), ('temper', 1), ('anxious', 2), ('experiment', 1), ('tried.', 1), ('is--“Birds', 1), ('feather', 1), ('together.”’', 1), ('‘Right,', 1), ('usual,’', 1), ('mineral,', 1), ('THINK,’', 1), ('said;', 2), ('‘there’s', 1), ('mustard-mine', 1), ('vegetable.', 1), ('is.’', 3), ('is--“Be', 1), ('appear', 2), ('better,’', 1), ('down:', 1), ('chose,’', 1), ('present!’', 1), ('loud.', 1), ('asked,', 1), ('dig', 1), ('sharply,', 1), ('‘moral,’', 1), ('linked', 2), ('hers', 3), ('tremble.', 1), ('warning,’', 1), ('‘Let’s', 1), ('game,’', 1), ('croquet-ground.', 1), ('guests', 2), ('shade:', 1), ('delay', 1), ('lives.', 1), ('players,', 2), ('sentenced', 1), ('custody', 2), ('execution.', 1), ('history,’', 1), ('together,', 1), ('pardoned.’', 1), ('unhappy', 1), ('executions', 2), ('sun.', 1), ('Gryphon', 22), ('picture.)', 1), ('‘Up,', 1), ('history.', 1), ('ordered’;', 1), ('rubbed', 1), ('SHE,’', 1), ('rock,', 1), ('nearer,', 1), ('sighing', 2), ('heart', 2), ('break.', 1), ('deeply.', 1), ('sorrow?’', 1), ('answered,', 1), ('lady,’', 1), ('hollow', 1), ('‘sit', 1), ('finish,', 1), ('sigh,', 1), ('These', 2), ('occasional', 1), ('heavy', 2), ('sobbing', 2), ('‘Thank', 3), ('MUST', 3), ('school', 4), ('sea.', 3), ('Turtle--we', 1), ('Tortoise--’', 1), ('Tortoise,', 1), ('one?’', 1), ('dull!’', 1), ('question,’', 1), ('it--’', 1), ('didn’t!’', 2), ('educations--in', 1), ('day-school,', 1), ('‘With', 1), ('extras?’', 1), ('washing?’', 1), ('not!’', 1), ('yours', 1), ('relief.', 2), ('OURS', 1), ('bill,', 1), ('“French,', 1), ('‘living', 1), ('afford', 1), ('regular', 2), ('course.’', 1), ('Writhing,', 1), ('branches', 1), ('Arithmetic--Ambition,', 1), ('Distraction,', 1), ('Derision.’', 1), ('“Uglification,”’', 1), ('lifted', 1), ('‘What!', 1), ('Never', 1), ('uglifying!’', 1), ('exclaimed.', 1), ('means--to--make--anything--prettier.’', 1), ('uglify', 1), ('encouraged', 1), ('learn?’', 1), ('Mystery,’', 1), ('counting', 1), ('flappers,', 1), ('ancient', 1), ('modern,', 1), ('Seaography:', 1), ('Drawling-master', 1), ('week:', 1), ('Drawling,', 1), ('Stretching,', 1), ('like?’', 1), ('Laughing', 1), ('turn;', 1), ('subject.', 2), ('‘Ten', 1), ('Turtle:', 3), ('‘nine', 1), ('plan!’', 1), ('lessons,’', 2), ('eleventh', 1), ('holiday?’', 1), ('twelfth?’', 1), ('games', 1), ('Quadrille', 2), ('deeply,', 2), ('flapper', 1), ('sobs', 2), ('‘Same', 1), ('recovered', 2), ('Alice)--‘and', 1), ('introduced', 1), ('lobster--’', 1), ('tasted--’', 1), ('indeed,’', 2), ('form', 2), ('line', 1), ('salmon,', 1), ('on;', 1), ('jelly-fish', 1), ('lobster', 1), ('partner!’', 1), ('‘advance', 1), ('partners--’', 1), ('‘--change', 1), ('the--’', 1), ('lobsters!’', 1), ('can--’', 1), ('somersault', 1), ('sea!’', 1), ('‘Back', 1), ('figure,’', 1), ('dropping', 1), ('pretty', 1), ('dance,’', 1), ('timidly.', 1), ('sing?’', 1), ('dancing', 1), ('treading', 2), ('toes', 1), ('close,', 1), ('forepaws', 1), ('mark', 2), ('‘“Will', 1), ('whiting', 3), ('snail.', 1), ('“There’s', 1), ('advance!', 1), ('join', 9), ('dance?', 4), ('Will', 4), ('sea!”', 1), ('snail', 1), ('“Too', 1), ('far,', 1), ('askance--', 1), ('thanked', 1), ('dance.', 5), ('go?”', 1), ('scaly', 1), ('further', 2), ('pale,', 2), ('beloved', 1), ('snail,', 1), ('dance?”’', 1), ('last:', 1), ('whiting!’', 1), ('whiting,’', 2), ('‘they--you’ve', 1), ('course?’', 1), ('thoughtfully.', 2), ('tails', 3), ('crumbs.’', 1), ('is--’', 1), ('eyes.--‘Tell', 1), ('‘IT', 1), ('solemnly.', 1), ('shoes!’', 1), ('mean,', 1), ('answer.', 1), ('blacking,', 1), ('believe.’', 1), ('sea,’', 1), ('eels,', 1), ('impatiently:', 2), ('shrimp', 1), ('porpoise,', 1), ('“Keep', 1), ('fish', 2), ('really?’', 1), ('‘why,', 1), ('journey,', 1), ('porpoise?”’', 1), ('adventures--beginning', 1), ('yesterday,', 1), ('adventures', 2), ('impatient', 1), ('dreadful', 1), ('time.’', 1), ('Rabbit.', 1), ('wide,', 1), ('‘YOU', 1), ('WILLIAM,’', 1), ('different,', 1), ('now.', 1), ('‘Stand', 1), ('VOICE', 1), ('SLUGGARD,”’', 1), ('declare,', 1), ('baked', 1), ('sugar', 1), ('hair.”', 1), ('duck', 1), ('eyelids,', 1), ('nose', 1), ('belt', 1), ('turns', 1), ('toes.’', 1), ('follows', 2), ('tide', 1), ('sharks', 1), ('nonsense.’', 1), ('nothing;', 1), ('EVER', 1), ('toes?’', 1), ('disobey,', 1), ('eye,', 1), ('Owl', 2), ('sharing', 2), ('pie-crust,', 1), ('meat,', 1), ('share', 2), ('treat.', 1), ('pie', 1), ('Owl,', 1), ('boon,', 1), ('Was', 1), ('permitted', 3), ('spoon:', 1), ('fork', 1), ('stuff,’', 1), ('on?', 1), ('figure', 1), ('Quadrille?’', 1), ('‘Or', 1), ('song?’', 1), ('kind,’', 1), ('fellow?’', 1), ('sobs,', 1), ('‘Beautiful', 2), ('Waiting', 1), ('stoop?', 1), ('Beau--ootiful', 4), ('Soo--oop!', 4), ('Soo--oop', 2), ('e--e--evening,', 3), ('cares', 2), ('Game,', 1), ('Pennyworth', 2), ('Soup?', 2), ('‘Chorus', 1), ('beginning!’', 1), ('song.', 1), ('trial', 4), ('panted', 1), ('ran;', 1), ('‘Soo--oop', 1), ('XI.', 1), ('Tarts?', 1), ('seated', 1), ('throne', 1), ('arrived,', 1), ('them--all', 1), ('beasts,', 1), ('cards:', 1), ('soldier', 1), ('guard', 1), ('him;', 1), ('trumpet', 1), ('scroll', 1), ('parchment', 2), ('good,', 1), ('pass', 1), ('books,', 1), ('wig.’', 1), ('wig,', 1), ('frontispiece', 1), ('it,)', 1), ('comfortable,', 1), ('twelve', 2), ('birds,)', 1), ('jurors.’', 1), ('rightly', 1), ('writing', 7), ('doing?’', 1), ('yet,', 3), ('begun.’', 1), ('reply,', 1), ('‘Stupid', 1), ('indignant', 1), ('‘Silence', 1), ('‘stupid', 1), ('slates,', 4), ('muddle', 1), ('slates’ll', 1), ('One', 1), ('quickly', 2), ('Lizard)', 1), ('slate.', 1), ('blew', 2), ('blasts', 2), ('scroll,', 1), ('follows:--', 1), ('summer', 2), ('verdict,’', 3), ('jury.', 2), ('interrupted.', 1), ('witness,’', 1), ('witness', 4), ('teacup', 3), ('bread-and-butter', 2), ('sent', 3), ('for.’', 1), ('Dormouse.', 3), ('‘Fourteenth', 1), ('‘Fifteenth,’', 1), ('down,’', 3), ('jury,', 4), ('dates', 1), ('pence.', 1), ('‘Stolen!’', 1), ('own.', 1), ('spectacles,', 1), ('fidgeted.', 1), ('‘Give', 3), ('nervous,', 1), ('spot.’', 1), ('shifting', 1), ('uneasily', 1), ('bread-and-butter.', 1), ('so.’', 1), ('breathe.’', 1), ('growing.’', 1), ('nonsense,’', 1), ('pace,’', 1), ('‘not', 2), ('officers', 3), ('concert!’', 1), ('tea--not', 1), ('week', 2), ('thin--and', 1), ('twinkling', 3), ('dunce?', 1), ('Go', 1), ('twinkled', 1), ('that--only', 1), ('did!’', 1), ('too:', 1), ('asleep.', 1), ('bread-and-butter--’', 1), ('say?’', 1), ('done.', 1), ('canvas', 1), ('bag,', 1), ('tied', 1), ('guinea-pig,', 1), ('newspapers,', 1), ('court,”', 1), ('understood', 1), ('guinea-pig', 1), ('guinea-pigs!’', 1), ('singers.', 1), ('officers:', 1), ('officer', 1), ('pepper-box', 1), ('Majesty', 2), ('cross-examine', 2), ('must,', 2), ('mostly,’', 1), ('‘Collar', 1), ('‘Behead', 1), ('Turn', 1), ('Suppress', 1), ('him!', 2), ('Pinch', 1), ('whiskers!’', 1), ('disappeared.', 1), ('undertone', 1), ('fumbled', 1), ('‘--for', 1), ('evidence', 3), ('Imagine', 1), ('‘Alice!’', 1), ('XII.', 1), ('‘Here!’', 1), ('jury-box', 1), ('upsetting', 1), ('below,', 1), ('sprawling', 1), ('reminding', 1), ('accidentally', 1), ('vague', 1), ('cannot', 5), ('downwards,', 1), ('right;', 1), ('shock', 1), ('upset,', 1), ('slates', 1), ('diligently', 1), ('open,', 1), ('business?’', 1), ('‘Nothing,’', 1), ('important,’', 1), ('interrupted:', 1), ('means,', 1), ('undertone,', 1), ('‘important--unimportant--unimportant--important--’', 1), ('slates;', 1), ('note-book,', 1), ('cackled', 1), ('‘Rule', 1), ('PERSONS', 1), ('THAN', 1), ('HIGH', 1), ('TO', 5), ('LEAVE', 1), ('COURT.’', 1), ('Everybody', 1), ('mile', 1), ('oldest', 1), ('Number', 1), ('One,’', 1), ('‘this', 1), ('somebody.’', 1), ('usual,', 1), ('jurymen.', 2), ('prisoner’s', 1), ('(The', 3), ('puzzled.)', 1), ('else’s', 1), ('hand,’', 1), ('Knave,', 1), ('end.’', 1), ('sign', 1), ('worse.', 1), ('mischief,', 1), ('man.’', 1), ('clapping', 1), ('PROVES', 1), ('guilt,’', 1), ('proves', 1), ('sort!’', 1), ('‘Where', 1), ('begin,', 1), ('Majesty?’', 1), ('‘Begin', 1), ('beginning,’', 1), ('stop.’', 1), ('verses', 3), ('read:--', 1), ('character,', 1), ('(We', 1), ('true):', 1), ('push', 1), ('more;', 1), ('Though', 1), ('Involved', 1), ('affair,', 1), ('free,', 1), ('were.', 1), ('(Before', 1), ('fit)', 1), ('secret,', 1), ('rest,', 1), ('me.’', 1), ('hands;', 1), ('him,)', 1), ('atom', 2), ('attempted', 1), ('saves', 1), ('trouble,', 1), ('any.', 1), ('knee,', 3), ('“--SAID', 1), ('SWIM--”', 1), ('NOT,', 1), ('‘“WE', 1), ('BE', 2), ('GAVE', 2), ('THEY', 1), ('‘But,', 1), ('“THEY', 1), ('RETURNED', 1), ('triumphantly,', 1), ('THAT.', 1), ('again--“BEFORE', 1), ('HAD', 1), ('inkstand', 1), ('slate', 1), ('mark;', 1), ('ink,', 1), ('trickling', 1), ('lasted.)', 1), ('FIT', 1), ('consider', 1), ('twentieth', 1), ('no!’', 1), ('‘Sentence', 1), ('first--verdict', 1), ('first!’', 1), ('moved.', 1), ('time.)', 1), ('cards!’', 1), ('rose', 1), ('flying', 1), ('scream,', 1), ('fright', 1), ('sister,', 2), ('brushing', 1), ('sister;', 1), ('had!’', 1), ('about;', 1), ('kissed', 1), ('dream,', 1), ('late.’', 1), ('might,', 1), ('wonderful', 2), ('been.', 1), ('dreaming', 1), ('fashion,', 1), ('dream:--', 1), ('dreamed', 1), ('clasped', 1), ('toss', 1), ('eyes--and', 1), ('listen,', 1), ('around', 2), ('dream.', 1), ('grass', 2), ('by--the', 1), ('splashed', 1), ('neighbouring', 1), ('rattle', 1), ('teacups', 2), ('never-ending', 1), ('meal,', 1), ('execution--once', 1), ('plates', 1), ('dishes', 1), ('crashed', 1), ('it--once', 1), ('believed', 1), ('reality--the', 1), ('rippling', 1), ('reeds--the', 1), ('tinkling', 1), ('cries', 1), ('sneeze', 1), ('farm-yard--while', 1), ('lowing', 1), ('cattle', 1), ('distance', 1), ('sobs.', 1), ('Lastly,', 1), ('pictured', 1), ('woman;', 1), ('riper', 1), ('years,', 2), ('loving', 1), ('childhood:', 1), ('gather', 1), ('THEIR', 1), ('tale,', 1), ('sorrows,', 1), ('joys,', 1), ('End', 1), ('named', 1), ('11-0.zip', 1), ('files', 2), ('formats', 2), ('Updated', 1), ('replace', 1), ('renamed.', 1), ('Creating', 1), ('public', 8), ('domain', 7), ('print', 1), ('owns', 2), ('United', 10), ('States', 4), ('copyright', 12), ('works,', 5), ('you!)', 1), ('paying', 2), ('royalties.', 1), ('Special', 1), ('rules,', 1), ('General', 3), ('Use', 2), ('copying', 2), ('Gutenberg-tm', 53), ('GUTENBERG-tm', 1), ('trademark.', 3), ('registered', 2), ('charge', 6), ('eBooks,', 2), ('specific', 1), ('permission.', 1), ('eBook,', 1), ('complying', 3), ('easy.', 1), ('reports,', 1), ('modified', 1), ('eBooks.', 2), ('Redistribution', 1), ('especially', 1), ('commercial', 1), ('redistribution.', 1), ('FULL', 2), ('LICENSE', 2), ('DISTRIBUTE', 1), ('USE', 1), ('mission', 3), ('promoting', 2), ('distribution', 6), ('phrase', 4), ('“Project', 5), ('Gutenberg”),', 1), ('comply', 6), ('http://gutenberg.org/license).', 1), ('1.', 1), ('Redistributing', 1), ('indicate', 1), ('read,', 1), ('understand,', 1), ('(trademark/copyright)', 1), ('cease', 1), ('possession.', 1), ('paid', 6), ('fee', 8), ('obtain', 3), ('refund', 6), ('entity', 3), ('paragraph', 10), ('1.E.8.', 2), ('1.B.', 1), ('1.C', 1), ('below.', 3), ('agreement', 8), ('1.E', 1), ('Literary', 13), ('Foundation”', 1), ('PGLAF),', 1), ('collection', 3), ('Nearly', 1), ('individual', 4), ('claim', 1), ('copying,', 2), ('creating', 3), ('based', 2), ('references', 2), ('Of', 1), ('support', 3), ('freely', 4), ('compliance', 3), ('work.', 5), ('format', 4), ('1.D.', 1), ('govern', 1), ('countries', 1), ('check', 2), ('downloading,', 1), ('representations', 1), ('1.E.', 1), ('removed', 1), ('Gutenberg:', 1), ('following', 3), ('sentence,', 1), ('active', 2), ('links', 3), ('prominently', 2), ('(any', 1), ('appears,', 1), ('copied', 2), ('1.E.2.', 1), ('derived', 1), ('(does', 1), ('fees', 2), ('charges.', 1), ('providing', 4), ('requirements', 2), ('1.E.9.', 3), ('additional', 3), ('holder.', 1), ('holder', 1), ('1.E.4.', 1), ('remove', 1), ('copy,', 4), ('perform,', 1), ('redistribute', 1), ('License.', 2), ('convert', 1), ('binary,', 1), ('compressed,', 1), ('nonproprietary', 1), ('proprietary', 1), ('form,', 1), ('provide', 6), ('“Plain', 2), ('official', 3), ('version', 1), ('site', 4), ('expense', 1), ('user,', 1), ('Any', 1), ('include', 1), ('pay', 1), ('gross', 1), ('derive', 1), ('calculate', 1), ('taxes.', 1), ('owner', 3), ('donate', 1), ('60', 1), ('prepare', 1), ('tax', 6), ('returns.', 1), ('4,', 1), ('“Information', 1), ('Foundation.”', 1), ('money', 3), ('e-mail)', 1), ('s/he', 1), ('medium', 3), ('provide,', 1), ('reported', 1), ('group', 1), ('Michael', 2), ('Hart,', 1), ('1.F.', 1), ('1.F.1.', 1), ('volunteers', 5), ('expend', 1), ('identify,', 1), ('research', 1), ('transcribe', 1), ('proofread', 1), ('collection.', 1), ('Despite', 1), ('efforts,', 1), ('limited', 2), ('inaccurate', 1), ('corrupt', 1), ('transcription', 1), ('errors,', 1), ('infringement,', 1), ('disk', 1), ('virus,', 1), ('damage', 1), ('1.F.2.', 1), ('WARRANTY,', 1), ('DAMAGES', 2), ('Replacement', 1), ('liability', 1), ('damages,', 1), ('legal', 2), ('FOR', 3), ('NEGLIGENCE,', 1), ('STRICT', 1), ('BREACH', 2), ('CONTRACT', 1), ('PROVIDED', 1), ('TRADEMARK', 1), ('OWNER,', 1), ('UNDER', 1), ('LIABLE', 1), ('ACTUAL,', 1), ('CONSEQUENTIAL,', 1), ('GIVE', 1), ('NOTICE', 1), ('DAMAGE.', 1), ('1.F.3.', 1), ('REPLACEMENT', 1), ('discover', 1), ('(if', 1), ('any)', 1), ('from.', 1), ('lieu', 2), ('refund.', 2), ('electronically', 1), ('demand', 1), ('opportunities', 1), ('‘AS-IS’', 1), ('OTHER', 1), ('KIND,', 1), ('EXPRESS', 1), ('IMPLIED,', 1), ('INCLUDING', 1), ('BUT', 1), ('disclaimers', 1), ('implied', 1), ('damages.', 1), ('violates', 1), ('law', 1), ('interpreted', 1), ('unenforceability', 1), ('provision', 1), ('provisions.', 1), ('INDEMNITY', 1), ('indemnify', 1), ('agent', 1), ('production,', 1), ('promotion', 1), ('liability,', 1), ('arise', 1), ('indirectly', 1), ('alteration,', 1), ('additions', 1), ('deletions', 1), ('cause.', 1), ('Information', 4), ('synonymous', 1), ('widest', 2), ('computers', 1), ('obsolete,', 1), ('exists', 1), ('efforts', 2), ('walks', 1), ('financial', 1), ('assistance', 1), ('need,', 1), ('2001,', 1), ('created', 2), ('permanent', 1), ('generations.', 1), ('4', 1), ('page', 2), ('3.', 1), ('profit', 1), ('501(c)(3)', 2), ('exempt', 2), ('Foundation’s', 3), ('64-6221541.', 1), ('Its', 2), ('letter', 1), ('extent', 1), ('state’s', 1), ('Fairbanks,', 1), ('scattered', 1), ('locations.', 1), ('North', 1), ('Salt', 1), ('Lake', 1), ('84116,', 1), ('(801)', 1), ('Email', 1), ('http://pglaf.org', 2), ('information:', 1), ('Executive', 1), ('gbnewby@pglaf.org', 1), ('Donations', 2), ('machine', 1), ('accessible', 1), ('array', 1), ('equipment', 1), ('($1', 1), ('$5,000)', 1), ('particularly', 1), ('maintaining', 1), ('IRS.', 1), ('regulating', 1), ('charities', 1), ('charitable', 1), ('50', 1), ('Compliance', 1), ('requirements.', 1), ('solicit', 2), ('locations', 1), ('confirmation', 1), ('compliance.', 1), ('SEND', 1), ('DONATIONS', 1), ('visit', 1), ('requirements,', 1), ('prohibition', 1), ('accepting', 1), ('donors', 1), ('approach', 1), ('offers', 1), ('donate.', 1), ('International', 1), ('gratefully', 1), ('accepted,', 1), ('Please', 1), ('current', 1), ('accepted', 1), ('checks,', 1), ('card', 1), ('donations.', 1), ('donate,', 1), ('5.', 1), ('About', 1), ('Professor', 1), ('Hart', 1), ('library', 1), ('anyone.', 1), ('thirty', 1), ('network', 1), ('volunteer', 1), ('confirmed', 1), ('Public', 1), ('Domain', 1), ('start', 1), ('facility:', 1), ('produce', 1), ('subscribe', 1), ('Adventures', 4), ('by', 72), ('This', 20), ('eBook', 5), ('for', 146), ('the', 1664), ('cost', 3), ('and', 780), ('with', 214), ('almost', 8), ('You', 18), ('copy', 8), ('it', 356), ('or', 137), ('under', 21), ('terms', 20), ('Gutenberg', 19), ('License', 8), ('included', 2), ('Title:', 1), ('Wonderland', 2), ('June', 1), ('25,', 1), ('2008', 1), ('[EBook', 1), ('Release', 1), ('March,', 2), ('Updated:', 1), ('October', 1), ('6,', 1), ('encoding:', 1), ('START', 1), ('PROJECT', 4), ('EBOOK', 2), ('IN', 5), ('WONDERLAND', 3), ('THE', 13), ('3.0', 1), ('CHAPTER', 12), ('Alice', 221), ('beginning', 12), ('to', 773), ('get', 43), ('tired', 7), ('on', 148), ('having', 10), ('nothing', 22), ('twice', 1), ('she', 484), ('had', 175), ('peeped', 3), ('conversations', 1), ('what', 86), ('a', 662), ('So', 23), ('considering', 3), ('well', 27), ('could,', 7), ('day', 11), ('made', 29), ('sleepy', 3), ('whether', 11), ('pleasure', 2), ('daisy-chain', 1), ('be', 154), ('up', 83), ('picking', 2), ('Rabbit', 29), ('pink', 1), ('her.', 13), ('There', 21), ('so', 104), ('remarkable', 2), ('that;', 1), ('did', 50), ('much', 41), ('itself,', 4), ('‘Oh', 2), ('dear!', 9), ('I', 260), ('shall', 23), ('late!’', 1), ('(when', 1), ('over', 31), ('that', 226), ('wondered', 1), ('time', 46), ('all', 168), ('natural);', 1), ('actually', 1), ('A', 8), ('WATCH', 1), ('then', 50), ('hurried', 11), ('across', 5), ('either', 6), ('fortunately', 1), ('see', 48), ('In', 6), ('another', 21), ('moment', 21), ('went', 79), ('how', 41), ('again.', 16), ('straight', 2), ('tunnel', 1), ('some', 47), ('way,', 7), ('down,', 12), ('not', 122), ('about', 91), ('herself', 40), ('found', 31), ('deep', 5), ('well.', 2), ('Either', 1), ('fell', 6), ('slowly,', 2), ('plenty', 1), ('going', 26), ('First,', 4), ('coming', 5), ('to,', 7), ('too', 21), ('sides', 4), ('noticed', 7), ('they', 109), ('were', 82), ('here', 14), ('saw', 13), ('pegs.', 1), ('from', 45), ('one', 78), ('‘ORANGE', 1), ('MARMALADE’,', 1), ('great', 39), ('empty:', 1), ('drop', 1), ('herself,', 31), ('‘after', 1), ('such', 45), ('tumbling', 2), ('stairs!', 1), ('How', 9), ('me', 46), ('Why,', 7), ('if', 73), ('off', 38), ('top', 8), ('house!’', 1), ('(Which', 2), ('Would', 3), ('come', 22), ('end!', 1), ('many', 13), ('fallen', 4), ('time?’', 1), ('aloud.', 3), ('somewhere', 1), ('centre', 1), ('earth.', 2), ('see:', 3), ('you', 301), ('see,', 11), ('sort', 17), ('lessons', 4), ('schoolroom,', 1), ('knowledge,', 1), ('listen', 4), ('still', 12), ('practice', 1), ('over)', 1), ('that’s', 13), ('distance--but', 1), ('Latitude', 2), ('Longitude', 2), ('was,', 14), ('words', 14), ('say.)', 1), ('began', 47), ('THROUGH', 1), ('funny', 3), ('it’ll', 6), ('seem', 7), ('among', 12), ('people', 13), ('their', 50), ('heads', 7), ('downward!', 1), ('Antipathies,', 1), ('(she', 9), ('glad', 11), ('WAS', 4), ('time,', 6), ('‘--but', 1), ('know.', 8), ('Zealand', 1), ('spoke--fancy', 1), ('CURTSEYING', 1), ('through', 14), ('could', 63), ('manage', 6), ('‘And', 17), ('ignorant', 1), ('little', 117), ('girl', 3), ('asking!', 1), ('No,', 4), ('ask:', 1), ('written', 9), ('else', 8), ('soon', 23), ('‘Dinah’ll', 1), ('miss', 1), ('should', 29), ('think!’', 1), ('hope', 4), ('remember', 12), ('tea-time.', 1), ('my', 55), ('wish', 22), ('me!', 3), ('mice', 3), ('afraid,', 2), ('might', 27), ('catch', 3), ('bat,', 1), ('mouse,', 3), ('eat', 16), ('bats,', 1), ('wonder?’', 3), ('‘Do', 8), ('bats?’', 1), ('cats?’', 1), ('for,', 2), ('couldn’t', 9), ('answer', 6), ('which', 44), ('dozing', 1), ('off,', 14), ('begun', 6), ('walking', 5), ('hand', 11), ('earnestly,', 1), ('‘Now,', 4), ('bat?’', 1), ('heap', 1), ('dry', 7), ('over.', 2), ('bit', 8), ('jumped', 5), ('feet', 11), ('up,', 10), ('passage,', 2), ('hurrying', 1), ('lost:', 1), ('wind,', 2), ('say,', 5), ('corner,', 2), ('getting!’', 1), ('behind', 12), ('long,', 1), ('hall,', 5), ('lamps', 1), ('roof.', 1), ('doors', 2), ('been', 36), ('side', 12), ('other,', 5), ('every', 12), ('door,', 9), ('sadly', 2), ('wondering', 7), ('Suddenly', 1), ('table,', 5), ('solid', 1), ('except', 4), ('golden', 7), ('first', 28), ('hall;', 1), ('alas!', 2), ('locks', 1), ('key', 5), ('any', 67), ('second', 6), ('door', 15), ('inches', 6), ('fitted!', 1), ('small', 10), ('rat-hole:', 1), ('knelt', 1), ('along', 5), ('passage', 1), ('saw.', 1), ('longed', 2), ('those', 9), ('beds', 1), ('cool', 2), ('through,’', 1), ('‘it', 5), ('without', 32), ('shut', 4), ('telescope!', 1), ('knew', 13), ('begin.’', 3), ('For,', 1), ('lately,', 1), ('few', 10), ('back', 29), ('half', 21), ('hoping', 3), ('find', 20), ('shutting', 2), ('bottle', 7), ('before,’', 3), ('Alice,)', 2), ('paper', 4), ('‘DRINK', 2), ('printed', 3), ('‘Drink', 1), ('me,’', 5), ('wise', 2), ('said,', 26), ('marked', 7), ('“poison”', 1), ('not’;', 1), ('children', 5), ('who', 51), ('burnt,', 1), ('eaten', 1), ('unpleasant', 2), ('because', 12), ('WOULD', 5), ('friends', 2), ('taught', 4), ('them:', 1), ('red-hot', 1), ('poker', 1), ('will', 29), ('burn', 2), ('hold', 7), ('long;', 1), ('your', 62), ('deeply', 1), ('usually', 2), ('forgotten', 6), ('drink', 4), ('‘poison,’', 2), ('disagree', 1), ('you,', 25), ('sooner', 2), ('later.', 1), ('NOT', 7), ('taste', 2), ('finding', 3), ('nice,', 1), ('(it', 4), ('had,', 1), ('fact,', 4), ('flavour', 1), ('cherry-tart,', 1), ('custard,', 1), ('roast', 1), ('turkey,', 1), ('toast,)', 1), ('finished', 7), ('‘What', 32), ('Alice;', 16), ('telescope.’', 1), ('indeed:', 1), ('face', 7), ('waited', 9), ('further:', 1), ('nervous', 4), ('‘for', 6), ('altogether,', 2), ('then?’', 1), ('candle', 2), ('blown', 1), ('After', 5), ('while,', 4), ('happened,', 2), ('once;', 1), ('table', 7), ('possibly', 3), ('reach', 4), ('plainly', 1), ('glass,', 2), ('legs', 3), ('slippery;', 1), ('trying,', 1), ('thing', 35), ('‘Come,', 9), ('that!’', 7), ('generally', 5), ('advice,', 1), ('seldom', 1), ('followed', 8), ('scolded', 1), ('severely', 3), ('remembered', 5), ('box', 3), ('game', 6), ('playing', 2), ('pretending', 1), ('‘But', 19), ('‘to', 4), ('pretend', 1), ('hardly', 11), ('enough', 10), ('left', 13), ('respectable', 1), ('person!’', 1), ('eye', 4), ('lying', 8), ('cake,', 2), ('it,’', 18), ('makes', 12), ('grow', 13), ('can', 37), ('smaller,', 3), ('door;', 1), ('don’t', 48), ('care', 4), ('ate', 1), ('way?', 1), ('growing,', 4), ('remained', 3), ('same', 22), ('happens', 2), ('eats', 1), ('happen,', 1), ('life', 2), ('cake.', 1), ('curiouser!’', 1), ('cried', 18), ('English);', 1), ('opening', 3), ('largest', 1), ('telescope', 1), ('was!', 1), ('Good-bye,', 1), ('feet!’', 1), ('off).', 1), ('‘Oh,', 19), ('stockings', 1), ('now,', 6), ('shan’t', 4), ('able!', 1), ('you:', 1), ('‘or', 5), ('won’t', 21), ('want', 9), ('pair', 5), ('sending', 3), ('odd', 1), ('look!', 1), ('RIGHT', 2), ('FOOT,', 1), ('HEARTHRUG,', 1), ('(WITH', 1), ('dear,', 6), ('talking!’', 1), ('struck', 2), ('roof', 5), ('hall:', 1), ('fact', 2), ('nine', 4), ('door.', 2), ('Poor', 1), ('side,', 3), ('hopeless', 1), ('ashamed', 2), ('‘a', 2), ('this),', 1), ('way!', 1), ('moment,', 5), ('you!’', 3), ('same,', 2), ('shedding', 1), ('gallons', 1), ('pool', 6), ('hall.', 1), ('distance,', 4), ('returning,', 1), ('splendidly', 1), ('white', 6), ('gloves', 5), ('fan', 8), ('other:', 3), ('trotting', 2), ('himself', 4), ('came,', 2), ('‘Oh!', 2), ('Duchess!', 3), ('desperate', 1), ('so,', 7), ('timid', 3), ('voice,', 15), ('‘If', 13), ('please,', 3), ('sir--’', 1), ('skurried', 1), ('darkness', 1), ('hard', 8), ('gloves,', 3), ('and,', 19), ('hall', 1), ('hot,', 1), ('fanning', 1), ('talking:', 1), ('‘Dear,', 1), ('queer', 9), ('to-day!', 1), ('yesterday', 2), ('usual.', 2), ('night?', 1), ('morning?', 1), ('feeling', 6), ('next', 20), ('Who', 6), ('puzzle!’', 1), ('thinking', 10), ('age', 2), ('Ada,’', 1), ('mine', 3), ('doesn’t', 16), ('ringlets', 1), ('Mabel,', 2), ('knows', 2), ('little!', 1), ('I,', 1), ('times', 6), ('five', 1), ('six', 2), ('thirteen,', 1), ('is--oh', 1), ('rate!', 1), ('Table', 1), ('London', 1), ('capital', 4), ('Paris,', 1), ('Paris', 1), ('wrong,', 2), ('certain!', 1), ('Mabel!', 1), ('little--“’', 1), ('hands', 6), ('voice', 17), ('sounded', 5), ('strange,', 1), ('‘How', 15), ('crocodile', 1), ('waters', 1), ('Nile', 1), ('On', 4), ('scale!', 1), ('cheerfully', 1), ('seems', 4), ('grin,', 3), ('spread', 4), ('claws,', 1), ('welcome', 1), ('With', 2), ('jaws!’', 1), ('words,’', 1), ('all,', 3), ('poky', 1), ('house,', 9), ('toys', 1), ('play', 8), ('learn!', 2), ('it;', 9), ('stay', 4), ('“Come', 1), ('“Who', 1), ('then?', 1), ('Tell', 3), ('first,', 7), ('being', 19), ('not,', 9), ('somebody', 3), ('dear!’', 3), ('sudden', 5), ('alone', 3), ('As', 12), ('hands,', 5), ('Rabbit’s', 3), ('while', 15), ('done', 10), ('growing', 6), ('nearly', 11), ('guess,', 1), ('holding,', 1), ('hastily,', 4), ('avoid', 1), ('altogether.', 1), ('narrow', 1), ('ever,’', 2), ('child,', 1), ('never!', 1), ('bad,', 1), ('is!’', 3), ('foot', 5), ('slipped,', 1), ('splash!', 1), ('case', 4), ('herself.', 8), ('general', 3), ('conclusion,', 1), ('number', 7), ('machines', 1), ('sand', 1), ('wooden', 1), ('houses,', 1), ('railway', 1), ('hadn’t', 7), ('swam', 5), ('suppose,', 1), ('drowned', 1), ('tears!', 1), ('WILL', 4), ('thing,', 4), ('sure!', 1), ('splashing', 2), ('walrus', 1), ('Everything', 1), ('talk:', 1), ('trying.’', 1), ('‘O', 1), ('Mouse,', 8), ('pool?', 1), ('Mouse!’', 1), ('speaking', 2), ('mouse:', 1), ('Grammar,', 1), ('‘A', 9), ('mouse--of', 1), ('mouse--a', 1), ('inquisitively,', 1), ('its', 60), ('eyes,', 5), ('nothing.', 3), ('‘Perhaps', 3), ('daresay', 1), ('French', 3), ('William', 3), ('happened.)', 1), ('‘Ou', 1), ('ma', 1), ('chatte?’', 1), ('sentence', 6), ('lesson-book.', 1), ('leap', 1), ('fright.', 1), ('beg', 7), ('pardon!’', 4), ('afraid', 9), ('cats.’', 1), ('shrill,', 2), ('angry', 3), ('show', 3), ('our', 11), ('you’d', 8), ('dear', 6), ('lazily', 1), ('nicely', 2), ('washing', 1), ('soft', 1), ('mice--oh,', 1), ('bristling', 1), ('over,', 2), ('talk', 10), ('not.’', 2), ('trembling', 6), ('Our', 1), ('HATED', 1), ('vulgar', 1), ('things!', 1), ('Don’t', 4), ('again!’', 7), ('‘Are', 4), ('fond--of--of', 1), ('dogs?’', 1), ('‘There', 4), ('dog', 2), ('you!', 2), ('bright-eyed', 1), ('terrier,', 1), ('know,', 7), ('oh,', 3), ('curly', 1), ('brown', 1), ('fetch', 5), ('sit', 5), ('dinner,', 1), ('useful,', 2), ('hundred', 1), ('pounds!', 1), ('He', 14), ('offended', 7), ('For', 12), ('go,', 4), ('commotion', 1), ('went.', 2), ('called', 15), ('softly', 1), ('‘Mouse', 1), ('them!’', 5), ('slowly', 6), ('you’ll', 4), ('dogs.’', 1), ('crowded', 5), ('animals', 3), ('Duck', 1), ('Lory', 3), ('Eaglet,', 1), ('whole', 13), ('party', 8), ('III.', 1), ('Caucus-Race', 1), ('queer-looking', 1), ('assembled', 2), ('draggled', 1), ('feathers,', 1), ('fur', 2), ('dripping', 1), ('wet,', 1), ('course', 11), ('consultation', 1), ('natural', 3), ('familiarly', 1), ('Indeed,', 1), ('argument', 4), ('older', 2), ('better’;', 1), ('knowing', 2), ('old', 14), ('said.', 4), ('‘Sit', 1), ('I’LL', 1), ('enough!’', 1), ('ring,', 2), ('fixed', 1), ('bad', 1), ('soon.', 1), ('‘Ahem!’', 1), ('important', 4), ('‘are', 2), ('ready?', 1), ('please!', 1), ('“William', 1), ('pope,', 1), ('submitted', 1), ('wanted', 4), ('leaders,', 1), ('Morcar,', 2), ('earls', 2), ('shiver.', 1), ('frowning,', 1), ('politely:', 1), ('I!’', 2), ('did,’', 3), ('‘--I', 1), ('“Edwin', 1), ('Northumbria,', 1), ('declared', 1), ('Stigand,', 1), ('patriotic', 1), ('advisable--“’', 1), ('WHAT?’', 3), ('IT,’', 1), ('replied', 14), ('means.’', 1), ('Duck:', 1), ('‘it’s', 8), ('frog', 1), ('worm.', 1), ('find?’', 1), ('notice', 7), ('hurriedly', 2), ('advisable', 1), ('Atheling', 1), ('offer', 2), ('him', 21), ('crown.', 1), ('William’s', 1), ('conduct', 1), ('moderate.', 1), ('insolence', 1), ('Normans--”', 1), ('continued,', 2), ('turning', 12), ('spoke.', 6), ('‘In', 5), ('energetic', 1), ('words,', 1), ('what’s', 2), ('more,', 4), ('either!’', 1), ('bent', 1), ('smile:', 1), ('audibly.', 1), ('Caucus-race?’', 1), ('SOMEBODY', 1), ('speak,', 2), ('anything.', 1), ('‘Why,’', 2), ('explain', 8), ('it.’', 9), ('winter', 1), ('day,', 4), ('it.)', 2), ('First', 2), ('[‘the', 1), ('exact', 1), ('matter,’', 1), ('‘One,', 2), ('three,', 1), ('away,’', 1), ('running', 8), ('liked,', 2), ('easy', 2), ('hour', 2), ('over!’', 3), ('panting,', 2), ('asking,', 1), ('has', 8), ('won?’', 1), ('forehead', 2), ('Shakespeare,', 1), ('silence.', 5), ('prizes?’', 1), ('chorus', 2), ('‘Why,', 8), ('course,’', 5), ('finger;', 1), ('calling', 1), ('‘Prizes!', 1), ('Prizes!’', 1), ('despair', 1), ('pocket,', 2), ('(luckily', 1), ('prizes.', 1), ('gravely.', 1), ('pocket?’', 1), ('‘Only', 2), ('thimble,’', 1), ('sadly.', 2), ('‘Hand', 1), ('here,’', 5), ('Dodo.', 1), ('thimble’;', 1), ('laugh;', 1), ('simply', 2), ('bowed,', 1), ('solemn', 3), ('noise', 3), ('confusion,', 2), ('complained', 1), ('theirs,', 1), ('ones', 1), ('back.', 2), ('last,', 5), ('begged', 1), ('more.', 1), ('D,’', 1), ('‘Mine', 1), ('tale!’', 1), ('sighing.', 1), ('certainly,’', 3), ('Mouse’s', 1), ('tail;', 1), ('‘but', 19), ('sad?’', 1), ('tale', 1), ('met', 4), ('“Let', 1), ('prosecute', 1), ('We', 2), ('morning', 1), ('do.”', 1), ('Said', 4), ('cur,', 1), ('“Such', 1), ('judge,', 3), ('“I’ll', 2), ('jury,”', 1), ('cunning', 1), ('Fury:', 1), ('cause,', 1), ('attending!’', 1), ('of?’', 3), ('pardon,’', 1), ('humbly:', 1), ('fifth', 1), ('bend,', 1), ('think?’', 2), ('knot!’', 1), ('undo', 1), ('it!’', 7), ('sort,’', 1), ('away.', 3), ('nonsense!’', 2), ('offended,', 1), ('growled', 1), ('story!’', 2), ('chorus,', 1), ('please', 9), ('do!’', 3), ('impatiently,', 2), ('quicker.', 1), ('sighed', 5), ('Crab', 1), ('‘Ah,', 2), ('lesson', 1), ('‘Hold', 3), ('Ma!’', 1), ('snappishly.', 1), ('patience', 1), ('oyster!’', 1), ('addressing', 1), ('particular.', 1), ('venture', 3), ('question?’', 1), ('eagerly,', 3), ('‘Dinah’s', 1), ('cat.', 1), ('think!', 1), ('Some', 3), ('once:', 1), ('Magpie', 1), ('itself', 8), ('Canary', 1), ('children,', 3), ('away,', 3), ('dears!', 1), ('bed!’', 1), ('various', 2), ('moved', 4), ('alone.', 1), ('mentioned', 3), ('tone.', 9), ('‘Nobody', 2), ('more!’', 1), ('footsteps', 1), ('mind,', 2), ('story.', 1), ('Sends', 1), ('Little', 1), ('went,', 2), ('paws!', 1), ('whiskers!', 1), ('She’ll', 1), ('executed,', 3), ('ferrets', 1), ('ferrets!', 1), ('Where', 3), ('good-naturedly', 1), ('hunting', 3), ('nowhere', 2), ('since', 4), ('vanished', 3), ('completely.', 1), ('Ann,', 2), ('doing', 3), ('here?', 2), ('Run', 1), ('fan!', 1), ('‘He', 4), ('I’d', 7), ('better', 11), ('neat', 1), ('plate', 2), ('‘W.', 1), ('engraved', 1), ('upstairs,', 1), ('real', 3), ('next!’', 1), ('Come', 4), ('directly,', 1), ('walk!”', 1), ('nurse!', 1), ('out.”', 1), ('Only', 1), ('‘that', 7), ('ordering', 2), ('By', 4), ('window,', 5), ('room,', 1), ('label', 1), ('SOMETHING', 1), ('‘whenever', 1), ('does.', 1), ('expected:', 1), ('drunk', 2), ('pressing', 1), ('ceiling,', 1), ('broken.', 1), ('‘That’s', 14), ('enough--I', 1), ('door--I', 1), ('Alas!', 1), ('that!', 2), ('minute', 15), ('arm', 7), ('curled', 2), ('head.', 5), ('resource,', 1), ('chimney,', 2), ('whatever', 1), ('happens.', 1), ('magic', 1), ('effect,', 1), ('grew', 1), ('unhappy.', 1), ('home,’', 1), ('‘when', 2), ('wasn’t', 11), ('ordered', 2), ('rabbits.', 1), ('gone', 9), ('yet--it’s', 1), ('life!', 1), ('fairy-tales,', 1), ('me,', 3), ('write', 5), ('one--but', 1), ('grown', 7), ('‘at', 2), ('least', 7), ('then,’', 6), ('That’ll', 1), ('comfort,', 1), ('way--never', 1), ('shouldn’t', 5), ('foolish', 1), ('Alice!’', 1), ('learn', 5), ('lesson-books!’', 1), ('taking', 5), ('altogether;', 1), ('‘Mary', 1), ('Ann!', 1), ('Ann!’', 1), ('moment!’', 1), ('stairs.', 1), ('trembled', 2), ('forgetting', 3), ('reason', 8), ('inwards,', 1), ('failure.', 1), ('won’t’', 1), ('hand,', 6), ('crash', 1), ('broken', 5), ('concluded', 2), ('Next', 2), ('Rabbit’s--‘Pat!', 1), ('you?’', 7), ('Digging', 1), ('apples,', 2), ('‘Digging', 1), ('‘Here!', 2), ('THIS!’', 1), ('(Sounds', 1), ('Pat,', 1), ('‘Sure,', 3), ('arm,', 5), ('‘arrum.’)', 1), ('‘An', 1), ('goose!', 1), ('window!’', 1), ('honour:', 1), ('rate:', 1), ('away!’', 2), ('then;', 1), ('glass.', 1), ('cucumber-frames', 1), ('be!’', 1), ('next!', 2), ('pulling', 1), ('COULD!', 1), ('words:', 2), ('ladder?--Why,', 1), ('Bill’s', 3), ('‘em', 3), ('corner--No,', 1), ('tie', 1), ('together', 2), ('enough;', 2), ('Bill!', 3), ('rope--Will', 1), ('bear?--Mind', 1), ('slate--Oh,', 1), ('below!’', 1), ('(a', 1), ('loud', 3), ('shan’t!', 1), ('then!--Bill’s', 1), ('down--Here,', 1), ('he?’', 1), ('place', 7), ('fireplace', 1), ('sure;', 1), ('THINK', 1), ('drew', 5), ('chimney', 2), ('animal', 1), ('‘This', 2), ('sharp', 6), ('Bill!’', 1), ('him,', 4), ('hedge!’', 1), ('silence,', 2), ('voices--‘Hold', 1), ('head--Brandy', 1), ('feeble,', 1), ('squeaking', 2), ('know--No', 1), ('thank', 1), ('you--all', 1), ('comes', 1), ('Jack-in-the-box,', 1), ('‘So', 4), ('fellow!’', 1), ('down!’', 1), ('voice;', 2), ('do.', 2), ('dead', 4), ('If', 17), ('moving', 3), ('barrowful', 2), ('begin', 7), ('with.’', 1), ('doubt,', 2), ('shower', 2), ('hit', 2), ('face.', 3), ('‘I’ll', 5), ('‘You’d', 1), ('surprise', 1), ('lay', 4), ('floor,', 2), ('SOME', 1), ('size;', 1), ('directly.', 1), ('crowd', 4), ('outside.', 1), ('held', 4), ('giving', 2), ('bottle.', 1), ('appeared;', 1), ('wood.', 3), ('do,’', 4), ('wandered', 2), ('wood,', 1), ('‘is', 1), ('plan.’', 1), ('arranged;', 1), ('smallest', 2), ('peering', 1), ('trees,', 2), ('bark', 2), ('An', 4), ('enormous', 1), ('whistle', 1), ('hungry,', 1), ('spite', 1), ('coaxing.', 1), ('air', 2), ('dodged', 1), ('thistle,', 1), ('keep', 10), ('over;', 1), ('appeared', 3), ('tumbled', 1), ('heels', 1), ('trampled', 1), ('thistle', 1), ('forwards', 1), ('each', 8), ('barking', 1), ('hoarsely', 1), ('tongue', 1), ('escape;', 1), ('breath,', 3), ('puppy’s', 1), ('faint', 1), ('distance.', 2), ('leant', 1), ('buttercup', 1), ('fanned', 1), ('leaves:', 1), ('much,', 2), ('it!', 1), ('see--how', 1), ('managed?', 1), ('other;', 2), ('what?’', 2), ('blades', 1), ('height', 4), ('herself;', 4), ('stretched', 2), ('tiptoe,', 2), ('mushroom,', 3), ('immediately', 3), ('arms', 5), ('smoking', 2), ('hookah,', 1), ('V.', 1), ('Advice', 1), ('Caterpillar', 11), ('silence:', 1), ('addressed', 2), ('languid,', 1), ('‘Who', 6), ('YOU?’', 2), ('encouraging', 2), ('replied,', 5), ('‘I--I', 1), ('present--at', 1), ('morning,', 2), ('then.’', 2), ('sternly.', 1), ('sir’', 1), ('‘because', 3), ('myself,', 1), ('see.’', 1), ('haven’t', 7), ('yet,’', 4), ('butterfly,', 1), ('queer,', 1), ('feelings', 1), ('contemptuously.', 2), ('brought', 3), ('gravely,', 2), ('think,', 2), ('first.’', 1), ('Here', 5), ('question;', 1), ('say!’', 1), ('certainly:', 2), ('‘Is', 3), ('swallowing', 1), ('wait,', 1), ('hearing.', 1), ('unfolded', 2), ('changed,', 1), ('things?’', 1), ('DOTH', 1), ('BUSY', 1), ('“YOU', 1), ('FATHER', 2), ('folded', 1), ('William,’', 1), ('man', 1), ('white;', 1), ('head--', 1), ('right?’', 1), ('son,', 1), ('injure', 1), ('brain;', 1), ('But,', 2), ('youth,', 3), ('‘as', 4), ('most', 10), ('fat;', 1), ('Yet', 3), ('back-somersault', 1), ('Pray,', 1), ('sage,', 1), ('limbs', 1), ('supple', 1), ('box--', 1), ('Allow', 1), ('sell', 1), ('jaws', 1), ('weak', 2), ('goose,', 1), ('Pray', 1), ('it?’', 11), ('father,', 1), ('muscular', 1), ('jaw,', 1), ('lasted', 1), ('‘one', 1), ('steady', 1), ('ever;', 1), ('balanced', 1), ('eel', 1), ('questions,', 1), ('yourself', 5), ('airs!', 1), ('Be', 1), ('stairs!’', 1), ('right,’', 3), ('wrong', 2), ('end,’', 1), ('decidedly,', 3), ('be?’', 2), ('size,’', 1), ('replied;', 3), ('changing', 2), ('know.’', 9), ('content', 1), ('Alice:', 7), ('‘three', 1), ('wretched', 2), ('upright', 1), ('offended!’', 1), ('‘You’ll', 2), ('Caterpillar;', 1), ('patiently', 1), ('chose', 1), ('yawned', 2), ('crawled', 1), ('merely', 2), ('‘One', 2), ('taller,', 1), ('WHAT?', 1), ('mushroom,’', 1), ('asked', 8), ('thoughtfully', 1), ('difficult', 2), ('question.', 3), ('broke', 2), ('which?’', 1), ('nibbled', 2), ('right-hand', 1), ('blow', 2), ('foot!', 1), ('lost,', 1), ('bit.', 2), ('foot,', 2), ('mouth;', 1), ('swallow', 1), ('lefthand', 2), ('head’s', 1), ('last!’', 1), ('alarm', 1), ('rise', 1), ('stuff', 1), ('HAVE', 5), ('spoke,', 5), ('follow,', 1), ('serpent.', 1), ('succeeded', 3), ('graceful', 1), ('tops', 1), ('trees', 5), ('hiss', 1), ('hurry:', 1), ('flown', 1), ('face,', 4), ('wings.', 1), ('‘Serpent!’', 1), ('Pigeon.', 2), ('serpent!’', 1), ('indignantly.', 3), ('alone!’', 1), ('‘Serpent,', 1), ('repeated', 8), ('sob,', 1), ('roots', 1), ('hedges,’', 1), ('Pigeon', 5), ('attending', 2), ('her;', 3), ('serpents!', 1), ('puzzled,', 1), ('serpents', 2), ('sleep', 4), ('weeks!’', 1), ('sorry', 1), ('annoyed,’', 1), ('taken', 4), ('highest', 1), ('wood,’', 1), ('raising', 1), ('shriek,', 2), ('wriggling', 1), ('Serpent!’', 1), ('serpent,', 2), ('a--I’m', 1), ('a--’', 1), ('changes', 2), ('day.', 3), ('no!', 2), ('You’re', 2), ('serpent;', 1), ('telling', 2), ('tasted', 2), ('truthful', 1), ('eggs', 1), ('they’re', 9), ('say.’', 2), ('silent', 3), ('does', 4), ('serpent?’', 1), ('hastily;', 1), ('raw.’', 1), ('crouched', 1), ('branches,', 1), ('pieces', 2), ('first;', 2), ('now!', 1), ('are!', 1), ('be,', 1), ('another!', 1), ('beautiful', 8), ('garden--how', 1), ('‘Whoever', 1), ('lives', 1), ('there,’', 2), ('why,', 2), ('frighten', 1), ('wits!’', 1), ('Pig', 1), ('next,', 2), ('livery', 1), ('livery:', 1), ('otherwise,', 1), ('judging', 1), ('fish)--and', 1), ('knuckles.', 1), ('frog;', 1), ('footmen,', 1), ('noticed,', 1), ('crept', 1), ('Fish-Footman', 2), ('producing', 1), ('himself,', 1), ('saying,', 3), ('‘For', 1), ('Duchess.', 3), ('Queen', 34), ('croquet.’', 2), ('Frog-Footman', 1), ('order', 2), ('little,', 3), ('‘From', 1), ('together.', 2), ('laughed', 1), ('gone,', 3), ('staring', 3), ('stupidly', 1), ('sky.', 2), ('‘There’s', 6), ('knocking,’', 2), ('reasons.', 1), ('are;', 1), ('extraordinary', 2), ('constant', 3), ('howling', 3), ('sneezing,', 1), ('dish', 3), ('pieces.', 1), ('‘Please,', 1), ('sense', 1), ('‘if', 7), ('between', 5), ('us.', 1), ('INSIDE,', 1), ('uncivil.', 1), ('‘his', 1), ('remarked,', 2), ('‘till', 2), ('tomorrow--’', 1), ('skimming', 1), ('Footman’s', 1), ('grazed', 1), ('him.', 2), ('‘--or', 1), ('happened.', 1), ('louder', 1), ('Footman.', 1), ('doubt:', 1), ('dreadful,’', 1), ('argue.', 1), ('drive', 1), ('crazy!’', 1), ('repeating', 3), ('remark,', 4), ('variations.', 1), ('‘on', 1), ('‘Anything', 1), ('whistling.', 1), ('him,’', 2), ('desperately:', 1), ('idiotic!’', 1), ('in.', 1), ('smoke', 1), ('baby;', 1), ('cook', 8), ('pepper', 5), ('soup!’', 1), ('Even', 1), ('sneezed', 1), ('occasionally;', 1), ('baby,', 3), ('alternately', 1), ('moment’s', 2), ('kitchen', 2), ('sneeze,', 1), ('cook,', 2), ('hearth', 1), ('grinning', 1), ('timidly,', 4), ('manners', 1), ('Cheshire', 6), ('why.', 1), ('word', 8), ('violence', 1), ('jumped;', 1), ('grinned;', 1), ('can,’', 1), ('Duchess;', 4), ('much,’', 5), ('fact.’', 1), ('introduce', 2), ('While', 6), ('soup', 1), ('throwing', 2), ('within', 5), ('fire-irons', 1), ('plates,', 1), ('baby', 6), ('already,', 1), ('doing!’', 1), ('jumping', 4), ('agony', 1), ('PRECIOUS', 1), ('unusually', 1), ('flew', 1), ('everybody', 5), ('minded', 1), ('faster', 1), ('does.’', 1), ('advantage,’', 1), ('‘Just', 2), ('night!', 1), ('takes', 3), ('twenty-four', 1), ('axis--’', 1), ('‘Talking', 1), ('meant', 4), ('hint;', 1), ('busily', 4), ('soup,', 1), ('hours,', 1), ('twelve?', 1), ('bother', 1), ('figures!’', 1), ('lullaby', 1), ('line:', 1), ('roughly', 1), ('joined):--', 1), ('wow!', 2), ('wow!’', 2), ('sang', 2), ('words:--', 2), ('enjoy', 1), ('pleases!’', 1), ('flinging', 1), ('Queen,’', 1), ('room.', 1), ('frying-pan', 1), ('missed', 2), ('difficulty,', 1), ('queer-shaped', 1), ('‘just', 1), ('star-fish,’', 1), ('snorting', 1), ('steam-engine', 1), ('doubling', 1), ('(which', 1), ('twist', 2), ('knot,', 1), ('undoing', 1), ('‘they’re', 1), ('two:', 1), ('behind?’', 1), ('reply', 1), ('grunt,’', 1), ('yourself.’', 2), ('doubt', 1), ('turn-up', 1), ('also', 3), ('extremely', 1), ('all.', 4), ('dear,’', 1), ('seriously,', 1), ('you.', 1), ('Mind', 1), ('(or', 4), ('which),', 1), ('less', 3), ('absurd', 1), ('dreadfully', 6), ('ugly', 1), ('handsome', 1), ('knew,', 1), ('pigs,', 1), ('bough', 1), ('yards', 1), ('thought:', 1), ('claws', 1), ('teeth,', 1), ('respect.', 1), ('‘Cheshire', 1), ('name:', 1), ('wider.', 1), ('far,’', 2), ('on.', 8), ('here?’', 4), ('to,’', 1), ('Cat.', 5), ('where--’', 1), ('go,’', 2), ('‘--so', 2), ('explanation.', 2), ('that,’', 9), ('Cat,', 7), ('denied,', 1), ('waving', 5), ('paw', 1), ('Hare.', 11), ('mad', 5), ('remarked.', 5), ('Cat:', 2), ('mad.', 2), ('be,’', 3), ('here.’', 2), ('‘To', 1), ('dog’s', 1), ('so,’', 5), ('angry,', 1), ('wag', 1), ('Therefore', 1), ('growling,’', 1), ('‘Call', 4), ('to-day?’', 1), ('invited', 1), ('yet.’', 2), ('been,', 1), ('became', 2), ('‘I’d', 4), ('ask.’', 1), ('would,’', 1), ('Hare', 16), ('hatters', 1), ('March.’', 1), ('branch', 1), ('vanishing', 1), ('giddy.’', 2), ('‘All', 2), ('Cat;', 1), ('ending', 1), ('gone.', 1), ('often', 4), ('grin,’', 1), ('life!’', 2), ('sight', 2), ('Hare:', 1), ('chimneys', 1), ('thatched', 1), ('fur.', 1), ('Hatter', 24), ('instead!’', 1), ('VII.', 1), ('Tea-Party', 1), ('front', 2), ('tea', 5), ('fast', 4), ('resting', 2), ('corner', 1), ('room!', 1), ('No', 2), ('PLENTY', 1), ('arm-chair', 1), ('‘Have', 3), ('wine,’', 2), ('isn’t', 6), ('civil', 2), ('laid', 2), ('three.’', 1), ('cutting,’', 1), ('speech.', 1), ('personal', 2), ('remarks,’', 1), ('wide', 2), ('SAID', 1), ('fun', 1), ('asking', 3), ('least--at', 1), ('eat”', 1), ('get”', 1), ('like”!’', 1), ('breathe', 1), ('ravens', 1), ('break', 1), ('fourth.’', 1), ('‘Two', 2), ('angrily', 2), ('BEST', 2), ('butter,’', 1), ('grumbled:', 1), ('bread-knife.’', 1), ('tea,', 1), ('butter,', 1), ('curiosity.', 3), ('o’clock', 3), ('readily:', 1), ('stays', 1), ('MINE,’', 1), ('puzzled.', 2), ('remark', 3), ('English.', 1), ('poured', 1), ('course;', 1), ('yet?’', 2), ('answer?’', 1), ('slightest', 1), ('I,’', 1), ('wearily.', 1), ('waste', 1), ('answers.’', 1), ('Time', 1), ('IT.', 1), ('don’t!’', 1), ('Time!’', 1), ('‘Ah!', 2), ('beating.', 1), ('Now,', 1), ('lessons:', 1), ('whisper', 1), ('hint', 1), ('clock', 1), ('dinner!’', 1), ('thoughtfully:', 1), ('then--I', 1), ('half-past', 1), ('liked.’', 1), ('manage?’', 1), ('mad,', 1), ('(pointing', 1), ('spoon', 1), ('concert', 1), ('given', 2), ('Hearts,', 5), ('“Twinkle,', 1), ('twinkle,', 3), ('bat!', 1), ('way:--', 1), ('“Up', 1), ('Like', 1), ('Twinkle,', 1), ('twinkle--’', 1), ('stop.', 1), ('bawled', 1), ('“He’s', 1), ('time!', 2), ('savage!’', 1), ('‘he', 2), ('tea-things', 1), ('we’ve', 2), ('wash', 2), ('suppose?’', 2), ('again?’', 2), ('ask.', 1), ('subject,’', 1), ('yawning.', 1), ('this.', 1), ('story.’', 1), ('proposal.', 1), ('Dormouse!’', 1), ('pinched', 2), ('once.', 2), ('feeble', 1), ('voice:', 1), ('fellows', 1), ('done.’', 1), ('sisters,’', 1), ('hurry;', 2), ('Elsie,', 1), ('Lacie,', 1), ('bottom', 4), ('well--’', 1), ('drinking.', 1), ('two.', 1), ('were,’', 1), ('Dormouse;', 2), ('ways', 2), ('puzzled', 5), ('on:', 2), ('well?’', 2), ('earnestly.', 1), ('opinion,’', 1), ('this:', 2), ('helped', 1), ('bread-and-butter,', 2), ('treacle-well.’', 1), ('sh!’', 1), ('sulkily', 2), ('humbly;', 1), ('interrupt', 1), ('ONE.’', 1), ('consented', 1), ('sisters--they', 1), ('time.', 2), ('clean', 1), ('interrupted', 5), ('‘let’s', 1), ('Dormouse’s', 1), ('advantage', 2), ('change:', 1), ('milk-jug', 1), ('plate.', 1), ('cautiously:', 1), ('understand.', 1), ('Hatter;', 1), ('treacle-well--eh,', 1), ('stupid?’', 1), ('remark.', 3), ('were’,', 1), ('interrupting', 2), ('draw,’', 1), ('rubbing', 2), ('sleepy;', 1), ('manner', 1), ('closed', 2), ('woke', 1), ('M,', 1), ('mouse-traps,', 1), ('moon,', 1), ('memory,', 1), ('muchness--you', 1), ('“much', 1), ('muchness”--did', 1), ('‘Really,', 2), ('confused,', 1), ('piece', 5), ('disgust,', 1), ('off;', 1), ('‘At', 1), ('THERE', 1), ('stupidest', 1), ('tea-party', 1), ('curious!’', 1), ('THEN--she', 1), ('flower-beds', 1), ('VIII.', 1), ('rose-tree', 1), ('white,', 1), ('gardeners', 4), ('paint', 1), ('Five,', 3), ('jogged', 1), ('Seven', 3), ('Always', 1), ('talk!’', 1), ('deserved', 1), ('for?’', 2), ('first.', 1), ('tulip-roots', 1), ('onions.’', 1), ('flung', 1), ('unjust', 1), ('checked', 3), ('roses?’', 1), ('Five', 1), ('Two.', 1), ('Miss,', 2), ('rose-tree,', 2), ('mistake;', 1), ('best,', 2), ('to--’', 1), ('Queen!', 1), ('instantly', 3), ('faces.', 1), ('eager', 3), ('carrying', 2), ('clubs;', 1), ('gardeners,', 4), ('oblong', 1), ('flat,', 1), ('corners:', 1), ('royal', 2), ('dears', 1), ('couples:', 1), ('guests,', 1), ('mostly', 1), ('Kings', 1), ('Queens,', 1), ('recognised', 1), ('manner,', 1), ('crown', 2), ('crimson', 2), ('procession,', 2), ('KING', 1), ('AND', 4), ('QUEEN', 1), ('HEARTS.', 1), ('processions;', 1), ('faces,', 2), ('waited.', 2), ('opposite', 1), ('smiled', 2), ('‘Idiot!’', 1), ('name,', 1), ('child?’', 1), ('‘My', 2), ('Majesty,’', 7), ('politely;', 1), ('cards,', 1), ('THESE?’', 1), ('rosetree;', 1), ('backs', 1), ('pack,', 1), ('soldiers,', 2), ('courtiers,', 1), ('know?’', 2), ('courage.', 1), ('MINE.’', 1), ('glaring', 1), ('beast,', 1), ('head!', 1), ('Off--’', 1), ('‘Nonsense!’', 1), ('King', 27), ('dear:', 1), ('up!’', 1), ('Two,', 1), ('humble', 1), ('trying--’', 1), ('meanwhile', 1), ('examining', 1), ('roses.', 1), ('flower-pot', 1), ('near.', 1), ('marched', 1), ('off?’', 1), ('‘Their', 1), ('Majesty!’', 2), ('right!’', 1), ('‘Yes!’', 1), ('roared', 1), ('‘--where’s', 1), ('‘Hush!', 1), ('whispered', 4), ('pity.', 1), ('‘She', 2), ('boxed', 1), ('ears--’', 1), ('began.', 3), ('scream', 1), ('laughter.', 1), ('said--’', 3), ('places!’', 1), ('thunder,', 1), ('hedgehogs,', 1), ('mallets', 1), ('double', 1), ('arches.', 1), ('managing', 1), ('body', 2), ('generally,', 2), ('bursting', 1), ('crawling', 1), ('besides', 1), ('doubled-up', 1), ('parts', 1), ('indeed.', 1), ('turns,', 2), ('quarrelling', 2), ('hedgehogs;', 1), ('stamping', 2), ('uneasy:', 1), ('dispute', 2), ('‘what', 2), ('They’re', 1), ('beheading', 1), ('here;', 1), ('seen,', 1), ('to.’', 1), ('with.', 1), ('appeared,', 3), ('flamingo,', 1), ('game,', 2), ('someone', 1), ('complaining', 1), ('oneself', 1), ('speak--and', 1), ('particular;', 1), ('least,', 1), ('confusing', 2), ('alive;', 1), ('Queen?’', 1), ('all,’', 3), ('listening:', 1), ('‘--likely', 1), ('win,', 1), ('game.’', 1), ('Cat’s', 2), ('friend', 2), ('mine--a', 1), ('‘allow', 1), ('‘however,', 1), ('kiss', 1), ('impertinent,’', 1), ('king,’', 1), ('where.’', 1), ('removed,’', 1), ('passing', 1), ('settling', 1), ('difficulties,', 1), ('small.', 1), ('executioner', 3), ('myself,’', 2), ('screaming', 1), ('hedgehog,', 1), ('helpless', 1), ('sight:', 2), ('arches', 3), ('ground.’', 1), ('collected', 2), ('appealed', 1), ('executioner’s', 1), ('unless', 4), ('from:', 1), ('HIS', 1), ('nonsense.', 1), ('(It', 1), ('HER', 2), ('fading', 1), ('entirely', 2), ('disappeared;', 1), ('game.', 1), ('Turtle’s', 2), ('Story', 1), ('affectionately', 1), ('pleasant', 1), ('kitchen.', 1), ('I’M', 1), ('(not', 1), ('hopeful', 1), ('though),', 1), ('AT', 1), ('ALL.', 1), ('Soup', 4), ('without--Maybe', 1), ('rule,', 1), ('vinegar', 1), ('sour--and', 1), ('camomile', 1), ('barley-sugar', 1), ('forget', 2), ('talk.', 1), ('moral', 6), ('hasn’t', 2), ('‘Everything’s', 1), ('squeezed', 1), ('closer', 1), ('keeping', 4), ('ugly;', 1), ('shoulder,', 1), ('chin.', 2), ('rude,', 1), ('bore', 1), ('game’s', 1), ('little.', 1), ('‘’Tis', 2), ('is--“Oh,', 1), ('‘tis', 2), ('love,', 2), ('said,’', 1), ('minding', 1), ('themselves.”’', 1), ('morals', 1), ('things!’', 4), ('waist,’', 1), ('flamingo.', 1), ('Shall', 1), ('experiment?’', 1), ('‘HE', 1), ('bite,’', 1), ('true,’', 1), ('‘flamingoes', 1), ('mustard', 2), ('bite.', 1), ('flock', 1), ('bird,’', 1), ('is,’', 2), ('agree', 9), ('is--“The', 1), ('mine,', 1), ('yours.”’', 1), ('attended', 1), ('be”--or', 1), ('simply--“Never', 1), ('imagine', 1), ('otherwise', 2), ('otherwise.”’', 1), ('follow', 2), ('‘Pray', 1), ('trouble!’', 1), ('present', 1), ('cheap', 1), ('birthday', 1), ('‘Thinking', 1), ('worried.', 1), ('pigs', 1), ('fly;', 1), ('m--’', 1), ('surprise,', 2), ('Duchess’s', 3), ('died', 1), ('favourite', 1), ('frowning', 3), ('thunderstorm.', 1), ('fair', 1), ('spoke;', 1), ('‘either', 1), ('Take', 1), ('choice!’', 1), ('choice,', 1), ('moment.', 1), ('word,', 2), ('absence,', 1), ('All', 3), ('Those', 1), ('whom', 2), ('left,', 1), ('Turtle', 33), ('from,’', 1), ('company', 1), ('ordered.', 1), ('Gryphon,', 14), ('(IF', 1), ('lazy', 1), ('Turtle,', 8), ('leaving', 1), ('Gryphon.', 15), ('Queen:', 1), ('eyes:', 1), ('watched', 2), ('chuckled.', 1), ('fun!’', 1), ('fun?’', 1), ('fancy,', 2), ('executes', 1), ('nobody,', 2), ('‘Everybody', 1), ('“come', 1), ('on!”', 1), ('never!’', 1), ('ledge', 1), ('pitied', 1), ('sorrow,', 1), ('‘she', 1), ('her,’', 1), ('finished.’', 1), ('EVEN', 2), ('patiently.', 1), ('‘Once,’', 1), ('Turtle.’', 1), ('exclamation', 1), ('‘Hjckrrh!’', 1), ('Turtle.', 9), ('story,’', 1), ('little,’', 1), ('calmly,', 1), ('Tortoise', 1), ('us,’', 1), ('angrily:', 1), ('‘really', 1), ('Gryphon;', 1), ('sink', 1), ('‘Drive', 1), ('fellow!', 1), ('mayn’t', 1), ('tongue!’', 2), ('day--’', 1), ('‘I’VE', 1), ('too,’', 1), ('proud', 2), ('anxiously.', 1), ('‘Yes,’', 3), ('learned', 1), ('‘Certainly', 1), ('school,’', 1), ('music,', 1), ('WASHING--extra.”’', 1), ('sea.’', 1), ('sigh.', 1), ('inquired', 1), ('‘Reeling', 1), ('Uglification,', 1), ('say.', 1), ('surprise.', 2), ('beautify', 1), ('doubtfully:', 1), ('simpleton.’', 1), ('subjects', 1), ('‘--Mystery,', 1), ('Drawling--the', 1), ('conger-eel,', 1), ('Fainting', 1), ('Coils.’', 1), ('said:', 3), ('stiff.', 1), ('‘Hadn’t', 1), ('Gryphon:', 3), ('Classics', 1), ('master,', 1), ('though.', 1), ('crab,', 1), ('was.’', 1), ('Grief,', 1), ('hid', 1), ('faces', 2), ('paws.', 1), ('lessons?’', 1), ('day,’', 1), ('remarked:', 1), ('lessen', 1), ('day.’', 1), ('eagerly.', 1), ('‘tell', 1), ('X.', 1), ('Lobster', 4), ('bone', 1), ('throat,’', 1), ('punching', 1), ('cheeks,', 1), ('sea--’', 1), ('haven’t,’', 1), ('never’)', 1), ('delightful', 2), ('dance', 2), ('sea-shore--’', 1), ('lines!’', 1), ('‘Seals,', 1), ('turtles,', 1), ('cleared', 1), ('way--’', 1), ('‘--you', 1), ('advance', 1), ('twice--’', 1), ('‘Each', 1), ('lobsters,', 3), ('retire', 1), ('order,’', 1), ('‘Then,', 1), ('bound', 3), ('‘--as', 1), ('‘Swim', 1), ('capering', 1), ('about.', 1), ('‘Change', 1), ('lobsters', 3), ('yelled', 1), ('land', 1), ('creatures,', 1), ('quietly,', 1), ('figure!’', 1), ('sing,’', 1), ('words.’', 1), ('sadly:--', 1), ('faster?”', 1), ('porpoise', 1), ('us,', 2), ('he’s', 1), ('See', 3), ('eagerly', 3), ('turtles', 1), ('shingle--will', 1), ('“You', 2), ('far!”', 1), ('kindly,', 1), ('‘“What', 1), ('“There', 2), ('England', 1), ('France--', 1), ('watch,’', 1), ('song', 1), ('dinn--’', 1), ('Dinn', 1), ('like.’', 1), ('mouths--and', 1), ('crumbs,’', 1), ('‘crumbs', 1), ('mouths;', 1), ('thrown', 1), ('mouths.', 1), ('That’s', 1), ('interesting.', 1), ('before.’', 1), ('whiting?’', 1), ('DOES', 1), ('BOOTS', 1), ('SHOES.’', 1), ('with?’', 1), ('shiny?’', 1), ('‘They’re', 2), ('‘Boots', 1), ('whiting.', 1), ('‘Soles', 1), ('‘any', 1), ('thoughts', 2), ('please:', 1), ('us!”’', 1), ('obliged', 3), ('‘no', 1), ('porpoise.’', 1), ('‘Wouldn’t', 1), ('ME,', 1), ('“With', 1), ('“purpose”?’', 1), ('adventures.’', 1), ('morning,’', 1), ('timidly:', 1), ('‘explanations', 1), ('mouths', 1), ('gained', 1), ('courage', 1), ('listeners', 1), ('part', 5), ('curious.’', 1), ('“‘TIS', 1), ('lessons!’', 1), ('Quadrille,', 1), ('indeed:--', 1), ('Lobster;', 1), ('brown,', 1), ('Trims', 1), ('buttons,', 1), ('[later', 2), ('editions', 5), ('sands', 1), ('dry,', 1), ('gay', 1), ('lark,', 1), ('contemptuous', 1), ('tones', 2), ('Shark,', 1), ('rises', 1), ('around,', 1), ('His', 1), ('tremulous', 1), ('sound.]', 1), ('child,’', 1), ('Turtle;', 1), ('uncommon', 1), ('explained,’', 1), ('‘Go', 2), ('verse.’', 1), ('persisted.', 1), ('dancing.’', 1), ('garden.”’', 1), ('voice:--', 1), ('marked,', 1), ('Panther', 3), ('pie--’', 1), ('gravy,', 1), ('finished,', 2), ('kindly', 1), ('pocket', 1), ('received', 6), ('knife', 1), ('banquet--]', 1), ('heard!’', 1), ('off,’', 1), ('‘Shall', 1), ('‘Hm!', 1), ('accounting', 1), ('tastes!', 1), ('Sing', 1), ('“Turtle', 1), ('Soup,”', 1), ('Soup,', 1), ('rich', 1), ('green,', 1), ('tureen!', 1), ('dainties', 1), ('evening,', 2), ('Soup!', 4), ('Beautiful,', 3), ('fish,', 1), ('dish?', 1), ('beauti--FUL', 1), ('SOUP!’', 1), ('trial’s', 3), ('faster,', 1), ('faintly', 1), ('breeze', 1), ('Soup!’', 1), ('Stole', 1), ('Hearts', 1), ('standing', 1), ('chains,', 1), ('other.', 2), ('court', 5), ('tarts', 3), ('them--‘I', 1), ('done,’', 2), ('refreshments!’', 1), ('justice', 1), ('judge,’', 1), ('King;', 3), ('wore', 1), ('(look', 1), ('becoming.', 1), ('jury-box,’', 1), ('creatures,’', 1), ('‘creatures,’', 1), ('animals,', 1), ('too,', 1), ('‘jury-men’', 1), ('jurors', 3), ('slates.', 1), ('names,’', 1), ('trial.’', 1), ('court!’', 1), ('spectacles', 1), ('shoulders,', 1), ('spell', 1), ('‘stupid,’', 1), ('neighbour', 1), ('pencil', 1), ('squeaked.', 1), ('stand,', 1), ('juror', 1), ('day;', 1), ('‘Herald,', 1), ('accusation!’', 1), ('King.', 12), ('trumpet,', 2), ('tarts,', 3), ('day:', 1), ('stole', 1), ('‘Consider', 2), ('yet!’', 1), ('‘First', 1), ('witness!’', 2), ('pardon,', 1), ('in:', 2), ('finished,’', 1), ('begin?’', 1), ('court,', 5), ('arm-in-arm', 1), ('‘Sixteenth,’', 1), ('‘Write', 1), ('wrote', 3), ('reduced', 1), ('shillings', 1), ('hat,’', 1), ('mine,’', 1), ('exclaimed,', 1), ('memorandum', 1), ('fact.', 1), ('sell,’', 1), ('explanation;', 1), ('hatter.’', 1), ('evidence,’', 3), ('encourage', 1), ('all:', 2), ('sensation,', 1), ('court;', 1), ('remain', 2), ('squeeze', 1), ('meekly:', 1), ('‘You’ve', 1), ('boldly:', 1), ('too.’', 1), ('reasonable', 2), ('Dormouse:', 1), ('ridiculous', 1), ('fashion.’', 1), ('court.', 3), ('‘Bring', 1), ('list', 2), ('singers', 1), ('man,', 2), ('‘--and', 2), ('so--and', 1), ('tea--’', 1), ('T!’', 1), ('sharply.', 1), ('man,’', 1), ('deny', 2), ('denies', 1), ('‘leave', 1), ('part.’', 1), ('denied', 1), ('‘After', 1), ('remember,’', 2), ('remarked', 1), ('executed.’', 1), ('miserable', 2), ('knee.', 1), ('speaker,’', 1), ('guinea-pigs', 1), ('cheered,', 2), ('suppressed', 3), ('(As', 1), ('strings:', 1), ('trials,', 1), ('attempts', 1), ('applause,', 1), ('lower,’', 1), ('SIT', 1), ('suppressed.', 1), ('better.’', 1), ('reading', 3), ('outside,’', 1), ('cook.', 3), ('‘Shan’t,’', 1), ('witness.’', 2), ('must,’', 1), ('folding', 1), ('‘Pepper,', 1), ('shrieked', 1), ('Dormouse!', 1), ('court!', 1), ('‘Never', 1), ('mind!’', 1), ('witness.', 1), ('ache!’', 1), ('list,', 1), ('YET,’', 1), ('shrill', 3), ('Evidence', 1), ('flurry', 1), ('tipped', 1), ('skirt,', 1), ('jurymen', 2), ('globe', 1), ('goldfish', 2), ('before.', 2), ('BEG', 1), ('dismay,', 1), ('accident', 1), ('jury-box,', 2), ('die.', 1), ('proceed,’', 1), ('‘until', 1), ('places--ALL,’', 1), ('emphasis,', 1), ('haste,', 1), ('Lizard', 2), ('unable', 1), ('move.', 1), ('signifies', 1), ('other.’', 1), ('pencils', 1), ('history', 1), ('accident,', 1), ('overcome', 1), ('gazing', 1), ('‘Nothing', 3), ('WHATEVER?’', 1), ('persisted', 1), ('whatever,’', 1), ('‘UNimportant,', 2), ('respectful', 1), ('meant,’', 1), ('best.', 1), ('‘important,’', 1), ('‘unimportant.’', 1), ('‘Silence!’', 1), ('Forty-two.', 1), ('ALL', 2), ('MILE', 1), ('‘I’M', 1), ('high,’', 2), ('are,’', 1), ('‘Nearly', 1), ('rate,’', 1), ('‘besides,', 1), ('rule:', 1), ('invented', 1), ('note-book', 1), ('prisoner', 1), ('to--to', 1), ('‘unless', 1), ('directed', 2), ('Rabbit;', 1), ('OUTSIDE.’', 1), ('verses.’', 1), ('handwriting?’', 1), ('queerest', 1), ('imitated', 1), ('again.)', 1), ('prove', 1), ('did:', 1), ('signed', 2), ('honest', 1), ('clever', 1), ('about!’', 1), ('‘Read', 1), ('spectacles.', 1), ('end:', 1), ('swim.', 1), ('returned', 1), ('trusts', 1), ('Exactly', 1), ('My', 1), ('obstacle', 1), ('Him,', 1), ('ourselves,', 1), ('Between', 1), ('jury--’', 1), ('sixpence.', 1), ('‘SHE', 1), ('paper.', 1), ('spreading', 1), ('swim,', 1), ('Knave.', 1), ('cardboard.)', 1), ('himself:', 1), ('KNOW', 1), ('IT', 1), ('TRUE--”', 1), ('course--“I', 1), ('ONE,', 1), ('HIM', 2), ('TWO--”', 1), ('FROM', 1), ('YOU,”’', 1), ('are!’', 1), ('clearer', 1), ('SHE', 1), ('FIT--”', 1), ('fits,', 1), ('‘Never!’', 1), ('furiously,', 1), ('finger,', 1), ('smile.', 1), ('pun!’', 1), ('laughed,', 1), ('afterwards.’', 1), ('‘Stuff', 1), ('loudly.', 1), ('purple.', 1), ('won’t!’', 1), ('Nobody', 1), ('anger,', 1), ('fluttered', 1), ('dream!’', 1), ('tea;', 1), ('ran,', 1), ('setting', 1), ('sun,', 1), ('Adventures,', 1), ('hers--she', 1), ('wandering', 1), ('listened,', 1), ('alive', 1), ('sister’s', 1), ('rustled', 1), ('pool--she', 1), ('shared', 2), ('pig-baby', 1), ('Lizard’s', 1), ('slate-pencil,', 1), ('choking', 1), ('rustling', 1), ('sheep-bells,', 1), ('shepherd', 1), ('boy--and', 1), ('noises,', 1), ('knew)', 1), ('clamour', 1), ('busy', 1), ('would,', 1), ('after-time,', 1), ('keep,', 1), ('ago:', 1), ('remembering', 1), ('child-life,', 1), ('happy', 1), ('days.', 1), ('END', 2), ('*****', 2), ('file', 2), ('11-0.txt', 1), ('associated', 7), ('http://www.gutenberg.org/1/11/', 1), ('previous', 1), ('one--the', 1), ('works', 22), ('Foundation', 14), ('distribute', 5), ('permission', 6), ('forth', 8), ('Terms', 2), ('license,', 2), ('apply', 1), ('distributing', 6), ('electronic', 27), ('protect', 2), ('concept', 2), ('trademark,', 3), ('receive', 3), ('copies', 7), ('purpose', 1), ('creation', 1), ('derivative', 3), ('performances', 1), ('research.', 1), ('away--you', 1), ('practically', 1), ('ANYTHING', 1), ('trademark', 3), ('START:', 1), ('READ', 1), ('BEFORE', 1), ('OR', 6), ('WORK', 1), ('To', 4), ('Full', 1), ('(available', 1), ('Section', 7), ('1.A.', 1), ('accept', 1), ('license', 1), ('intellectual', 2), ('property', 2), ('agreement.', 3), ('agreement,', 6), ('return', 3), ('destroy', 2), ('obtaining', 2), ('access', 10), ('Gutenberg”', 4), ('lot', 1), ('preserve', 1), ('future', 3), ('works.', 5), ('1.C.', 1), ('Archive', 13), ('(“the', 1), ('compilation', 1), ('States.', 4), ('located', 4), ('States,', 2), ('distributing,', 1), ('performing,', 3), ('displaying', 2), ('removed.', 1), ('attached', 1), ('laws', 7), ('Copyright', 1), ('change.', 1), ('outside', 3), ('addition', 1), ('displaying,', 2), ('concerning', 2), ('status', 4), ('Unless', 1), ('1.E.1.', 2), ('whenever', 1), ('associated)', 1), ('accessed,', 1), ('displayed,', 1), ('performed,', 1), ('viewed,', 1), ('distributed:', 1), ('contain', 2), ('indicating', 1), ('posted', 5), ('holder),', 1), ('distributed', 3), ('redistributing', 1), ('paragraphs', 3), ('1.E.1', 3), ('1.E.7', 2), ('1.E.8', 2), ('1.E.3.', 1), ('holder,', 1), ('imposed', 1), ('Additional', 1), ('unlink', 1), ('detach', 1), ('containing', 1), ('Gutenberg-tm.', 1), ('1.E.5.', 1), ('display,', 1), ('1.E.6.', 1), ('including', 7), ('processing', 1), ('hypertext', 1), ('form.', 2), ('Vanilla', 2), ('ASCII”', 2), ('web', 3), ('(www.gutenberg.org),', 1), ('cost,', 1), ('exporting', 1), ('request,', 1), ('original', 1), ('alternate', 1), ('specified', 2), ('1.E.7.', 1), ('viewing,', 1), ('provided', 3), ('-', 7), ('royalty', 1), ('20%', 1), ('profits', 1), ('calculated', 1), ('method', 1), ('applicable', 3), ('owed', 1), ('agreed', 1), ('royalties', 1), ('Foundation.', 1), ('Royalty', 2), ('payments', 3), ('date', 2), ('legally', 1), ('required', 1), ('prepare)', 1), ('periodic', 1), ('clearly', 1), ('address', 1), ('donations', 11), ('user', 2), ('notifies', 1), ('30', 1), ('receipt', 2), ('require', 1), ('possessed', 1), ('physical', 2), ('discontinue', 1), ('accordance', 2), ('1.F.3,', 3), ('replacement', 3), ('defect', 2), ('discovered', 1), ('90', 2), ('Contact', 1), ('3', 2), ('employees', 2), ('considerable', 2), ('effort', 1), ('stored,', 1), ('“Defects,”', 1), ('incomplete,', 1), ('data,', 1), ('defective', 2), ('damaged', 1), ('medium,', 2), ('computer', 2), ('codes', 1), ('equipment.', 2), ('LIMITED', 3), ('DISCLAIMER', 1), ('Except', 2), ('“Right', 1), ('Refund”', 1), ('described', 1), ('Foundation,', 4), ('disclaim', 1), ('costs', 2), ('expenses,', 2), ('fees.', 1), ('AGREE', 2), ('REMEDIES', 1), ('LIABILITY,', 1), ('WARRANTY', 1), ('EXCEPT', 1), ('THOSE', 1), ('PARAGRAPH', 1), ('F3.', 1), ('FOUNDATION,', 1), ('ANY', 3), ('DISTRIBUTOR', 1), ('AGREEMENT', 1), ('DIRECT,', 1), ('INDIRECT,', 1), ('PUNITIVE', 1), ('INCIDENTAL', 1), ('IF', 1), ('POSSIBILITY', 1), ('SUCH', 1), ('REFUND', 1), ('receiving', 1), ('explanation', 1), ('elect', 1), ('electronically,', 1), ('choose', 1), ('defective,', 1), ('problem.', 1), ('1.F.4.', 1), ('WITH', 1), ('WARRANTIES', 2), ('MERCHANTIBILITY', 1), ('FITNESS', 1), ('PURPOSE.', 1), ('1.F.5.', 1), ('states', 4), ('warranties', 1), ('exclusion', 1), ('limitation', 3), ('types', 1), ('disclaimer', 2), ('maximum', 1), ('law.', 1), ('invalidity', 1), ('void', 1), ('1.F.6.', 1), ('owner,', 1), ('employee', 1), ('harmless', 1), ('fees,', 1), ('directly', 1), ('occur:', 1), ('(a)', 1), ('(b)', 1), ('modification,', 1), ('(c)', 1), ('Defect', 1), ('2.', 1), ('Mission', 1), ('readable', 2), ('variety', 1), ('middle-aged', 1), ('computers.', 1), ('hundreds', 1), ('Volunteers', 1), ('critical', 1), ('Gutenberg-tm’s', 1), ('goals', 1), ('ensuring', 1), ('available', 1), ('generations', 1), ('come.', 1), ('secure', 1), ('help,', 1), ('Sections', 1), ('http://www.pglaf.org.', 1), ('non', 1), ('educational', 1), ('corporation', 1), ('organized', 1), ('Mississippi', 1), ('granted', 1), ('Internal', 1), ('Revenue', 1), ('Service.', 1), ('EIN', 1), ('federal', 2), ('identification', 1), ('http://pglaf.org/fundraising.', 1), ('Contributions', 1), ('deductible', 1), ('U.S.', 3), ('laws.', 1), ('principal', 1), ('office', 2), ('4557', 1), ('Melan', 1), ('Dr.', 2), ('S.', 2), ('AK,', 1), ('99712.,', 1), ('throughout', 1), ('numerous', 1), ('809', 1), ('1500', 1), ('West,', 1), ('City,', 1), ('UT', 1), ('596-1887,', 1), ('email', 2), ('business@pglaf.org.', 1), ('contact', 3), ('information', 2), ('Gregory', 1), ('B.', 1), ('Newby', 1), ('Chief', 1), ('Director', 1), ('4.', 1), ('survive', 1), ('increasing', 1), ('licensed', 1), ('outdated', 1), ('Many', 1), ('committed', 1), ('uniform', 1), ('effort,', 1), ('paperwork', 1), ('determine', 1), ('contributions', 1), ('solicitation', 1), ('unsolicited', 1), ('statements', 1), ('treatment', 1), ('swamp', 1), ('staff.', 1), ('Web', 3), ('pages', 1), ('donation', 1), ('methods', 1), ('addresses.', 1), ('credit', 1), ('visit:', 1), ('http://pglaf.org/donate', 1), ('originator', 1), ('eBooks', 3), ('support.', 1), ('editions,', 1), ('included.', 1), ('Thus,', 1), ('necessarily', 1), ('edition.', 1), ('Most', 1), ('main', 1), ('PG', 1), ('http://www.gutenberg.org', 1), ('includes', 1), ('Gutenberg-tm,', 1), ('newsletter', 1)]\n"
     ]
    }
   ],
   "source": [
    "import urllib.request\n",
    "urllib.request.urlretrieve(\"http://ceiba.ntu.edu.tw/course/4671ea/content/alice_in_wonderland.txt\",\"alice.txt\")\n",
    "text_file = sc.textFile(\"alice.txt\")\n",
    "counts = text_file.flatMap(lambda line: line.split(\" \")) \\\n",
    "             .map(lambda word: (word, 1)) \\\n",
    "             .reduceByKey(lambda a, b: a + b)\n",
    "print(counts.collect())\n",
    "#counts.saveAsTextFile(\"alice_results.txt\")"
   ]
  },
  {
   "cell_type": "markdown",
   "metadata": {},
   "source": [
    "### 4.3 Spark SQL & DataFrame\n",
    "See more info <a href=\"https://spark.apache.org/docs/latest/api/python/pyspark.sql.html#pyspark.sql.DataFrame\">here</a>."
   ]
  },
  {
   "cell_type": "code",
   "execution_count": 36,
   "metadata": {},
   "outputs": [
    {
     "name": "stdout",
     "output_type": "stream",
     "text": [
      "     sepal length (cm)  sepal width (cm)  petal length (cm)  petal width (cm)  \\\n",
      "0                  5.1               3.5                1.4               0.2   \n",
      "1                  4.9               3.0                1.4               0.2   \n",
      "2                  4.7               3.2                1.3               0.2   \n",
      "3                  4.6               3.1                1.5               0.2   \n",
      "4                  5.0               3.6                1.4               0.2   \n",
      "5                  5.4               3.9                1.7               0.4   \n",
      "6                  4.6               3.4                1.4               0.3   \n",
      "7                  5.0               3.4                1.5               0.2   \n",
      "8                  4.4               2.9                1.4               0.2   \n",
      "9                  4.9               3.1                1.5               0.1   \n",
      "10                 5.4               3.7                1.5               0.2   \n",
      "11                 4.8               3.4                1.6               0.2   \n",
      "12                 4.8               3.0                1.4               0.1   \n",
      "13                 4.3               3.0                1.1               0.1   \n",
      "14                 5.8               4.0                1.2               0.2   \n",
      "15                 5.7               4.4                1.5               0.4   \n",
      "16                 5.4               3.9                1.3               0.4   \n",
      "17                 5.1               3.5                1.4               0.3   \n",
      "18                 5.7               3.8                1.7               0.3   \n",
      "19                 5.1               3.8                1.5               0.3   \n",
      "20                 5.4               3.4                1.7               0.2   \n",
      "21                 5.1               3.7                1.5               0.4   \n",
      "22                 4.6               3.6                1.0               0.2   \n",
      "23                 5.1               3.3                1.7               0.5   \n",
      "24                 4.8               3.4                1.9               0.2   \n",
      "25                 5.0               3.0                1.6               0.2   \n",
      "26                 5.0               3.4                1.6               0.4   \n",
      "27                 5.2               3.5                1.5               0.2   \n",
      "28                 5.2               3.4                1.4               0.2   \n",
      "29                 4.7               3.2                1.6               0.2   \n",
      "..                 ...               ...                ...               ...   \n",
      "120                6.9               3.2                5.7               2.3   \n",
      "121                5.6               2.8                4.9               2.0   \n",
      "122                7.7               2.8                6.7               2.0   \n",
      "123                6.3               2.7                4.9               1.8   \n",
      "124                6.7               3.3                5.7               2.1   \n",
      "125                7.2               3.2                6.0               1.8   \n",
      "126                6.2               2.8                4.8               1.8   \n",
      "127                6.1               3.0                4.9               1.8   \n",
      "128                6.4               2.8                5.6               2.1   \n",
      "129                7.2               3.0                5.8               1.6   \n",
      "130                7.4               2.8                6.1               1.9   \n",
      "131                7.9               3.8                6.4               2.0   \n",
      "132                6.4               2.8                5.6               2.2   \n",
      "133                6.3               2.8                5.1               1.5   \n",
      "134                6.1               2.6                5.6               1.4   \n",
      "135                7.7               3.0                6.1               2.3   \n",
      "136                6.3               3.4                5.6               2.4   \n",
      "137                6.4               3.1                5.5               1.8   \n",
      "138                6.0               3.0                4.8               1.8   \n",
      "139                6.9               3.1                5.4               2.1   \n",
      "140                6.7               3.1                5.6               2.4   \n",
      "141                6.9               3.1                5.1               2.3   \n",
      "142                5.8               2.7                5.1               1.9   \n",
      "143                6.8               3.2                5.9               2.3   \n",
      "144                6.7               3.3                5.7               2.5   \n",
      "145                6.7               3.0                5.2               2.3   \n",
      "146                6.3               2.5                5.0               1.9   \n",
      "147                6.5               3.0                5.2               2.0   \n",
      "148                6.2               3.4                5.4               2.3   \n",
      "149                5.9               3.0                5.1               1.8   \n",
      "\n",
      "     Species  \n",
      "0          0  \n",
      "1          0  \n",
      "2          0  \n",
      "3          0  \n",
      "4          0  \n",
      "5          0  \n",
      "6          0  \n",
      "7          0  \n",
      "8          0  \n",
      "9          0  \n",
      "10         0  \n",
      "11         0  \n",
      "12         0  \n",
      "13         0  \n",
      "14         0  \n",
      "15         0  \n",
      "16         0  \n",
      "17         0  \n",
      "18         0  \n",
      "19         0  \n",
      "20         0  \n",
      "21         0  \n",
      "22         0  \n",
      "23         0  \n",
      "24         0  \n",
      "25         0  \n",
      "26         0  \n",
      "27         0  \n",
      "28         0  \n",
      "29         0  \n",
      "..       ...  \n",
      "120        2  \n",
      "121        2  \n",
      "122        2  \n",
      "123        2  \n",
      "124        2  \n",
      "125        2  \n",
      "126        2  \n",
      "127        2  \n",
      "128        2  \n",
      "129        2  \n",
      "130        2  \n",
      "131        2  \n",
      "132        2  \n",
      "133        2  \n",
      "134        2  \n",
      "135        2  \n",
      "136        2  \n",
      "137        2  \n",
      "138        2  \n",
      "139        2  \n",
      "140        2  \n",
      "141        2  \n",
      "142        2  \n",
      "143        2  \n",
      "144        2  \n",
      "145        2  \n",
      "146        2  \n",
      "147        2  \n",
      "148        2  \n",
      "149        2  \n",
      "\n",
      "[150 rows x 5 columns]\n"
     ]
    }
   ],
   "source": [
    "import pandas\n",
    "from sklearn import datasets\n",
    "iris = datasets.load_iris()\n",
    "features = pandas.DataFrame(iris.data, columns = iris.feature_names)\n",
    "targets = pandas.DataFrame(iris.target, columns = ['Species'])\n",
    "merged = pandas.concat([features, targets], axis = 1)\n",
    "print(merged)"
   ]
  },
  {
   "cell_type": "code",
   "execution_count": 37,
   "metadata": {},
   "outputs": [
    {
     "name": "stdout",
     "output_type": "stream",
     "text": [
      "+-----------------+----------------+-----------------+----------------+-------+\n",
      "|sepal length (cm)|sepal width (cm)|petal length (cm)|petal width (cm)|Species|\n",
      "+-----------------+----------------+-----------------+----------------+-------+\n",
      "|              5.1|             3.5|              1.4|             0.2|      0|\n",
      "|              4.9|             3.0|              1.4|             0.2|      0|\n",
      "|              4.7|             3.2|              1.3|             0.2|      0|\n",
      "|              4.6|             3.1|              1.5|             0.2|      0|\n",
      "|              5.0|             3.6|              1.4|             0.2|      0|\n",
      "+-----------------+----------------+-----------------+----------------+-------+\n",
      "only showing top 5 rows\n",
      "\n",
      "+-----------------+----------------+-----------------+----------------+-------+-----------------+-----+\n",
      "|sepal length (cm)|sepal width (cm)|petal length (cm)|petal width (cm)|Species|         features|label|\n",
      "+-----------------+----------------+-----------------+----------------+-------+-----------------+-----+\n",
      "|              5.1|             3.5|              1.4|             0.2|      0|[5.1,3.5,1.4,0.2]|  0.0|\n",
      "|              4.9|             3.0|              1.4|             0.2|      0|[4.9,3.0,1.4,0.2]|  0.0|\n",
      "|              4.7|             3.2|              1.3|             0.2|      0|[4.7,3.2,1.3,0.2]|  0.0|\n",
      "|              4.6|             3.1|              1.5|             0.2|      0|[4.6,3.1,1.5,0.2]|  0.0|\n",
      "|              5.0|             3.6|              1.4|             0.2|      0|[5.0,3.6,1.4,0.2]|  0.0|\n",
      "+-----------------+----------------+-----------------+----------------+-------+-----------------+-----+\n",
      "only showing top 5 rows\n",
      "\n"
     ]
    }
   ],
   "source": [
    "# Prepare Spark Dataframe:\n",
    "from pyspark.sql import SQLContext\n",
    "from pyspark.ml.feature import RFormula\n",
    "\n",
    "sqlContext = SQLContext(sc)\n",
    "raw_df = sqlContext.createDataFrame(merged) # Spark Dataframe\n",
    "raw_df.show(5)\n",
    "fomula = RFormula(formula = 'Species ~ .')\n",
    "raw_df = fomula.fit(raw_df).transform(raw_df)\n",
    "raw_df.show(5)\n",
    "train_df, test_df = raw_df.randomSplit([0.8, 0.2])"
   ]
  },
  {
   "cell_type": "markdown",
   "metadata": {},
   "source": [
    "### 4.4 Spark MLlib"
   ]
  },
  {
   "cell_type": "markdown",
   "metadata": {},
   "source": [
    "### 4.4.1 Unsupervised Learning"
   ]
  },
  {
   "cell_type": "code",
   "execution_count": 38,
   "metadata": {},
   "outputs": [
    {
     "name": "stdout",
     "output_type": "stream",
     "text": [
      "{'data': array([[5.1, 3.5, 1.4, 0.2],\n",
      "       [4.9, 3. , 1.4, 0.2],\n",
      "       [4.7, 3.2, 1.3, 0.2],\n",
      "       [4.6, 3.1, 1.5, 0.2],\n",
      "       [5. , 3.6, 1.4, 0.2],\n",
      "       [5.4, 3.9, 1.7, 0.4],\n",
      "       [4.6, 3.4, 1.4, 0.3],\n",
      "       [5. , 3.4, 1.5, 0.2],\n",
      "       [4.4, 2.9, 1.4, 0.2],\n",
      "       [4.9, 3.1, 1.5, 0.1],\n",
      "       [5.4, 3.7, 1.5, 0.2],\n",
      "       [4.8, 3.4, 1.6, 0.2],\n",
      "       [4.8, 3. , 1.4, 0.1],\n",
      "       [4.3, 3. , 1.1, 0.1],\n",
      "       [5.8, 4. , 1.2, 0.2],\n",
      "       [5.7, 4.4, 1.5, 0.4],\n",
      "       [5.4, 3.9, 1.3, 0.4],\n",
      "       [5.1, 3.5, 1.4, 0.3],\n",
      "       [5.7, 3.8, 1.7, 0.3],\n",
      "       [5.1, 3.8, 1.5, 0.3],\n",
      "       [5.4, 3.4, 1.7, 0.2],\n",
      "       [5.1, 3.7, 1.5, 0.4],\n",
      "       [4.6, 3.6, 1. , 0.2],\n",
      "       [5.1, 3.3, 1.7, 0.5],\n",
      "       [4.8, 3.4, 1.9, 0.2],\n",
      "       [5. , 3. , 1.6, 0.2],\n",
      "       [5. , 3.4, 1.6, 0.4],\n",
      "       [5.2, 3.5, 1.5, 0.2],\n",
      "       [5.2, 3.4, 1.4, 0.2],\n",
      "       [4.7, 3.2, 1.6, 0.2],\n",
      "       [4.8, 3.1, 1.6, 0.2],\n",
      "       [5.4, 3.4, 1.5, 0.4],\n",
      "       [5.2, 4.1, 1.5, 0.1],\n",
      "       [5.5, 4.2, 1.4, 0.2],\n",
      "       [4.9, 3.1, 1.5, 0.2],\n",
      "       [5. , 3.2, 1.2, 0.2],\n",
      "       [5.5, 3.5, 1.3, 0.2],\n",
      "       [4.9, 3.6, 1.4, 0.1],\n",
      "       [4.4, 3. , 1.3, 0.2],\n",
      "       [5.1, 3.4, 1.5, 0.2],\n",
      "       [5. , 3.5, 1.3, 0.3],\n",
      "       [4.5, 2.3, 1.3, 0.3],\n",
      "       [4.4, 3.2, 1.3, 0.2],\n",
      "       [5. , 3.5, 1.6, 0.6],\n",
      "       [5.1, 3.8, 1.9, 0.4],\n",
      "       [4.8, 3. , 1.4, 0.3],\n",
      "       [5.1, 3.8, 1.6, 0.2],\n",
      "       [4.6, 3.2, 1.4, 0.2],\n",
      "       [5.3, 3.7, 1.5, 0.2],\n",
      "       [5. , 3.3, 1.4, 0.2],\n",
      "       [7. , 3.2, 4.7, 1.4],\n",
      "       [6.4, 3.2, 4.5, 1.5],\n",
      "       [6.9, 3.1, 4.9, 1.5],\n",
      "       [5.5, 2.3, 4. , 1.3],\n",
      "       [6.5, 2.8, 4.6, 1.5],\n",
      "       [5.7, 2.8, 4.5, 1.3],\n",
      "       [6.3, 3.3, 4.7, 1.6],\n",
      "       [4.9, 2.4, 3.3, 1. ],\n",
      "       [6.6, 2.9, 4.6, 1.3],\n",
      "       [5.2, 2.7, 3.9, 1.4],\n",
      "       [5. , 2. , 3.5, 1. ],\n",
      "       [5.9, 3. , 4.2, 1.5],\n",
      "       [6. , 2.2, 4. , 1. ],\n",
      "       [6.1, 2.9, 4.7, 1.4],\n",
      "       [5.6, 2.9, 3.6, 1.3],\n",
      "       [6.7, 3.1, 4.4, 1.4],\n",
      "       [5.6, 3. , 4.5, 1.5],\n",
      "       [5.8, 2.7, 4.1, 1. ],\n",
      "       [6.2, 2.2, 4.5, 1.5],\n",
      "       [5.6, 2.5, 3.9, 1.1],\n",
      "       [5.9, 3.2, 4.8, 1.8],\n",
      "       [6.1, 2.8, 4. , 1.3],\n",
      "       [6.3, 2.5, 4.9, 1.5],\n",
      "       [6.1, 2.8, 4.7, 1.2],\n",
      "       [6.4, 2.9, 4.3, 1.3],\n",
      "       [6.6, 3. , 4.4, 1.4],\n",
      "       [6.8, 2.8, 4.8, 1.4],\n",
      "       [6.7, 3. , 5. , 1.7],\n",
      "       [6. , 2.9, 4.5, 1.5],\n",
      "       [5.7, 2.6, 3.5, 1. ],\n",
      "       [5.5, 2.4, 3.8, 1.1],\n",
      "       [5.5, 2.4, 3.7, 1. ],\n",
      "       [5.8, 2.7, 3.9, 1.2],\n",
      "       [6. , 2.7, 5.1, 1.6],\n",
      "       [5.4, 3. , 4.5, 1.5],\n",
      "       [6. , 3.4, 4.5, 1.6],\n",
      "       [6.7, 3.1, 4.7, 1.5],\n",
      "       [6.3, 2.3, 4.4, 1.3],\n",
      "       [5.6, 3. , 4.1, 1.3],\n",
      "       [5.5, 2.5, 4. , 1.3],\n",
      "       [5.5, 2.6, 4.4, 1.2],\n",
      "       [6.1, 3. , 4.6, 1.4],\n",
      "       [5.8, 2.6, 4. , 1.2],\n",
      "       [5. , 2.3, 3.3, 1. ],\n",
      "       [5.6, 2.7, 4.2, 1.3],\n",
      "       [5.7, 3. , 4.2, 1.2],\n",
      "       [5.7, 2.9, 4.2, 1.3],\n",
      "       [6.2, 2.9, 4.3, 1.3],\n",
      "       [5.1, 2.5, 3. , 1.1],\n",
      "       [5.7, 2.8, 4.1, 1.3],\n",
      "       [6.3, 3.3, 6. , 2.5],\n",
      "       [5.8, 2.7, 5.1, 1.9],\n",
      "       [7.1, 3. , 5.9, 2.1],\n",
      "       [6.3, 2.9, 5.6, 1.8],\n",
      "       [6.5, 3. , 5.8, 2.2],\n",
      "       [7.6, 3. , 6.6, 2.1],\n",
      "       [4.9, 2.5, 4.5, 1.7],\n",
      "       [7.3, 2.9, 6.3, 1.8],\n",
      "       [6.7, 2.5, 5.8, 1.8],\n",
      "       [7.2, 3.6, 6.1, 2.5],\n",
      "       [6.5, 3.2, 5.1, 2. ],\n",
      "       [6.4, 2.7, 5.3, 1.9],\n",
      "       [6.8, 3. , 5.5, 2.1],\n",
      "       [5.7, 2.5, 5. , 2. ],\n",
      "       [5.8, 2.8, 5.1, 2.4],\n",
      "       [6.4, 3.2, 5.3, 2.3],\n",
      "       [6.5, 3. , 5.5, 1.8],\n",
      "       [7.7, 3.8, 6.7, 2.2],\n",
      "       [7.7, 2.6, 6.9, 2.3],\n",
      "       [6. , 2.2, 5. , 1.5],\n",
      "       [6.9, 3.2, 5.7, 2.3],\n",
      "       [5.6, 2.8, 4.9, 2. ],\n",
      "       [7.7, 2.8, 6.7, 2. ],\n",
      "       [6.3, 2.7, 4.9, 1.8],\n",
      "       [6.7, 3.3, 5.7, 2.1],\n",
      "       [7.2, 3.2, 6. , 1.8],\n",
      "       [6.2, 2.8, 4.8, 1.8],\n",
      "       [6.1, 3. , 4.9, 1.8],\n",
      "       [6.4, 2.8, 5.6, 2.1],\n",
      "       [7.2, 3. , 5.8, 1.6],\n",
      "       [7.4, 2.8, 6.1, 1.9],\n",
      "       [7.9, 3.8, 6.4, 2. ],\n",
      "       [6.4, 2.8, 5.6, 2.2],\n",
      "       [6.3, 2.8, 5.1, 1.5],\n",
      "       [6.1, 2.6, 5.6, 1.4],\n",
      "       [7.7, 3. , 6.1, 2.3],\n",
      "       [6.3, 3.4, 5.6, 2.4],\n",
      "       [6.4, 3.1, 5.5, 1.8],\n",
      "       [6. , 3. , 4.8, 1.8],\n",
      "       [6.9, 3.1, 5.4, 2.1],\n",
      "       [6.7, 3.1, 5.6, 2.4],\n",
      "       [6.9, 3.1, 5.1, 2.3],\n",
      "       [5.8, 2.7, 5.1, 1.9],\n",
      "       [6.8, 3.2, 5.9, 2.3],\n",
      "       [6.7, 3.3, 5.7, 2.5],\n",
      "       [6.7, 3. , 5.2, 2.3],\n",
      "       [6.3, 2.5, 5. , 1.9],\n",
      "       [6.5, 3. , 5.2, 2. ],\n",
      "       [6.2, 3.4, 5.4, 2.3],\n",
      "       [5.9, 3. , 5.1, 1.8]]), 'target': array([0, 0, 0, 0, 0, 0, 0, 0, 0, 0, 0, 0, 0, 0, 0, 0, 0, 0, 0, 0, 0, 0,\n",
      "       0, 0, 0, 0, 0, 0, 0, 0, 0, 0, 0, 0, 0, 0, 0, 0, 0, 0, 0, 0, 0, 0,\n",
      "       0, 0, 0, 0, 0, 0, 1, 1, 1, 1, 1, 1, 1, 1, 1, 1, 1, 1, 1, 1, 1, 1,\n",
      "       1, 1, 1, 1, 1, 1, 1, 1, 1, 1, 1, 1, 1, 1, 1, 1, 1, 1, 1, 1, 1, 1,\n",
      "       1, 1, 1, 1, 1, 1, 1, 1, 1, 1, 1, 1, 2, 2, 2, 2, 2, 2, 2, 2, 2, 2,\n",
      "       2, 2, 2, 2, 2, 2, 2, 2, 2, 2, 2, 2, 2, 2, 2, 2, 2, 2, 2, 2, 2, 2,\n",
      "       2, 2, 2, 2, 2, 2, 2, 2, 2, 2, 2, 2, 2, 2, 2, 2, 2, 2]), 'target_names': array(['setosa', 'versicolor', 'virginica'], dtype='<U10'), 'DESCR': '.. _iris_dataset:\\n\\nIris plants dataset\\n--------------------\\n\\n**Data Set Characteristics:**\\n\\n    :Number of Instances: 150 (50 in each of three classes)\\n    :Number of Attributes: 4 numeric, predictive attributes and the class\\n    :Attribute Information:\\n        - sepal length in cm\\n        - sepal width in cm\\n        - petal length in cm\\n        - petal width in cm\\n        - class:\\n                - Iris-Setosa\\n                - Iris-Versicolour\\n                - Iris-Virginica\\n                \\n    :Summary Statistics:\\n\\n    ============== ==== ==== ======= ===== ====================\\n                    Min  Max   Mean    SD   Class Correlation\\n    ============== ==== ==== ======= ===== ====================\\n    sepal length:   4.3  7.9   5.84   0.83    0.7826\\n    sepal width:    2.0  4.4   3.05   0.43   -0.4194\\n    petal length:   1.0  6.9   3.76   1.76    0.9490  (high!)\\n    petal width:    0.1  2.5   1.20   0.76    0.9565  (high!)\\n    ============== ==== ==== ======= ===== ====================\\n\\n    :Missing Attribute Values: None\\n    :Class Distribution: 33.3% for each of 3 classes.\\n    :Creator: R.A. Fisher\\n    :Donor: Michael Marshall (MARSHALL%PLU@io.arc.nasa.gov)\\n    :Date: July, 1988\\n\\nThe famous Iris database, first used by Sir R.A. Fisher. The dataset is taken\\nfrom Fisher\\'s paper. Note that it\\'s the same as in R, but not as in the UCI\\nMachine Learning Repository, which has two wrong data points.\\n\\nThis is perhaps the best known database to be found in the\\npattern recognition literature.  Fisher\\'s paper is a classic in the field and\\nis referenced frequently to this day.  (See Duda & Hart, for example.)  The\\ndata set contains 3 classes of 50 instances each, where each class refers to a\\ntype of iris plant.  One class is linearly separable from the other 2; the\\nlatter are NOT linearly separable from each other.\\n\\n.. topic:: References\\n\\n   - Fisher, R.A. \"The use of multiple measurements in taxonomic problems\"\\n     Annual Eugenics, 7, Part II, 179-188 (1936); also in \"Contributions to\\n     Mathematical Statistics\" (John Wiley, NY, 1950).\\n   - Duda, R.O., & Hart, P.E. (1973) Pattern Classification and Scene Analysis.\\n     (Q327.D83) John Wiley & Sons.  ISBN 0-471-22361-1.  See page 218.\\n   - Dasarathy, B.V. (1980) \"Nosing Around the Neighborhood: A New System\\n     Structure and Classification Rule for Recognition in Partially Exposed\\n     Environments\".  IEEE Transactions on Pattern Analysis and Machine\\n     Intelligence, Vol. PAMI-2, No. 1, 67-71.\\n   - Gates, G.W. (1972) \"The Reduced Nearest Neighbor Rule\".  IEEE Transactions\\n     on Information Theory, May 1972, 431-433.\\n   - See also: 1988 MLC Proceedings, 54-64.  Cheeseman et al\"s AUTOCLASS II\\n     conceptual clustering system finds 3 classes in the data.\\n   - Many, many more ...', 'feature_names': ['sepal length (cm)', 'sepal width (cm)', 'petal length (cm)', 'petal width (cm)'], 'filename': '/Users/tren/anaconda3/lib/python3.7/site-packages/sklearn/datasets/data/iris.csv'}\n"
     ]
    },
    {
     "data": {
      "text/plain": [
       "[array([5.9016129 , 2.7483871 , 4.39354839, 1.43387097]),\n",
       " array([5.006, 3.428, 1.462, 0.246]),\n",
       " array([6.85      , 3.07368421, 5.74210526, 2.07105263])]"
      ]
     },
     "execution_count": 38,
     "metadata": {},
     "output_type": "execute_result"
    }
   ],
   "source": [
    "from pyspark.mllib.clustering import *\n",
    "print(iris)\n",
    "rdd=sc.parallelize(iris.data)\n",
    "model=KMeans.train(rdd,3)\n",
    "model.clusterCenters"
   ]
  },
  {
   "cell_type": "markdown",
   "metadata": {},
   "source": [
    "### 4.4.2 Supervised Learning"
   ]
  },
  {
   "cell_type": "code",
   "execution_count": 39,
   "metadata": {},
   "outputs": [],
   "source": [
    "# training:\n",
    "from pyspark.ml.classification import *\n",
    "clf=LogisticRegression()\n",
    "model = clf.fit(train_df)"
   ]
  },
  {
   "cell_type": "code",
   "execution_count": 40,
   "metadata": {},
   "outputs": [
    {
     "name": "stdout",
     "output_type": "stream",
     "text": [
      "+-----------------+----------------+-----------------+----------------+-------+-----------------+-----+--------------------+-------------+----------+\n",
      "|sepal length (cm)|sepal width (cm)|petal length (cm)|petal width (cm)|Species|         features|label|       rawPrediction|  probability|prediction|\n",
      "+-----------------+----------------+-----------------+----------------+-------+-----------------+-----+--------------------+-------------+----------+\n",
      "|              4.4|             2.9|              1.4|             0.2|      0|[4.4,2.9,1.4,0.2]|  0.0|[3952.96056696346...|[1.0,0.0,0.0]|       0.0|\n",
      "|              4.4|             3.2|              1.3|             0.2|      0|[4.4,3.2,1.3,0.2]|  0.0|[5256.47242683079...|[1.0,0.0,0.0]|       0.0|\n",
      "|              4.8|             3.4|              1.6|             0.2|      0|[4.8,3.4,1.6,0.2]|  0.0|[5185.27359064195...|[1.0,0.0,0.0]|       0.0|\n",
      "|              5.0|             3.0|              1.6|             0.2|      0|[5.0,3.0,1.6,0.2]|  0.0|[3374.60201781215...|[1.0,0.0,0.0]|       0.0|\n",
      "|              5.0|             3.3|              1.4|             0.2|      0|[5.0,3.3,1.4,0.2]|  0.0|[4803.62364979847...|[1.0,0.0,0.0]|       0.0|\n",
      "+-----------------+----------------+-----------------+----------------+-------+-----------------+-----+--------------------+-------------+----------+\n",
      "only showing top 5 rows\n",
      "\n"
     ]
    }
   ],
   "source": [
    "# testing:\n",
    "prediction = model.transform(test_df)\n",
    "prediction.show(5)"
   ]
  },
  {
   "cell_type": "code",
   "execution_count": 41,
   "metadata": {},
   "outputs": [
    {
     "name": "stdout",
     "output_type": "stream",
     "text": [
      "+-----+----------+\n",
      "|label|prediction|\n",
      "+-----+----------+\n",
      "|  0.0|       0.0|\n",
      "|  0.0|       0.0|\n",
      "|  0.0|       0.0|\n",
      "|  0.0|       0.0|\n",
      "|  0.0|       0.0|\n",
      "|  0.0|       0.0|\n",
      "|  0.0|       0.0|\n",
      "|  0.0|       0.0|\n",
      "|  0.0|       0.0|\n",
      "|  1.0|       1.0|\n",
      "|  1.0|       1.0|\n",
      "|  1.0|       1.0|\n",
      "|  1.0|       1.0|\n",
      "|  1.0|       1.0|\n",
      "|  1.0|       1.0|\n",
      "|  1.0|       1.0|\n",
      "|  2.0|       2.0|\n",
      "|  1.0|       1.0|\n",
      "|  1.0|       1.0|\n",
      "|  2.0|       1.0|\n",
      "+-----+----------+\n",
      "only showing top 20 rows\n",
      "\n"
     ]
    }
   ],
   "source": [
    "prediction.select(\"label\",\"prediction\").show()"
   ]
  }
 ],
 "metadata": {
  "kernelspec": {
   "display_name": "Python 3",
   "language": "python",
   "name": "python3"
  },
  "language_info": {
   "codemirror_mode": {
    "name": "ipython",
    "version": 3
   },
   "file_extension": ".py",
   "mimetype": "text/x-python",
   "name": "python",
   "nbconvert_exporter": "python",
   "pygments_lexer": "ipython3",
   "version": "3.6.5"
  }
 },
 "nbformat": 4,
 "nbformat_minor": 2
}
